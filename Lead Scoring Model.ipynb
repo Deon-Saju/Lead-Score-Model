{
 "cells": [
  {
   "cell_type": "code",
   "execution_count": 1,
   "id": "ebcc23dd",
   "metadata": {},
   "outputs": [],
   "source": [
    "import pandas as pd\n",
    "import numpy as np\n",
    "import re"
   ]
  },
  {
   "cell_type": "code",
   "execution_count": 2,
   "id": "7f1d76d0",
   "metadata": {},
   "outputs": [],
   "source": [
    "import matplotlib.pyplot as plt\n",
    "import seaborn as sns"
   ]
  },
  {
   "cell_type": "code",
   "execution_count": 3,
   "id": "66c9b1fb",
   "metadata": {},
   "outputs": [],
   "source": [
    "df = pd.read_csv(r\"D:\\SJC\\datasets\\dump.csv\",encoding=\"ISO-8859-1\")"
   ]
  },
  {
   "cell_type": "code",
   "execution_count": 4,
   "id": "24d99036",
   "metadata": {},
   "outputs": [
    {
     "data": {
      "text/html": [
       "<div>\n",
       "<style scoped>\n",
       "    .dataframe tbody tr th:only-of-type {\n",
       "        vertical-align: middle;\n",
       "    }\n",
       "\n",
       "    .dataframe tbody tr th {\n",
       "        vertical-align: top;\n",
       "    }\n",
       "\n",
       "    .dataframe thead th {\n",
       "        text-align: right;\n",
       "    }\n",
       "</style>\n",
       "<table border=\"1\" class=\"dataframe\">\n",
       "  <thead>\n",
       "    <tr style=\"text-align: right;\">\n",
       "      <th></th>\n",
       "      <th>Unnamed: 0</th>\n",
       "      <th>Agent_id</th>\n",
       "      <th>status</th>\n",
       "      <th>lost_reason</th>\n",
       "      <th>budget</th>\n",
       "      <th>lease</th>\n",
       "      <th>movein</th>\n",
       "      <th>source</th>\n",
       "      <th>source_city</th>\n",
       "      <th>source_country</th>\n",
       "      <th>utm_source</th>\n",
       "      <th>utm_medium</th>\n",
       "      <th>des_city</th>\n",
       "      <th>des_country</th>\n",
       "      <th>room_type</th>\n",
       "      <th>lead_id</th>\n",
       "    </tr>\n",
       "  </thead>\n",
       "  <tbody>\n",
       "    <tr>\n",
       "      <th>0</th>\n",
       "      <td>0</td>\n",
       "      <td>1deba9e96f404694373de9749ddd1ca8aa7bb823145a6f...</td>\n",
       "      <td>LOST</td>\n",
       "      <td>Not responding</td>\n",
       "      <td>NaN</td>\n",
       "      <td>NaN</td>\n",
       "      <td>NaN</td>\n",
       "      <td>9b2d5b4678781e53038e91ea5324530a03f27dc1d0e5f6...</td>\n",
       "      <td>9b2d5b4678781e53038e91ea5324530a03f27dc1d0e5f6...</td>\n",
       "      <td>9b2d5b4678781e53038e91ea5324530a03f27dc1d0e5f6...</td>\n",
       "      <td>3d59f7548e1af2151b64135003ce63c0a484c26b9b8b16...</td>\n",
       "      <td>268ad70eb5bc4737a2ae28162cbca30118cc94520e49ef...</td>\n",
       "      <td>ecc0e7dc084f141b29479058967d0bc07dee25d9690a98...</td>\n",
       "      <td>8d23a6e37e0a6431a8f1b43a91026dcff51170a89a6512...</td>\n",
       "      <td>NaN</td>\n",
       "      <td>cd5dc0d9393f3980d11d4ba6f88f8110c2b7a7f7796307...</td>\n",
       "    </tr>\n",
       "    <tr>\n",
       "      <th>1</th>\n",
       "      <td>1</td>\n",
       "      <td>299ae77a4ef350ae0dd37d6bba1c002d03444fb1edb236...</td>\n",
       "      <td>LOST</td>\n",
       "      <td>Low budget</td>\n",
       "      <td>NaN</td>\n",
       "      <td>NaN</td>\n",
       "      <td>NaN</td>\n",
       "      <td>9b2d5b4678781e53038e91ea5324530a03f27dc1d0e5f6...</td>\n",
       "      <td>9b2d5b4678781e53038e91ea5324530a03f27dc1d0e5f6...</td>\n",
       "      <td>9b2d5b4678781e53038e91ea5324530a03f27dc1d0e5f6...</td>\n",
       "      <td>3d59f7548e1af2151b64135003ce63c0a484c26b9b8b16...</td>\n",
       "      <td>268ad70eb5bc4737a2ae28162cbca30118cc94520e49ef...</td>\n",
       "      <td>5372372f3bf5896820cb2819300c3e681820d82c6efc54...</td>\n",
       "      <td>8d23a6e37e0a6431a8f1b43a91026dcff51170a89a6512...</td>\n",
       "      <td>NaN</td>\n",
       "      <td>b94693673a5f7178d1b114e4004ad52377d3244dd24a3d...</td>\n",
       "    </tr>\n",
       "    <tr>\n",
       "      <th>2</th>\n",
       "      <td>2</td>\n",
       "      <td>c213697430c006013012dd2aca82dd9732aa0a1a6bca13...</td>\n",
       "      <td>LOST</td>\n",
       "      <td>Not responding</td>\n",
       "      <td>£121 - £180 Per Week</td>\n",
       "      <td>Full Year Course Stay 40 - 44 weeks</td>\n",
       "      <td>31-08-2022</td>\n",
       "      <td>7aae3e886e89fc1187a5c47d6cea1c22998ee610ade1f2...</td>\n",
       "      <td>9b8cc3c63cdf447e463c11544924bf027945cbd29675f7...</td>\n",
       "      <td>e09e10e67812e9d236ad900e5d46b4308fc62f5d69446a...</td>\n",
       "      <td>bbdefa2950f49882f295b1285d4fa9dec45fc4144bfb07...</td>\n",
       "      <td>09076eb7665d1fb9389c7c4517fee0b00e43092eb34821...</td>\n",
       "      <td>11ab03a1a8c367191355c152f39fe28cae5e426fce49ef...</td>\n",
       "      <td>8d23a6e37e0a6431a8f1b43a91026dcff51170a89a6512...</td>\n",
       "      <td>Ensuite</td>\n",
       "      <td>96ea4e2bf04496c044745938c0299c264c3f4ba079e572...</td>\n",
       "    </tr>\n",
       "    <tr>\n",
       "      <th>3</th>\n",
       "      <td>3</td>\n",
       "      <td>eac9815a500f908736d303e23aa227f0957177b0e6756b...</td>\n",
       "      <td>LOST</td>\n",
       "      <td>Low budget</td>\n",
       "      <td>0-0</td>\n",
       "      <td>0</td>\n",
       "      <td>NaN</td>\n",
       "      <td>ba2d0a29556ac20f86f45e4543c0825428cba33fd7a9ea...</td>\n",
       "      <td>a5f0d2d08eb0592087e3a3a2f9c1ba2c67cc30f2efd2bd...</td>\n",
       "      <td>e09e10e67812e9d236ad900e5d46b4308fc62f5d69446a...</td>\n",
       "      <td>bbdefa2950f49882f295b1285d4fa9dec45fc4144bfb07...</td>\n",
       "      <td>09076eb7665d1fb9389c7c4517fee0b00e43092eb34821...</td>\n",
       "      <td>19372fa44c57a01c37a5a8418779ca3d99b0b59731fb35...</td>\n",
       "      <td>8d23a6e37e0a6431a8f1b43a91026dcff51170a89a6512...</td>\n",
       "      <td>NaN</td>\n",
       "      <td>1d2b34d8add02a182a4129023766ca4585a8ddced0e5b3...</td>\n",
       "    </tr>\n",
       "    <tr>\n",
       "      <th>4</th>\n",
       "      <td>4</td>\n",
       "      <td>1deba9e96f404694373de9749ddd1ca8aa7bb823145a6f...</td>\n",
       "      <td>LOST</td>\n",
       "      <td>Junk lead</td>\n",
       "      <td>NaN</td>\n",
       "      <td>NaN</td>\n",
       "      <td>NaN</td>\n",
       "      <td>9b2d5b4678781e53038e91ea5324530a03f27dc1d0e5f6...</td>\n",
       "      <td>9b2d5b4678781e53038e91ea5324530a03f27dc1d0e5f6...</td>\n",
       "      <td>9b2d5b4678781e53038e91ea5324530a03f27dc1d0e5f6...</td>\n",
       "      <td>3d59f7548e1af2151b64135003ce63c0a484c26b9b8b16...</td>\n",
       "      <td>268ad70eb5bc4737a2ae28162cbca30118cc94520e49ef...</td>\n",
       "      <td>9b2d5b4678781e53038e91ea5324530a03f27dc1d0e5f6...</td>\n",
       "      <td>9b2d5b4678781e53038e91ea5324530a03f27dc1d0e5f6...</td>\n",
       "      <td>NaN</td>\n",
       "      <td>fc10fffd29cfbe93c55158fb47752a7501c211d253468c...</td>\n",
       "    </tr>\n",
       "    <tr>\n",
       "      <th>...</th>\n",
       "      <td>...</td>\n",
       "      <td>...</td>\n",
       "      <td>...</td>\n",
       "      <td>...</td>\n",
       "      <td>...</td>\n",
       "      <td>...</td>\n",
       "      <td>...</td>\n",
       "      <td>...</td>\n",
       "      <td>...</td>\n",
       "      <td>...</td>\n",
       "      <td>...</td>\n",
       "      <td>...</td>\n",
       "      <td>...</td>\n",
       "      <td>...</td>\n",
       "      <td>...</td>\n",
       "      <td>...</td>\n",
       "    </tr>\n",
       "    <tr>\n",
       "      <th>46603</th>\n",
       "      <td>46603</td>\n",
       "      <td>2306878a9ad9b57686cd623dd285aaa9b25afdf627f651...</td>\n",
       "      <td>LOST</td>\n",
       "      <td>Low availability</td>\n",
       "      <td>£60 - £120 Per week</td>\n",
       "      <td>Complete Education Year Stay 50 - 52 weeks</td>\n",
       "      <td>01-09-2022</td>\n",
       "      <td>9b2d5b4678781e53038e91ea5324530a03f27dc1d0e5f6...</td>\n",
       "      <td>7d1550b844ff586a6023216c06263105eed0a849a2a1f6...</td>\n",
       "      <td>8da82000ef9c4468ba47362a924b895e40662fed846942...</td>\n",
       "      <td>bbdefa2950f49882f295b1285d4fa9dec45fc4144bfb07...</td>\n",
       "      <td>09076eb7665d1fb9389c7c4517fee0b00e43092eb34821...</td>\n",
       "      <td>13d4b96b6ee361b737e22404aeecca45f322ba7d4c2c42...</td>\n",
       "      <td>8d23a6e37e0a6431a8f1b43a91026dcff51170a89a6512...</td>\n",
       "      <td>Studio</td>\n",
       "      <td>1aaa4a4a9092e4c0eabf958ed9aea59c50d8ea3f08f691...</td>\n",
       "    </tr>\n",
       "    <tr>\n",
       "      <th>46604</th>\n",
       "      <td>46604</td>\n",
       "      <td>327ec29056cc47c24bf922f7dc0f78261dad5c726d7353...</td>\n",
       "      <td>LOST</td>\n",
       "      <td>Semester stay</td>\n",
       "      <td>£60 - £120 Per week</td>\n",
       "      <td>Summer/Short Stay 8 - 12 weeks</td>\n",
       "      <td>29-09-2022</td>\n",
       "      <td>9b2d5b4678781e53038e91ea5324530a03f27dc1d0e5f6...</td>\n",
       "      <td>9f2ba6981e36ea0fca6c16f42e6413d788d2a7499b8b7f...</td>\n",
       "      <td>8da82000ef9c4468ba47362a924b895e40662fed846942...</td>\n",
       "      <td>bbdefa2950f49882f295b1285d4fa9dec45fc4144bfb07...</td>\n",
       "      <td>09076eb7665d1fb9389c7c4517fee0b00e43092eb34821...</td>\n",
       "      <td>998c18dc0e513ab0035c7b858e3780bbbead88695a15de...</td>\n",
       "      <td>8d23a6e37e0a6431a8f1b43a91026dcff51170a89a6512...</td>\n",
       "      <td>Studio</td>\n",
       "      <td>1f90dbad4873cb9673ff3c7ec69fbac4289181453c6cea...</td>\n",
       "    </tr>\n",
       "    <tr>\n",
       "      <th>46605</th>\n",
       "      <td>46605</td>\n",
       "      <td>1134c0a7d44fdae1afd7f1f64e2789496784095ca0a050...</td>\n",
       "      <td>LOST</td>\n",
       "      <td>Low availability</td>\n",
       "      <td>£241 - £300 Per week</td>\n",
       "      <td>Full Year Course Stay 40 - 44 weeks</td>\n",
       "      <td>20-09-2022</td>\n",
       "      <td>7aae3e886e89fc1187a5c47d6cea1c22998ee610ade1f2...</td>\n",
       "      <td>7d1550b844ff586a6023216c06263105eed0a849a2a1f6...</td>\n",
       "      <td>8da82000ef9c4468ba47362a924b895e40662fed846942...</td>\n",
       "      <td>bbdefa2950f49882f295b1285d4fa9dec45fc4144bfb07...</td>\n",
       "      <td>09076eb7665d1fb9389c7c4517fee0b00e43092eb34821...</td>\n",
       "      <td>ecc0e7dc084f141b29479058967d0bc07dee25d9690a98...</td>\n",
       "      <td>8d23a6e37e0a6431a8f1b43a91026dcff51170a89a6512...</td>\n",
       "      <td>Studio</td>\n",
       "      <td>d9e0f455b68a6573544ffac32292541a510fe2daffe2bb...</td>\n",
       "    </tr>\n",
       "    <tr>\n",
       "      <th>46606</th>\n",
       "      <td>46606</td>\n",
       "      <td>8b8b029f1142f5cbc825aa6cbee01406c915c6b055db79...</td>\n",
       "      <td>LOST</td>\n",
       "      <td>Low availability</td>\n",
       "      <td>1108</td>\n",
       "      <td>294</td>\n",
       "      <td>30-08-2022</td>\n",
       "      <td>d684761c17c11590f6e2525b48141cb2c0c6f2be5df4e2...</td>\n",
       "      <td>e9c722cbefc2f055ae60b4e2cbe73a2d99537eab0c37f3...</td>\n",
       "      <td>b936ee09e20b3b2234907cde349cda1c1a5327c4a486bf...</td>\n",
       "      <td>7f3fa48ca885678134842fa7456f3ece53a97f843b6101...</td>\n",
       "      <td>abb8e2badd5b6265c3237170cc599257a4f566706715d2...</td>\n",
       "      <td>ecc0e7dc084f141b29479058967d0bc07dee25d9690a98...</td>\n",
       "      <td>8d23a6e37e0a6431a8f1b43a91026dcff51170a89a6512...</td>\n",
       "      <td>NaN</td>\n",
       "      <td>1f90dbad4873cb9673ff3c7ec69fbac4289181453c6cea...</td>\n",
       "    </tr>\n",
       "    <tr>\n",
       "      <th>46607</th>\n",
       "      <td>46607</td>\n",
       "      <td>1ea65ea38f2f574b3875ba895e4ff76b284b7725041612...</td>\n",
       "      <td>LOST</td>\n",
       "      <td>Low availability</td>\n",
       "      <td>£181 - £240 Per Week</td>\n",
       "      <td>Full Year Course Stay 40 - 44 weeks</td>\n",
       "      <td>01-09-2022</td>\n",
       "      <td>7aae3e886e89fc1187a5c47d6cea1c22998ee610ade1f2...</td>\n",
       "      <td>1496126b7015defbc3b1d129a46096a5c135075aff2add...</td>\n",
       "      <td>e09e10e67812e9d236ad900e5d46b4308fc62f5d69446a...</td>\n",
       "      <td>bbdefa2950f49882f295b1285d4fa9dec45fc4144bfb07...</td>\n",
       "      <td>09076eb7665d1fb9389c7c4517fee0b00e43092eb34821...</td>\n",
       "      <td>618738f7143c9b43a98a6b42d743a6595069a9b4dcf42d...</td>\n",
       "      <td>8d23a6e37e0a6431a8f1b43a91026dcff51170a89a6512...</td>\n",
       "      <td>Studio</td>\n",
       "      <td>7520a8abba2b44d7f37c0ddbe5f7f3d87540b2b7a670e9...</td>\n",
       "    </tr>\n",
       "  </tbody>\n",
       "</table>\n",
       "<p>46608 rows × 16 columns</p>\n",
       "</div>"
      ],
      "text/plain": [
       "       Unnamed: 0                                           Agent_id status  \\\n",
       "0               0  1deba9e96f404694373de9749ddd1ca8aa7bb823145a6f...   LOST   \n",
       "1               1  299ae77a4ef350ae0dd37d6bba1c002d03444fb1edb236...   LOST   \n",
       "2               2  c213697430c006013012dd2aca82dd9732aa0a1a6bca13...   LOST   \n",
       "3               3  eac9815a500f908736d303e23aa227f0957177b0e6756b...   LOST   \n",
       "4               4  1deba9e96f404694373de9749ddd1ca8aa7bb823145a6f...   LOST   \n",
       "...           ...                                                ...    ...   \n",
       "46603       46603  2306878a9ad9b57686cd623dd285aaa9b25afdf627f651...   LOST   \n",
       "46604       46604  327ec29056cc47c24bf922f7dc0f78261dad5c726d7353...   LOST   \n",
       "46605       46605  1134c0a7d44fdae1afd7f1f64e2789496784095ca0a050...   LOST   \n",
       "46606       46606  8b8b029f1142f5cbc825aa6cbee01406c915c6b055db79...   LOST   \n",
       "46607       46607  1ea65ea38f2f574b3875ba895e4ff76b284b7725041612...   LOST   \n",
       "\n",
       "            lost_reason                budget  \\\n",
       "0        Not responding                   NaN   \n",
       "1            Low budget                   NaN   \n",
       "2        Not responding  £121 - £180 Per Week   \n",
       "3            Low budget                   0-0   \n",
       "4             Junk lead                   NaN   \n",
       "...                 ...                   ...   \n",
       "46603  Low availability   £60 - £120 Per week   \n",
       "46604     Semester stay   £60 - £120 Per week   \n",
       "46605  Low availability  £241 - £300 Per week   \n",
       "46606  Low availability                  1108   \n",
       "46607  Low availability  £181 - £240 Per Week   \n",
       "\n",
       "                                            lease      movein  \\\n",
       "0                                             NaN         NaN   \n",
       "1                                             NaN         NaN   \n",
       "2             Full Year Course Stay 40 - 44 weeks  31-08-2022   \n",
       "3                                               0         NaN   \n",
       "4                                             NaN         NaN   \n",
       "...                                           ...         ...   \n",
       "46603  Complete Education Year Stay 50 - 52 weeks  01-09-2022   \n",
       "46604              Summer/Short Stay 8 - 12 weeks  29-09-2022   \n",
       "46605         Full Year Course Stay 40 - 44 weeks  20-09-2022   \n",
       "46606                                         294  30-08-2022   \n",
       "46607         Full Year Course Stay 40 - 44 weeks  01-09-2022   \n",
       "\n",
       "                                                  source  \\\n",
       "0      9b2d5b4678781e53038e91ea5324530a03f27dc1d0e5f6...   \n",
       "1      9b2d5b4678781e53038e91ea5324530a03f27dc1d0e5f6...   \n",
       "2      7aae3e886e89fc1187a5c47d6cea1c22998ee610ade1f2...   \n",
       "3      ba2d0a29556ac20f86f45e4543c0825428cba33fd7a9ea...   \n",
       "4      9b2d5b4678781e53038e91ea5324530a03f27dc1d0e5f6...   \n",
       "...                                                  ...   \n",
       "46603  9b2d5b4678781e53038e91ea5324530a03f27dc1d0e5f6...   \n",
       "46604  9b2d5b4678781e53038e91ea5324530a03f27dc1d0e5f6...   \n",
       "46605  7aae3e886e89fc1187a5c47d6cea1c22998ee610ade1f2...   \n",
       "46606  d684761c17c11590f6e2525b48141cb2c0c6f2be5df4e2...   \n",
       "46607  7aae3e886e89fc1187a5c47d6cea1c22998ee610ade1f2...   \n",
       "\n",
       "                                             source_city  \\\n",
       "0      9b2d5b4678781e53038e91ea5324530a03f27dc1d0e5f6...   \n",
       "1      9b2d5b4678781e53038e91ea5324530a03f27dc1d0e5f6...   \n",
       "2      9b8cc3c63cdf447e463c11544924bf027945cbd29675f7...   \n",
       "3      a5f0d2d08eb0592087e3a3a2f9c1ba2c67cc30f2efd2bd...   \n",
       "4      9b2d5b4678781e53038e91ea5324530a03f27dc1d0e5f6...   \n",
       "...                                                  ...   \n",
       "46603  7d1550b844ff586a6023216c06263105eed0a849a2a1f6...   \n",
       "46604  9f2ba6981e36ea0fca6c16f42e6413d788d2a7499b8b7f...   \n",
       "46605  7d1550b844ff586a6023216c06263105eed0a849a2a1f6...   \n",
       "46606  e9c722cbefc2f055ae60b4e2cbe73a2d99537eab0c37f3...   \n",
       "46607  1496126b7015defbc3b1d129a46096a5c135075aff2add...   \n",
       "\n",
       "                                          source_country  \\\n",
       "0      9b2d5b4678781e53038e91ea5324530a03f27dc1d0e5f6...   \n",
       "1      9b2d5b4678781e53038e91ea5324530a03f27dc1d0e5f6...   \n",
       "2      e09e10e67812e9d236ad900e5d46b4308fc62f5d69446a...   \n",
       "3      e09e10e67812e9d236ad900e5d46b4308fc62f5d69446a...   \n",
       "4      9b2d5b4678781e53038e91ea5324530a03f27dc1d0e5f6...   \n",
       "...                                                  ...   \n",
       "46603  8da82000ef9c4468ba47362a924b895e40662fed846942...   \n",
       "46604  8da82000ef9c4468ba47362a924b895e40662fed846942...   \n",
       "46605  8da82000ef9c4468ba47362a924b895e40662fed846942...   \n",
       "46606  b936ee09e20b3b2234907cde349cda1c1a5327c4a486bf...   \n",
       "46607  e09e10e67812e9d236ad900e5d46b4308fc62f5d69446a...   \n",
       "\n",
       "                                              utm_source  \\\n",
       "0      3d59f7548e1af2151b64135003ce63c0a484c26b9b8b16...   \n",
       "1      3d59f7548e1af2151b64135003ce63c0a484c26b9b8b16...   \n",
       "2      bbdefa2950f49882f295b1285d4fa9dec45fc4144bfb07...   \n",
       "3      bbdefa2950f49882f295b1285d4fa9dec45fc4144bfb07...   \n",
       "4      3d59f7548e1af2151b64135003ce63c0a484c26b9b8b16...   \n",
       "...                                                  ...   \n",
       "46603  bbdefa2950f49882f295b1285d4fa9dec45fc4144bfb07...   \n",
       "46604  bbdefa2950f49882f295b1285d4fa9dec45fc4144bfb07...   \n",
       "46605  bbdefa2950f49882f295b1285d4fa9dec45fc4144bfb07...   \n",
       "46606  7f3fa48ca885678134842fa7456f3ece53a97f843b6101...   \n",
       "46607  bbdefa2950f49882f295b1285d4fa9dec45fc4144bfb07...   \n",
       "\n",
       "                                              utm_medium  \\\n",
       "0      268ad70eb5bc4737a2ae28162cbca30118cc94520e49ef...   \n",
       "1      268ad70eb5bc4737a2ae28162cbca30118cc94520e49ef...   \n",
       "2      09076eb7665d1fb9389c7c4517fee0b00e43092eb34821...   \n",
       "3      09076eb7665d1fb9389c7c4517fee0b00e43092eb34821...   \n",
       "4      268ad70eb5bc4737a2ae28162cbca30118cc94520e49ef...   \n",
       "...                                                  ...   \n",
       "46603  09076eb7665d1fb9389c7c4517fee0b00e43092eb34821...   \n",
       "46604  09076eb7665d1fb9389c7c4517fee0b00e43092eb34821...   \n",
       "46605  09076eb7665d1fb9389c7c4517fee0b00e43092eb34821...   \n",
       "46606  abb8e2badd5b6265c3237170cc599257a4f566706715d2...   \n",
       "46607  09076eb7665d1fb9389c7c4517fee0b00e43092eb34821...   \n",
       "\n",
       "                                                des_city  \\\n",
       "0      ecc0e7dc084f141b29479058967d0bc07dee25d9690a98...   \n",
       "1      5372372f3bf5896820cb2819300c3e681820d82c6efc54...   \n",
       "2      11ab03a1a8c367191355c152f39fe28cae5e426fce49ef...   \n",
       "3      19372fa44c57a01c37a5a8418779ca3d99b0b59731fb35...   \n",
       "4      9b2d5b4678781e53038e91ea5324530a03f27dc1d0e5f6...   \n",
       "...                                                  ...   \n",
       "46603  13d4b96b6ee361b737e22404aeecca45f322ba7d4c2c42...   \n",
       "46604  998c18dc0e513ab0035c7b858e3780bbbead88695a15de...   \n",
       "46605  ecc0e7dc084f141b29479058967d0bc07dee25d9690a98...   \n",
       "46606  ecc0e7dc084f141b29479058967d0bc07dee25d9690a98...   \n",
       "46607  618738f7143c9b43a98a6b42d743a6595069a9b4dcf42d...   \n",
       "\n",
       "                                             des_country room_type  \\\n",
       "0      8d23a6e37e0a6431a8f1b43a91026dcff51170a89a6512...       NaN   \n",
       "1      8d23a6e37e0a6431a8f1b43a91026dcff51170a89a6512...       NaN   \n",
       "2      8d23a6e37e0a6431a8f1b43a91026dcff51170a89a6512...   Ensuite   \n",
       "3      8d23a6e37e0a6431a8f1b43a91026dcff51170a89a6512...       NaN   \n",
       "4      9b2d5b4678781e53038e91ea5324530a03f27dc1d0e5f6...       NaN   \n",
       "...                                                  ...       ...   \n",
       "46603  8d23a6e37e0a6431a8f1b43a91026dcff51170a89a6512...    Studio   \n",
       "46604  8d23a6e37e0a6431a8f1b43a91026dcff51170a89a6512...    Studio   \n",
       "46605  8d23a6e37e0a6431a8f1b43a91026dcff51170a89a6512...    Studio   \n",
       "46606  8d23a6e37e0a6431a8f1b43a91026dcff51170a89a6512...       NaN   \n",
       "46607  8d23a6e37e0a6431a8f1b43a91026dcff51170a89a6512...    Studio   \n",
       "\n",
       "                                                 lead_id  \n",
       "0      cd5dc0d9393f3980d11d4ba6f88f8110c2b7a7f7796307...  \n",
       "1      b94693673a5f7178d1b114e4004ad52377d3244dd24a3d...  \n",
       "2      96ea4e2bf04496c044745938c0299c264c3f4ba079e572...  \n",
       "3      1d2b34d8add02a182a4129023766ca4585a8ddced0e5b3...  \n",
       "4      fc10fffd29cfbe93c55158fb47752a7501c211d253468c...  \n",
       "...                                                  ...  \n",
       "46603  1aaa4a4a9092e4c0eabf958ed9aea59c50d8ea3f08f691...  \n",
       "46604  1f90dbad4873cb9673ff3c7ec69fbac4289181453c6cea...  \n",
       "46605  d9e0f455b68a6573544ffac32292541a510fe2daffe2bb...  \n",
       "46606  1f90dbad4873cb9673ff3c7ec69fbac4289181453c6cea...  \n",
       "46607  7520a8abba2b44d7f37c0ddbe5f7f3d87540b2b7a670e9...  \n",
       "\n",
       "[46608 rows x 16 columns]"
      ]
     },
     "execution_count": 4,
     "metadata": {},
     "output_type": "execute_result"
    }
   ],
   "source": [
    "df"
   ]
  },
  {
   "cell_type": "code",
   "execution_count": 5,
   "id": "415076b6",
   "metadata": {},
   "outputs": [
    {
     "data": {
      "text/html": [
       "<div>\n",
       "<style scoped>\n",
       "    .dataframe tbody tr th:only-of-type {\n",
       "        vertical-align: middle;\n",
       "    }\n",
       "\n",
       "    .dataframe tbody tr th {\n",
       "        vertical-align: top;\n",
       "    }\n",
       "\n",
       "    .dataframe thead th {\n",
       "        text-align: right;\n",
       "    }\n",
       "</style>\n",
       "<table border=\"1\" class=\"dataframe\">\n",
       "  <thead>\n",
       "    <tr style=\"text-align: right;\">\n",
       "      <th></th>\n",
       "      <th>Agent_id</th>\n",
       "      <th>status</th>\n",
       "      <th>lost_reason</th>\n",
       "      <th>budget</th>\n",
       "      <th>lease</th>\n",
       "      <th>movein</th>\n",
       "      <th>source</th>\n",
       "      <th>source_city</th>\n",
       "      <th>source_country</th>\n",
       "      <th>utm_source</th>\n",
       "      <th>utm_medium</th>\n",
       "      <th>des_city</th>\n",
       "      <th>des_country</th>\n",
       "      <th>room_type</th>\n",
       "      <th>lead_id</th>\n",
       "    </tr>\n",
       "  </thead>\n",
       "  <tbody>\n",
       "    <tr>\n",
       "      <th>0</th>\n",
       "      <td>1deba9e96f404694373de9749ddd1ca8aa7bb823145a6f...</td>\n",
       "      <td>LOST</td>\n",
       "      <td>Not responding</td>\n",
       "      <td>NaN</td>\n",
       "      <td>NaN</td>\n",
       "      <td>NaN</td>\n",
       "      <td>9b2d5b4678781e53038e91ea5324530a03f27dc1d0e5f6...</td>\n",
       "      <td>9b2d5b4678781e53038e91ea5324530a03f27dc1d0e5f6...</td>\n",
       "      <td>9b2d5b4678781e53038e91ea5324530a03f27dc1d0e5f6...</td>\n",
       "      <td>3d59f7548e1af2151b64135003ce63c0a484c26b9b8b16...</td>\n",
       "      <td>268ad70eb5bc4737a2ae28162cbca30118cc94520e49ef...</td>\n",
       "      <td>ecc0e7dc084f141b29479058967d0bc07dee25d9690a98...</td>\n",
       "      <td>8d23a6e37e0a6431a8f1b43a91026dcff51170a89a6512...</td>\n",
       "      <td>NaN</td>\n",
       "      <td>cd5dc0d9393f3980d11d4ba6f88f8110c2b7a7f7796307...</td>\n",
       "    </tr>\n",
       "    <tr>\n",
       "      <th>1</th>\n",
       "      <td>299ae77a4ef350ae0dd37d6bba1c002d03444fb1edb236...</td>\n",
       "      <td>LOST</td>\n",
       "      <td>Low budget</td>\n",
       "      <td>NaN</td>\n",
       "      <td>NaN</td>\n",
       "      <td>NaN</td>\n",
       "      <td>9b2d5b4678781e53038e91ea5324530a03f27dc1d0e5f6...</td>\n",
       "      <td>9b2d5b4678781e53038e91ea5324530a03f27dc1d0e5f6...</td>\n",
       "      <td>9b2d5b4678781e53038e91ea5324530a03f27dc1d0e5f6...</td>\n",
       "      <td>3d59f7548e1af2151b64135003ce63c0a484c26b9b8b16...</td>\n",
       "      <td>268ad70eb5bc4737a2ae28162cbca30118cc94520e49ef...</td>\n",
       "      <td>5372372f3bf5896820cb2819300c3e681820d82c6efc54...</td>\n",
       "      <td>8d23a6e37e0a6431a8f1b43a91026dcff51170a89a6512...</td>\n",
       "      <td>NaN</td>\n",
       "      <td>b94693673a5f7178d1b114e4004ad52377d3244dd24a3d...</td>\n",
       "    </tr>\n",
       "    <tr>\n",
       "      <th>2</th>\n",
       "      <td>c213697430c006013012dd2aca82dd9732aa0a1a6bca13...</td>\n",
       "      <td>LOST</td>\n",
       "      <td>Not responding</td>\n",
       "      <td>£121 - £180 Per Week</td>\n",
       "      <td>Full Year Course Stay 40 - 44 weeks</td>\n",
       "      <td>31-08-2022</td>\n",
       "      <td>7aae3e886e89fc1187a5c47d6cea1c22998ee610ade1f2...</td>\n",
       "      <td>9b8cc3c63cdf447e463c11544924bf027945cbd29675f7...</td>\n",
       "      <td>e09e10e67812e9d236ad900e5d46b4308fc62f5d69446a...</td>\n",
       "      <td>bbdefa2950f49882f295b1285d4fa9dec45fc4144bfb07...</td>\n",
       "      <td>09076eb7665d1fb9389c7c4517fee0b00e43092eb34821...</td>\n",
       "      <td>11ab03a1a8c367191355c152f39fe28cae5e426fce49ef...</td>\n",
       "      <td>8d23a6e37e0a6431a8f1b43a91026dcff51170a89a6512...</td>\n",
       "      <td>Ensuite</td>\n",
       "      <td>96ea4e2bf04496c044745938c0299c264c3f4ba079e572...</td>\n",
       "    </tr>\n",
       "    <tr>\n",
       "      <th>3</th>\n",
       "      <td>eac9815a500f908736d303e23aa227f0957177b0e6756b...</td>\n",
       "      <td>LOST</td>\n",
       "      <td>Low budget</td>\n",
       "      <td>0-0</td>\n",
       "      <td>0</td>\n",
       "      <td>NaN</td>\n",
       "      <td>ba2d0a29556ac20f86f45e4543c0825428cba33fd7a9ea...</td>\n",
       "      <td>a5f0d2d08eb0592087e3a3a2f9c1ba2c67cc30f2efd2bd...</td>\n",
       "      <td>e09e10e67812e9d236ad900e5d46b4308fc62f5d69446a...</td>\n",
       "      <td>bbdefa2950f49882f295b1285d4fa9dec45fc4144bfb07...</td>\n",
       "      <td>09076eb7665d1fb9389c7c4517fee0b00e43092eb34821...</td>\n",
       "      <td>19372fa44c57a01c37a5a8418779ca3d99b0b59731fb35...</td>\n",
       "      <td>8d23a6e37e0a6431a8f1b43a91026dcff51170a89a6512...</td>\n",
       "      <td>NaN</td>\n",
       "      <td>1d2b34d8add02a182a4129023766ca4585a8ddced0e5b3...</td>\n",
       "    </tr>\n",
       "    <tr>\n",
       "      <th>4</th>\n",
       "      <td>1deba9e96f404694373de9749ddd1ca8aa7bb823145a6f...</td>\n",
       "      <td>LOST</td>\n",
       "      <td>Junk lead</td>\n",
       "      <td>NaN</td>\n",
       "      <td>NaN</td>\n",
       "      <td>NaN</td>\n",
       "      <td>9b2d5b4678781e53038e91ea5324530a03f27dc1d0e5f6...</td>\n",
       "      <td>9b2d5b4678781e53038e91ea5324530a03f27dc1d0e5f6...</td>\n",
       "      <td>9b2d5b4678781e53038e91ea5324530a03f27dc1d0e5f6...</td>\n",
       "      <td>3d59f7548e1af2151b64135003ce63c0a484c26b9b8b16...</td>\n",
       "      <td>268ad70eb5bc4737a2ae28162cbca30118cc94520e49ef...</td>\n",
       "      <td>9b2d5b4678781e53038e91ea5324530a03f27dc1d0e5f6...</td>\n",
       "      <td>9b2d5b4678781e53038e91ea5324530a03f27dc1d0e5f6...</td>\n",
       "      <td>NaN</td>\n",
       "      <td>fc10fffd29cfbe93c55158fb47752a7501c211d253468c...</td>\n",
       "    </tr>\n",
       "    <tr>\n",
       "      <th>...</th>\n",
       "      <td>...</td>\n",
       "      <td>...</td>\n",
       "      <td>...</td>\n",
       "      <td>...</td>\n",
       "      <td>...</td>\n",
       "      <td>...</td>\n",
       "      <td>...</td>\n",
       "      <td>...</td>\n",
       "      <td>...</td>\n",
       "      <td>...</td>\n",
       "      <td>...</td>\n",
       "      <td>...</td>\n",
       "      <td>...</td>\n",
       "      <td>...</td>\n",
       "      <td>...</td>\n",
       "    </tr>\n",
       "    <tr>\n",
       "      <th>46603</th>\n",
       "      <td>2306878a9ad9b57686cd623dd285aaa9b25afdf627f651...</td>\n",
       "      <td>LOST</td>\n",
       "      <td>Low availability</td>\n",
       "      <td>£60 - £120 Per week</td>\n",
       "      <td>Complete Education Year Stay 50 - 52 weeks</td>\n",
       "      <td>01-09-2022</td>\n",
       "      <td>9b2d5b4678781e53038e91ea5324530a03f27dc1d0e5f6...</td>\n",
       "      <td>7d1550b844ff586a6023216c06263105eed0a849a2a1f6...</td>\n",
       "      <td>8da82000ef9c4468ba47362a924b895e40662fed846942...</td>\n",
       "      <td>bbdefa2950f49882f295b1285d4fa9dec45fc4144bfb07...</td>\n",
       "      <td>09076eb7665d1fb9389c7c4517fee0b00e43092eb34821...</td>\n",
       "      <td>13d4b96b6ee361b737e22404aeecca45f322ba7d4c2c42...</td>\n",
       "      <td>8d23a6e37e0a6431a8f1b43a91026dcff51170a89a6512...</td>\n",
       "      <td>Studio</td>\n",
       "      <td>1aaa4a4a9092e4c0eabf958ed9aea59c50d8ea3f08f691...</td>\n",
       "    </tr>\n",
       "    <tr>\n",
       "      <th>46604</th>\n",
       "      <td>327ec29056cc47c24bf922f7dc0f78261dad5c726d7353...</td>\n",
       "      <td>LOST</td>\n",
       "      <td>Semester stay</td>\n",
       "      <td>£60 - £120 Per week</td>\n",
       "      <td>Summer/Short Stay 8 - 12 weeks</td>\n",
       "      <td>29-09-2022</td>\n",
       "      <td>9b2d5b4678781e53038e91ea5324530a03f27dc1d0e5f6...</td>\n",
       "      <td>9f2ba6981e36ea0fca6c16f42e6413d788d2a7499b8b7f...</td>\n",
       "      <td>8da82000ef9c4468ba47362a924b895e40662fed846942...</td>\n",
       "      <td>bbdefa2950f49882f295b1285d4fa9dec45fc4144bfb07...</td>\n",
       "      <td>09076eb7665d1fb9389c7c4517fee0b00e43092eb34821...</td>\n",
       "      <td>998c18dc0e513ab0035c7b858e3780bbbead88695a15de...</td>\n",
       "      <td>8d23a6e37e0a6431a8f1b43a91026dcff51170a89a6512...</td>\n",
       "      <td>Studio</td>\n",
       "      <td>1f90dbad4873cb9673ff3c7ec69fbac4289181453c6cea...</td>\n",
       "    </tr>\n",
       "    <tr>\n",
       "      <th>46605</th>\n",
       "      <td>1134c0a7d44fdae1afd7f1f64e2789496784095ca0a050...</td>\n",
       "      <td>LOST</td>\n",
       "      <td>Low availability</td>\n",
       "      <td>£241 - £300 Per week</td>\n",
       "      <td>Full Year Course Stay 40 - 44 weeks</td>\n",
       "      <td>20-09-2022</td>\n",
       "      <td>7aae3e886e89fc1187a5c47d6cea1c22998ee610ade1f2...</td>\n",
       "      <td>7d1550b844ff586a6023216c06263105eed0a849a2a1f6...</td>\n",
       "      <td>8da82000ef9c4468ba47362a924b895e40662fed846942...</td>\n",
       "      <td>bbdefa2950f49882f295b1285d4fa9dec45fc4144bfb07...</td>\n",
       "      <td>09076eb7665d1fb9389c7c4517fee0b00e43092eb34821...</td>\n",
       "      <td>ecc0e7dc084f141b29479058967d0bc07dee25d9690a98...</td>\n",
       "      <td>8d23a6e37e0a6431a8f1b43a91026dcff51170a89a6512...</td>\n",
       "      <td>Studio</td>\n",
       "      <td>d9e0f455b68a6573544ffac32292541a510fe2daffe2bb...</td>\n",
       "    </tr>\n",
       "    <tr>\n",
       "      <th>46606</th>\n",
       "      <td>8b8b029f1142f5cbc825aa6cbee01406c915c6b055db79...</td>\n",
       "      <td>LOST</td>\n",
       "      <td>Low availability</td>\n",
       "      <td>1108</td>\n",
       "      <td>294</td>\n",
       "      <td>30-08-2022</td>\n",
       "      <td>d684761c17c11590f6e2525b48141cb2c0c6f2be5df4e2...</td>\n",
       "      <td>e9c722cbefc2f055ae60b4e2cbe73a2d99537eab0c37f3...</td>\n",
       "      <td>b936ee09e20b3b2234907cde349cda1c1a5327c4a486bf...</td>\n",
       "      <td>7f3fa48ca885678134842fa7456f3ece53a97f843b6101...</td>\n",
       "      <td>abb8e2badd5b6265c3237170cc599257a4f566706715d2...</td>\n",
       "      <td>ecc0e7dc084f141b29479058967d0bc07dee25d9690a98...</td>\n",
       "      <td>8d23a6e37e0a6431a8f1b43a91026dcff51170a89a6512...</td>\n",
       "      <td>NaN</td>\n",
       "      <td>1f90dbad4873cb9673ff3c7ec69fbac4289181453c6cea...</td>\n",
       "    </tr>\n",
       "    <tr>\n",
       "      <th>46607</th>\n",
       "      <td>1ea65ea38f2f574b3875ba895e4ff76b284b7725041612...</td>\n",
       "      <td>LOST</td>\n",
       "      <td>Low availability</td>\n",
       "      <td>£181 - £240 Per Week</td>\n",
       "      <td>Full Year Course Stay 40 - 44 weeks</td>\n",
       "      <td>01-09-2022</td>\n",
       "      <td>7aae3e886e89fc1187a5c47d6cea1c22998ee610ade1f2...</td>\n",
       "      <td>1496126b7015defbc3b1d129a46096a5c135075aff2add...</td>\n",
       "      <td>e09e10e67812e9d236ad900e5d46b4308fc62f5d69446a...</td>\n",
       "      <td>bbdefa2950f49882f295b1285d4fa9dec45fc4144bfb07...</td>\n",
       "      <td>09076eb7665d1fb9389c7c4517fee0b00e43092eb34821...</td>\n",
       "      <td>618738f7143c9b43a98a6b42d743a6595069a9b4dcf42d...</td>\n",
       "      <td>8d23a6e37e0a6431a8f1b43a91026dcff51170a89a6512...</td>\n",
       "      <td>Studio</td>\n",
       "      <td>7520a8abba2b44d7f37c0ddbe5f7f3d87540b2b7a670e9...</td>\n",
       "    </tr>\n",
       "  </tbody>\n",
       "</table>\n",
       "<p>46608 rows × 15 columns</p>\n",
       "</div>"
      ],
      "text/plain": [
       "                                                Agent_id status  \\\n",
       "0      1deba9e96f404694373de9749ddd1ca8aa7bb823145a6f...   LOST   \n",
       "1      299ae77a4ef350ae0dd37d6bba1c002d03444fb1edb236...   LOST   \n",
       "2      c213697430c006013012dd2aca82dd9732aa0a1a6bca13...   LOST   \n",
       "3      eac9815a500f908736d303e23aa227f0957177b0e6756b...   LOST   \n",
       "4      1deba9e96f404694373de9749ddd1ca8aa7bb823145a6f...   LOST   \n",
       "...                                                  ...    ...   \n",
       "46603  2306878a9ad9b57686cd623dd285aaa9b25afdf627f651...   LOST   \n",
       "46604  327ec29056cc47c24bf922f7dc0f78261dad5c726d7353...   LOST   \n",
       "46605  1134c0a7d44fdae1afd7f1f64e2789496784095ca0a050...   LOST   \n",
       "46606  8b8b029f1142f5cbc825aa6cbee01406c915c6b055db79...   LOST   \n",
       "46607  1ea65ea38f2f574b3875ba895e4ff76b284b7725041612...   LOST   \n",
       "\n",
       "            lost_reason                budget  \\\n",
       "0        Not responding                   NaN   \n",
       "1            Low budget                   NaN   \n",
       "2        Not responding  £121 - £180 Per Week   \n",
       "3            Low budget                   0-0   \n",
       "4             Junk lead                   NaN   \n",
       "...                 ...                   ...   \n",
       "46603  Low availability   £60 - £120 Per week   \n",
       "46604     Semester stay   £60 - £120 Per week   \n",
       "46605  Low availability  £241 - £300 Per week   \n",
       "46606  Low availability                  1108   \n",
       "46607  Low availability  £181 - £240 Per Week   \n",
       "\n",
       "                                            lease      movein  \\\n",
       "0                                             NaN         NaN   \n",
       "1                                             NaN         NaN   \n",
       "2             Full Year Course Stay 40 - 44 weeks  31-08-2022   \n",
       "3                                               0         NaN   \n",
       "4                                             NaN         NaN   \n",
       "...                                           ...         ...   \n",
       "46603  Complete Education Year Stay 50 - 52 weeks  01-09-2022   \n",
       "46604              Summer/Short Stay 8 - 12 weeks  29-09-2022   \n",
       "46605         Full Year Course Stay 40 - 44 weeks  20-09-2022   \n",
       "46606                                         294  30-08-2022   \n",
       "46607         Full Year Course Stay 40 - 44 weeks  01-09-2022   \n",
       "\n",
       "                                                  source  \\\n",
       "0      9b2d5b4678781e53038e91ea5324530a03f27dc1d0e5f6...   \n",
       "1      9b2d5b4678781e53038e91ea5324530a03f27dc1d0e5f6...   \n",
       "2      7aae3e886e89fc1187a5c47d6cea1c22998ee610ade1f2...   \n",
       "3      ba2d0a29556ac20f86f45e4543c0825428cba33fd7a9ea...   \n",
       "4      9b2d5b4678781e53038e91ea5324530a03f27dc1d0e5f6...   \n",
       "...                                                  ...   \n",
       "46603  9b2d5b4678781e53038e91ea5324530a03f27dc1d0e5f6...   \n",
       "46604  9b2d5b4678781e53038e91ea5324530a03f27dc1d0e5f6...   \n",
       "46605  7aae3e886e89fc1187a5c47d6cea1c22998ee610ade1f2...   \n",
       "46606  d684761c17c11590f6e2525b48141cb2c0c6f2be5df4e2...   \n",
       "46607  7aae3e886e89fc1187a5c47d6cea1c22998ee610ade1f2...   \n",
       "\n",
       "                                             source_city  \\\n",
       "0      9b2d5b4678781e53038e91ea5324530a03f27dc1d0e5f6...   \n",
       "1      9b2d5b4678781e53038e91ea5324530a03f27dc1d0e5f6...   \n",
       "2      9b8cc3c63cdf447e463c11544924bf027945cbd29675f7...   \n",
       "3      a5f0d2d08eb0592087e3a3a2f9c1ba2c67cc30f2efd2bd...   \n",
       "4      9b2d5b4678781e53038e91ea5324530a03f27dc1d0e5f6...   \n",
       "...                                                  ...   \n",
       "46603  7d1550b844ff586a6023216c06263105eed0a849a2a1f6...   \n",
       "46604  9f2ba6981e36ea0fca6c16f42e6413d788d2a7499b8b7f...   \n",
       "46605  7d1550b844ff586a6023216c06263105eed0a849a2a1f6...   \n",
       "46606  e9c722cbefc2f055ae60b4e2cbe73a2d99537eab0c37f3...   \n",
       "46607  1496126b7015defbc3b1d129a46096a5c135075aff2add...   \n",
       "\n",
       "                                          source_country  \\\n",
       "0      9b2d5b4678781e53038e91ea5324530a03f27dc1d0e5f6...   \n",
       "1      9b2d5b4678781e53038e91ea5324530a03f27dc1d0e5f6...   \n",
       "2      e09e10e67812e9d236ad900e5d46b4308fc62f5d69446a...   \n",
       "3      e09e10e67812e9d236ad900e5d46b4308fc62f5d69446a...   \n",
       "4      9b2d5b4678781e53038e91ea5324530a03f27dc1d0e5f6...   \n",
       "...                                                  ...   \n",
       "46603  8da82000ef9c4468ba47362a924b895e40662fed846942...   \n",
       "46604  8da82000ef9c4468ba47362a924b895e40662fed846942...   \n",
       "46605  8da82000ef9c4468ba47362a924b895e40662fed846942...   \n",
       "46606  b936ee09e20b3b2234907cde349cda1c1a5327c4a486bf...   \n",
       "46607  e09e10e67812e9d236ad900e5d46b4308fc62f5d69446a...   \n",
       "\n",
       "                                              utm_source  \\\n",
       "0      3d59f7548e1af2151b64135003ce63c0a484c26b9b8b16...   \n",
       "1      3d59f7548e1af2151b64135003ce63c0a484c26b9b8b16...   \n",
       "2      bbdefa2950f49882f295b1285d4fa9dec45fc4144bfb07...   \n",
       "3      bbdefa2950f49882f295b1285d4fa9dec45fc4144bfb07...   \n",
       "4      3d59f7548e1af2151b64135003ce63c0a484c26b9b8b16...   \n",
       "...                                                  ...   \n",
       "46603  bbdefa2950f49882f295b1285d4fa9dec45fc4144bfb07...   \n",
       "46604  bbdefa2950f49882f295b1285d4fa9dec45fc4144bfb07...   \n",
       "46605  bbdefa2950f49882f295b1285d4fa9dec45fc4144bfb07...   \n",
       "46606  7f3fa48ca885678134842fa7456f3ece53a97f843b6101...   \n",
       "46607  bbdefa2950f49882f295b1285d4fa9dec45fc4144bfb07...   \n",
       "\n",
       "                                              utm_medium  \\\n",
       "0      268ad70eb5bc4737a2ae28162cbca30118cc94520e49ef...   \n",
       "1      268ad70eb5bc4737a2ae28162cbca30118cc94520e49ef...   \n",
       "2      09076eb7665d1fb9389c7c4517fee0b00e43092eb34821...   \n",
       "3      09076eb7665d1fb9389c7c4517fee0b00e43092eb34821...   \n",
       "4      268ad70eb5bc4737a2ae28162cbca30118cc94520e49ef...   \n",
       "...                                                  ...   \n",
       "46603  09076eb7665d1fb9389c7c4517fee0b00e43092eb34821...   \n",
       "46604  09076eb7665d1fb9389c7c4517fee0b00e43092eb34821...   \n",
       "46605  09076eb7665d1fb9389c7c4517fee0b00e43092eb34821...   \n",
       "46606  abb8e2badd5b6265c3237170cc599257a4f566706715d2...   \n",
       "46607  09076eb7665d1fb9389c7c4517fee0b00e43092eb34821...   \n",
       "\n",
       "                                                des_city  \\\n",
       "0      ecc0e7dc084f141b29479058967d0bc07dee25d9690a98...   \n",
       "1      5372372f3bf5896820cb2819300c3e681820d82c6efc54...   \n",
       "2      11ab03a1a8c367191355c152f39fe28cae5e426fce49ef...   \n",
       "3      19372fa44c57a01c37a5a8418779ca3d99b0b59731fb35...   \n",
       "4      9b2d5b4678781e53038e91ea5324530a03f27dc1d0e5f6...   \n",
       "...                                                  ...   \n",
       "46603  13d4b96b6ee361b737e22404aeecca45f322ba7d4c2c42...   \n",
       "46604  998c18dc0e513ab0035c7b858e3780bbbead88695a15de...   \n",
       "46605  ecc0e7dc084f141b29479058967d0bc07dee25d9690a98...   \n",
       "46606  ecc0e7dc084f141b29479058967d0bc07dee25d9690a98...   \n",
       "46607  618738f7143c9b43a98a6b42d743a6595069a9b4dcf42d...   \n",
       "\n",
       "                                             des_country room_type  \\\n",
       "0      8d23a6e37e0a6431a8f1b43a91026dcff51170a89a6512...       NaN   \n",
       "1      8d23a6e37e0a6431a8f1b43a91026dcff51170a89a6512...       NaN   \n",
       "2      8d23a6e37e0a6431a8f1b43a91026dcff51170a89a6512...   Ensuite   \n",
       "3      8d23a6e37e0a6431a8f1b43a91026dcff51170a89a6512...       NaN   \n",
       "4      9b2d5b4678781e53038e91ea5324530a03f27dc1d0e5f6...       NaN   \n",
       "...                                                  ...       ...   \n",
       "46603  8d23a6e37e0a6431a8f1b43a91026dcff51170a89a6512...    Studio   \n",
       "46604  8d23a6e37e0a6431a8f1b43a91026dcff51170a89a6512...    Studio   \n",
       "46605  8d23a6e37e0a6431a8f1b43a91026dcff51170a89a6512...    Studio   \n",
       "46606  8d23a6e37e0a6431a8f1b43a91026dcff51170a89a6512...       NaN   \n",
       "46607  8d23a6e37e0a6431a8f1b43a91026dcff51170a89a6512...    Studio   \n",
       "\n",
       "                                                 lead_id  \n",
       "0      cd5dc0d9393f3980d11d4ba6f88f8110c2b7a7f7796307...  \n",
       "1      b94693673a5f7178d1b114e4004ad52377d3244dd24a3d...  \n",
       "2      96ea4e2bf04496c044745938c0299c264c3f4ba079e572...  \n",
       "3      1d2b34d8add02a182a4129023766ca4585a8ddced0e5b3...  \n",
       "4      fc10fffd29cfbe93c55158fb47752a7501c211d253468c...  \n",
       "...                                                  ...  \n",
       "46603  1aaa4a4a9092e4c0eabf958ed9aea59c50d8ea3f08f691...  \n",
       "46604  1f90dbad4873cb9673ff3c7ec69fbac4289181453c6cea...  \n",
       "46605  d9e0f455b68a6573544ffac32292541a510fe2daffe2bb...  \n",
       "46606  1f90dbad4873cb9673ff3c7ec69fbac4289181453c6cea...  \n",
       "46607  7520a8abba2b44d7f37c0ddbe5f7f3d87540b2b7a670e9...  \n",
       "\n",
       "[46608 rows x 15 columns]"
      ]
     },
     "execution_count": 5,
     "metadata": {},
     "output_type": "execute_result"
    }
   ],
   "source": [
    "df.drop(['Unnamed: 0'], axis=1)"
   ]
  },
  {
   "cell_type": "code",
   "execution_count": 6,
   "id": "c7738266",
   "metadata": {},
   "outputs": [
    {
     "data": {
      "text/plain": [
       "(46608, 16)"
      ]
     },
     "execution_count": 6,
     "metadata": {},
     "output_type": "execute_result"
    }
   ],
   "source": [
    "df.shape"
   ]
  },
  {
   "cell_type": "code",
   "execution_count": 7,
   "id": "6cf16e99",
   "metadata": {},
   "outputs": [
    {
     "data": {
      "text/plain": [
       "Index(['Unnamed: 0', 'Agent_id', 'status', 'lost_reason', 'budget', 'lease',\n",
       "       'movein', 'source', 'source_city', 'source_country', 'utm_source',\n",
       "       'utm_medium', 'des_city', 'des_country', 'room_type', 'lead_id'],\n",
       "      dtype='object')"
      ]
     },
     "execution_count": 7,
     "metadata": {},
     "output_type": "execute_result"
    }
   ],
   "source": [
    "df.columns"
   ]
  },
  {
   "cell_type": "code",
   "execution_count": 8,
   "id": "0d5587eb",
   "metadata": {},
   "outputs": [],
   "source": [
    "del df[\"Unnamed: 0\"]"
   ]
  },
  {
   "cell_type": "code",
   "execution_count": 9,
   "id": "4a2bb3b8",
   "metadata": {},
   "outputs": [
    {
     "data": {
      "text/plain": [
       "Index(['Agent_id', 'status', 'lost_reason', 'budget', 'lease', 'movein',\n",
       "       'source', 'source_city', 'source_country', 'utm_source', 'utm_medium',\n",
       "       'des_city', 'des_country', 'room_type', 'lead_id'],\n",
       "      dtype='object')"
      ]
     },
     "execution_count": 9,
     "metadata": {},
     "output_type": "execute_result"
    }
   ],
   "source": [
    "df.columns"
   ]
  },
  {
   "cell_type": "code",
   "execution_count": 10,
   "id": "9ae21caf",
   "metadata": {},
   "outputs": [
    {
     "data": {
      "text/html": [
       "<div>\n",
       "<style scoped>\n",
       "    .dataframe tbody tr th:only-of-type {\n",
       "        vertical-align: middle;\n",
       "    }\n",
       "\n",
       "    .dataframe tbody tr th {\n",
       "        vertical-align: top;\n",
       "    }\n",
       "\n",
       "    .dataframe thead th {\n",
       "        text-align: right;\n",
       "    }\n",
       "</style>\n",
       "<table border=\"1\" class=\"dataframe\">\n",
       "  <thead>\n",
       "    <tr style=\"text-align: right;\">\n",
       "      <th></th>\n",
       "      <th>Agent_id</th>\n",
       "      <th>status</th>\n",
       "      <th>lost_reason</th>\n",
       "      <th>budget</th>\n",
       "      <th>lease</th>\n",
       "      <th>movein</th>\n",
       "      <th>source</th>\n",
       "      <th>source_city</th>\n",
       "      <th>source_country</th>\n",
       "      <th>utm_source</th>\n",
       "      <th>utm_medium</th>\n",
       "      <th>des_city</th>\n",
       "      <th>des_country</th>\n",
       "      <th>room_type</th>\n",
       "      <th>lead_id</th>\n",
       "    </tr>\n",
       "  </thead>\n",
       "  <tbody>\n",
       "    <tr>\n",
       "      <th>12155</th>\n",
       "      <td>2fca346db656187102ce806ac732e06a62df0dbb2829e5...</td>\n",
       "      <td>LOST</td>\n",
       "      <td>Low availability</td>\n",
       "      <td>0-0</td>\n",
       "      <td>0</td>\n",
       "      <td>NaN</td>\n",
       "      <td>1dd68ebd0fede169fd30d8e5b3439a4c2bb0f82bcdb55d...</td>\n",
       "      <td>9b2d5b4678781e53038e91ea5324530a03f27dc1d0e5f6...</td>\n",
       "      <td>9b2d5b4678781e53038e91ea5324530a03f27dc1d0e5f6...</td>\n",
       "      <td>dfc547927d5d24adeba89e786ac0ef05ca3e54ba2ef947...</td>\n",
       "      <td>929260ad9b9ea9fe0f3553dd964f4ff3deb5792efd031a...</td>\n",
       "      <td>9edff2628ff7385bffbe7fc9cae89010d2cb9182e805e1...</td>\n",
       "      <td>8d23a6e37e0a6431a8f1b43a91026dcff51170a89a6512...</td>\n",
       "      <td>NaN</td>\n",
       "      <td>e0670e9434b1a14548023c497585ea38f659b107929308...</td>\n",
       "    </tr>\n",
       "    <tr>\n",
       "      <th>29072</th>\n",
       "      <td>1ea65ea38f2f574b3875ba895e4ff76b284b7725041612...</td>\n",
       "      <td>LOST</td>\n",
       "      <td>Low availability</td>\n",
       "      <td>0-0</td>\n",
       "      <td>0</td>\n",
       "      <td>NaN</td>\n",
       "      <td>9ba9134a91cfc6b52ac8d480e9ad37896ca4ac216e2d79...</td>\n",
       "      <td>ecc0e7dc084f141b29479058967d0bc07dee25d9690a98...</td>\n",
       "      <td>e09e10e67812e9d236ad900e5d46b4308fc62f5d69446a...</td>\n",
       "      <td>bbdefa2950f49882f295b1285d4fa9dec45fc4144bfb07...</td>\n",
       "      <td>69f81619d0ef92cbb165a44e76f4f0c284d2aa83c318fa...</td>\n",
       "      <td>ecc0e7dc084f141b29479058967d0bc07dee25d9690a98...</td>\n",
       "      <td>8d23a6e37e0a6431a8f1b43a91026dcff51170a89a6512...</td>\n",
       "      <td>NaN</td>\n",
       "      <td>63b903353f68881cb1476510051a5eb4de5e81e4e2daea...</td>\n",
       "    </tr>\n",
       "    <tr>\n",
       "      <th>40858</th>\n",
       "      <td>6b61e611d25ec81e83491a7e289ed7483d067c4c9bb50e...</td>\n",
       "      <td>LOST</td>\n",
       "      <td>Low budget</td>\n",
       "      <td>0-0</td>\n",
       "      <td>0</td>\n",
       "      <td>NaN</td>\n",
       "      <td>9ba9134a91cfc6b52ac8d480e9ad37896ca4ac216e2d79...</td>\n",
       "      <td>f618d9049cbfb9410ad8d47541218cc7a2a9e930750f59...</td>\n",
       "      <td>e09e10e67812e9d236ad900e5d46b4308fc62f5d69446a...</td>\n",
       "      <td>3c77f261a156a5308fee53720276395ef78d2e7367e422...</td>\n",
       "      <td>09076eb7665d1fb9389c7c4517fee0b00e43092eb34821...</td>\n",
       "      <td>5372372f3bf5896820cb2819300c3e681820d82c6efc54...</td>\n",
       "      <td>8d23a6e37e0a6431a8f1b43a91026dcff51170a89a6512...</td>\n",
       "      <td>NaN</td>\n",
       "      <td>616c5e2cd72df50f88ed09fc963b8805918a482d364866...</td>\n",
       "    </tr>\n",
       "    <tr>\n",
       "      <th>14469</th>\n",
       "      <td>95d245f3eb25eb695e980c0591c16a4c818e609cd2aac2...</td>\n",
       "      <td>WON</td>\n",
       "      <td>NaN</td>\n",
       "      <td>£121 - £180 Per Week</td>\n",
       "      <td>Full Year Course Stay 40 - 44 weeks</td>\n",
       "      <td>31-08-2022</td>\n",
       "      <td>7aae3e886e89fc1187a5c47d6cea1c22998ee610ade1f2...</td>\n",
       "      <td>ea58dc05b968545d016953b84130933e920097afbf3443...</td>\n",
       "      <td>e09e10e67812e9d236ad900e5d46b4308fc62f5d69446a...</td>\n",
       "      <td>bbdefa2950f49882f295b1285d4fa9dec45fc4144bfb07...</td>\n",
       "      <td>09076eb7665d1fb9389c7c4517fee0b00e43092eb34821...</td>\n",
       "      <td>085c3a49a31cbfa71c36746a98dc908d30d423a63b969c...</td>\n",
       "      <td>8d23a6e37e0a6431a8f1b43a91026dcff51170a89a6512...</td>\n",
       "      <td>Ensuite</td>\n",
       "      <td>891dc909cb09bebe0d9a99adcdfefce0a465b450888afd...</td>\n",
       "    </tr>\n",
       "    <tr>\n",
       "      <th>13657</th>\n",
       "      <td>2fca346db656187102ce806ac732e06a62df0dbb2829e5...</td>\n",
       "      <td>LOST</td>\n",
       "      <td>No supply</td>\n",
       "      <td>130</td>\n",
       "      <td>short-stay</td>\n",
       "      <td>NaN</td>\n",
       "      <td>7bcfca0e9d73371699b0adbf1c691e02108fa64f02f4db...</td>\n",
       "      <td>966f00f82051ba668712a33e25d9a030e83926bdfc328f...</td>\n",
       "      <td>8da82000ef9c4468ba47362a924b895e40662fed846942...</td>\n",
       "      <td>7f3fa48ca885678134842fa7456f3ece53a97f843b6101...</td>\n",
       "      <td>d6a969fff41c54131a4743aeef27fc6d96da8b6ee94075...</td>\n",
       "      <td>9b2d5b4678781e53038e91ea5324530a03f27dc1d0e5f6...</td>\n",
       "      <td>9b2d5b4678781e53038e91ea5324530a03f27dc1d0e5f6...</td>\n",
       "      <td>NaN</td>\n",
       "      <td>189a8181d5724d7cdefdf8a35d724a1b93c19a0ddce932...</td>\n",
       "    </tr>\n",
       "  </tbody>\n",
       "</table>\n",
       "</div>"
      ],
      "text/plain": [
       "                                                Agent_id status  \\\n",
       "12155  2fca346db656187102ce806ac732e06a62df0dbb2829e5...   LOST   \n",
       "29072  1ea65ea38f2f574b3875ba895e4ff76b284b7725041612...   LOST   \n",
       "40858  6b61e611d25ec81e83491a7e289ed7483d067c4c9bb50e...   LOST   \n",
       "14469  95d245f3eb25eb695e980c0591c16a4c818e609cd2aac2...    WON   \n",
       "13657  2fca346db656187102ce806ac732e06a62df0dbb2829e5...   LOST   \n",
       "\n",
       "            lost_reason                budget  \\\n",
       "12155  Low availability                   0-0   \n",
       "29072  Low availability                   0-0   \n",
       "40858        Low budget                   0-0   \n",
       "14469               NaN  £121 - £180 Per Week   \n",
       "13657         No supply                   130   \n",
       "\n",
       "                                     lease      movein  \\\n",
       "12155                                    0         NaN   \n",
       "29072                                    0         NaN   \n",
       "40858                                    0         NaN   \n",
       "14469  Full Year Course Stay 40 - 44 weeks  31-08-2022   \n",
       "13657                           short-stay         NaN   \n",
       "\n",
       "                                                  source  \\\n",
       "12155  1dd68ebd0fede169fd30d8e5b3439a4c2bb0f82bcdb55d...   \n",
       "29072  9ba9134a91cfc6b52ac8d480e9ad37896ca4ac216e2d79...   \n",
       "40858  9ba9134a91cfc6b52ac8d480e9ad37896ca4ac216e2d79...   \n",
       "14469  7aae3e886e89fc1187a5c47d6cea1c22998ee610ade1f2...   \n",
       "13657  7bcfca0e9d73371699b0adbf1c691e02108fa64f02f4db...   \n",
       "\n",
       "                                             source_city  \\\n",
       "12155  9b2d5b4678781e53038e91ea5324530a03f27dc1d0e5f6...   \n",
       "29072  ecc0e7dc084f141b29479058967d0bc07dee25d9690a98...   \n",
       "40858  f618d9049cbfb9410ad8d47541218cc7a2a9e930750f59...   \n",
       "14469  ea58dc05b968545d016953b84130933e920097afbf3443...   \n",
       "13657  966f00f82051ba668712a33e25d9a030e83926bdfc328f...   \n",
       "\n",
       "                                          source_country  \\\n",
       "12155  9b2d5b4678781e53038e91ea5324530a03f27dc1d0e5f6...   \n",
       "29072  e09e10e67812e9d236ad900e5d46b4308fc62f5d69446a...   \n",
       "40858  e09e10e67812e9d236ad900e5d46b4308fc62f5d69446a...   \n",
       "14469  e09e10e67812e9d236ad900e5d46b4308fc62f5d69446a...   \n",
       "13657  8da82000ef9c4468ba47362a924b895e40662fed846942...   \n",
       "\n",
       "                                              utm_source  \\\n",
       "12155  dfc547927d5d24adeba89e786ac0ef05ca3e54ba2ef947...   \n",
       "29072  bbdefa2950f49882f295b1285d4fa9dec45fc4144bfb07...   \n",
       "40858  3c77f261a156a5308fee53720276395ef78d2e7367e422...   \n",
       "14469  bbdefa2950f49882f295b1285d4fa9dec45fc4144bfb07...   \n",
       "13657  7f3fa48ca885678134842fa7456f3ece53a97f843b6101...   \n",
       "\n",
       "                                              utm_medium  \\\n",
       "12155  929260ad9b9ea9fe0f3553dd964f4ff3deb5792efd031a...   \n",
       "29072  69f81619d0ef92cbb165a44e76f4f0c284d2aa83c318fa...   \n",
       "40858  09076eb7665d1fb9389c7c4517fee0b00e43092eb34821...   \n",
       "14469  09076eb7665d1fb9389c7c4517fee0b00e43092eb34821...   \n",
       "13657  d6a969fff41c54131a4743aeef27fc6d96da8b6ee94075...   \n",
       "\n",
       "                                                des_city  \\\n",
       "12155  9edff2628ff7385bffbe7fc9cae89010d2cb9182e805e1...   \n",
       "29072  ecc0e7dc084f141b29479058967d0bc07dee25d9690a98...   \n",
       "40858  5372372f3bf5896820cb2819300c3e681820d82c6efc54...   \n",
       "14469  085c3a49a31cbfa71c36746a98dc908d30d423a63b969c...   \n",
       "13657  9b2d5b4678781e53038e91ea5324530a03f27dc1d0e5f6...   \n",
       "\n",
       "                                             des_country room_type  \\\n",
       "12155  8d23a6e37e0a6431a8f1b43a91026dcff51170a89a6512...       NaN   \n",
       "29072  8d23a6e37e0a6431a8f1b43a91026dcff51170a89a6512...       NaN   \n",
       "40858  8d23a6e37e0a6431a8f1b43a91026dcff51170a89a6512...       NaN   \n",
       "14469  8d23a6e37e0a6431a8f1b43a91026dcff51170a89a6512...   Ensuite   \n",
       "13657  9b2d5b4678781e53038e91ea5324530a03f27dc1d0e5f6...       NaN   \n",
       "\n",
       "                                                 lead_id  \n",
       "12155  e0670e9434b1a14548023c497585ea38f659b107929308...  \n",
       "29072  63b903353f68881cb1476510051a5eb4de5e81e4e2daea...  \n",
       "40858  616c5e2cd72df50f88ed09fc963b8805918a482d364866...  \n",
       "14469  891dc909cb09bebe0d9a99adcdfefce0a465b450888afd...  \n",
       "13657  189a8181d5724d7cdefdf8a35d724a1b93c19a0ddce932...  "
      ]
     },
     "execution_count": 10,
     "metadata": {},
     "output_type": "execute_result"
    }
   ],
   "source": [
    "df.sample(5)"
   ]
  },
  {
   "cell_type": "code",
   "execution_count": 11,
   "id": "0680a83e",
   "metadata": {},
   "outputs": [
    {
     "name": "stdout",
     "output_type": "stream",
     "text": [
      "<class 'pandas.core.frame.DataFrame'>\n",
      "RangeIndex: 46608 entries, 0 to 46607\n",
      "Data columns (total 15 columns):\n",
      " #   Column          Non-Null Count  Dtype \n",
      "---  ------          --------------  ----- \n",
      " 0   Agent_id        46608 non-null  object\n",
      " 1   status          46608 non-null  object\n",
      " 2   lost_reason     43244 non-null  object\n",
      " 3   budget          42908 non-null  object\n",
      " 4   lease           44267 non-null  object\n",
      " 5   movein          32970 non-null  object\n",
      " 6   source          46608 non-null  object\n",
      " 7   source_city     46608 non-null  object\n",
      " 8   source_country  46608 non-null  object\n",
      " 9   utm_source      46608 non-null  object\n",
      " 10  utm_medium      46608 non-null  object\n",
      " 11  des_city        46608 non-null  object\n",
      " 12  des_country     46608 non-null  object\n",
      " 13  room_type       23061 non-null  object\n",
      " 14  lead_id         46608 non-null  object\n",
      "dtypes: object(15)\n",
      "memory usage: 5.3+ MB\n"
     ]
    }
   ],
   "source": [
    "df.info()"
   ]
  },
  {
   "cell_type": "code",
   "execution_count": 12,
   "id": "89fec7ab",
   "metadata": {},
   "outputs": [
    {
     "data": {
      "text/html": [
       "<div>\n",
       "<style scoped>\n",
       "    .dataframe tbody tr th:only-of-type {\n",
       "        vertical-align: middle;\n",
       "    }\n",
       "\n",
       "    .dataframe tbody tr th {\n",
       "        vertical-align: top;\n",
       "    }\n",
       "\n",
       "    .dataframe thead th {\n",
       "        text-align: right;\n",
       "    }\n",
       "</style>\n",
       "<table border=\"1\" class=\"dataframe\">\n",
       "  <thead>\n",
       "    <tr style=\"text-align: right;\">\n",
       "      <th></th>\n",
       "      <th>column name</th>\n",
       "      <th>missing row count</th>\n",
       "      <th>missing percentage</th>\n",
       "    </tr>\n",
       "  </thead>\n",
       "  <tbody>\n",
       "    <tr>\n",
       "      <th>13</th>\n",
       "      <td>room_type</td>\n",
       "      <td>23547</td>\n",
       "      <td>50.521370</td>\n",
       "    </tr>\n",
       "    <tr>\n",
       "      <th>5</th>\n",
       "      <td>movein</td>\n",
       "      <td>13638</td>\n",
       "      <td>29.261071</td>\n",
       "    </tr>\n",
       "    <tr>\n",
       "      <th>3</th>\n",
       "      <td>budget</td>\n",
       "      <td>3700</td>\n",
       "      <td>7.938551</td>\n",
       "    </tr>\n",
       "    <tr>\n",
       "      <th>2</th>\n",
       "      <td>lost_reason</td>\n",
       "      <td>3364</td>\n",
       "      <td>7.217645</td>\n",
       "    </tr>\n",
       "    <tr>\n",
       "      <th>4</th>\n",
       "      <td>lease</td>\n",
       "      <td>2341</td>\n",
       "      <td>5.022743</td>\n",
       "    </tr>\n",
       "  </tbody>\n",
       "</table>\n",
       "</div>"
      ],
      "text/plain": [
       "    column name  missing row count  missing percentage\n",
       "13    room_type              23547           50.521370\n",
       "5        movein              13638           29.261071\n",
       "3        budget               3700            7.938551\n",
       "2   lost_reason               3364            7.217645\n",
       "4         lease               2341            5.022743"
      ]
     },
     "execution_count": 12,
     "metadata": {},
     "output_type": "execute_result"
    }
   ],
   "source": [
    "missing_report = df.isnull().sum().reset_index().assign(\n",
    "    misisng_percentage=lambda x: x[0]/df.shape[0] *100\n",
    ").sort_values(by=\"misisng_percentage\", ascending=False).rename(columns={\n",
    "\"index\": \"column name\", 0: \"missing row count\", \"misisng_percentage\" : \"missing percentage\"\n",
    "})\n",
    "missing_report = missing_report[missing_report['missing percentage']>0]\n",
    "missing_report"
   ]
  },
  {
   "cell_type": "code",
   "execution_count": 13,
   "id": "f88e35d1",
   "metadata": {},
   "outputs": [],
   "source": [
    "values = df['Agent_id'].value_counts()"
   ]
  },
  {
   "cell_type": "code",
   "execution_count": 14,
   "id": "ad5961d1",
   "metadata": {},
   "outputs": [
    {
     "data": {
      "text/plain": [
       "2fca346db656187102ce806ac732e06a62df0dbb2829e511a770556d398e1a6e    8186\n",
       "96ab6152cb421b4d4012a4903c19004608a342a5f7c6671a7828b8ad8d5b9489    1456\n",
       "44864c96fa1c36602f0d045b268981b6cab638a60fc207c89e3bba235f619450    1280\n",
       "fb3e2c0015ad5bcd60d7619ca575a56c15c5d2cd3f01f18e68c4dfaeee585db5    1105\n",
       "eac9815a500f908736d303e23aa227f0957177b0e6756b915a3d3cc3a846b83b    1070\n",
       "                                                                    ... \n",
       "04222ea3e14cb1209b9726defe3efce5196b7afa0a959854a30401be41f4026d       1\n",
       "fb87e6cf60af08595bd9fcf1f006a12f1338cb4480acea383b3b65da10bb9f28       1\n",
       "c904d4c3485db6569c9deb41da845d82056e8843eafba8bc8a90aaa06df96963       1\n",
       "59e19706d51d39f66711c2653cd7eb1291c94d9b55eb14bda74ce4dc636d015a       1\n",
       "4ec9599fc203d176a301536c2e091a19bc852759b255bd6818810a42c5fed14a       1\n",
       "Name: Agent_id, Length: 120, dtype: int64"
      ]
     },
     "execution_count": 14,
     "metadata": {},
     "output_type": "execute_result"
    }
   ],
   "source": [
    "values"
   ]
  },
  {
   "cell_type": "code",
   "execution_count": 15,
   "id": "c257efcf",
   "metadata": {},
   "outputs": [
    {
     "data": {
      "text/plain": [
       "120"
      ]
     },
     "execution_count": 15,
     "metadata": {},
     "output_type": "execute_result"
    }
   ],
   "source": [
    "len(values)"
   ]
  },
  {
   "cell_type": "code",
   "execution_count": 16,
   "id": "3d222f12",
   "metadata": {},
   "outputs": [
    {
     "name": "stdout",
     "output_type": "stream",
     "text": [
      "0\n"
     ]
    }
   ],
   "source": [
    "count = (df['Agent_id'] == '9b2d5b4678781e53038e91ea5324530a03f27dc1d0e5f6c9bc9d493a23be9de0').sum()\n",
    "\n",
    "print(count)"
   ]
  },
  {
   "cell_type": "markdown",
   "id": "e3975f18",
   "metadata": {},
   "source": [
    "Therefore there are no null values in Agent_id"
   ]
  },
  {
   "cell_type": "code",
   "execution_count": 17,
   "id": "f30c8f16",
   "metadata": {},
   "outputs": [],
   "source": [
    "duplicate_rows = df[df.duplicated(subset=['Agent_id'], keep=False)]"
   ]
  },
  {
   "cell_type": "code",
   "execution_count": 18,
   "id": "479fcf2a",
   "metadata": {},
   "outputs": [
    {
     "data": {
      "text/html": [
       "<div>\n",
       "<style scoped>\n",
       "    .dataframe tbody tr th:only-of-type {\n",
       "        vertical-align: middle;\n",
       "    }\n",
       "\n",
       "    .dataframe tbody tr th {\n",
       "        vertical-align: top;\n",
       "    }\n",
       "\n",
       "    .dataframe thead th {\n",
       "        text-align: right;\n",
       "    }\n",
       "</style>\n",
       "<table border=\"1\" class=\"dataframe\">\n",
       "  <thead>\n",
       "    <tr style=\"text-align: right;\">\n",
       "      <th></th>\n",
       "      <th>Agent_id</th>\n",
       "      <th>status</th>\n",
       "      <th>lost_reason</th>\n",
       "      <th>budget</th>\n",
       "      <th>lease</th>\n",
       "      <th>movein</th>\n",
       "      <th>source</th>\n",
       "      <th>source_city</th>\n",
       "      <th>source_country</th>\n",
       "      <th>utm_source</th>\n",
       "      <th>utm_medium</th>\n",
       "      <th>des_city</th>\n",
       "      <th>des_country</th>\n",
       "      <th>room_type</th>\n",
       "      <th>lead_id</th>\n",
       "    </tr>\n",
       "  </thead>\n",
       "  <tbody>\n",
       "    <tr>\n",
       "      <th>0</th>\n",
       "      <td>1deba9e96f404694373de9749ddd1ca8aa7bb823145a6f...</td>\n",
       "      <td>LOST</td>\n",
       "      <td>Not responding</td>\n",
       "      <td>NaN</td>\n",
       "      <td>NaN</td>\n",
       "      <td>NaN</td>\n",
       "      <td>9b2d5b4678781e53038e91ea5324530a03f27dc1d0e5f6...</td>\n",
       "      <td>9b2d5b4678781e53038e91ea5324530a03f27dc1d0e5f6...</td>\n",
       "      <td>9b2d5b4678781e53038e91ea5324530a03f27dc1d0e5f6...</td>\n",
       "      <td>3d59f7548e1af2151b64135003ce63c0a484c26b9b8b16...</td>\n",
       "      <td>268ad70eb5bc4737a2ae28162cbca30118cc94520e49ef...</td>\n",
       "      <td>ecc0e7dc084f141b29479058967d0bc07dee25d9690a98...</td>\n",
       "      <td>8d23a6e37e0a6431a8f1b43a91026dcff51170a89a6512...</td>\n",
       "      <td>NaN</td>\n",
       "      <td>cd5dc0d9393f3980d11d4ba6f88f8110c2b7a7f7796307...</td>\n",
       "    </tr>\n",
       "    <tr>\n",
       "      <th>1</th>\n",
       "      <td>299ae77a4ef350ae0dd37d6bba1c002d03444fb1edb236...</td>\n",
       "      <td>LOST</td>\n",
       "      <td>Low budget</td>\n",
       "      <td>NaN</td>\n",
       "      <td>NaN</td>\n",
       "      <td>NaN</td>\n",
       "      <td>9b2d5b4678781e53038e91ea5324530a03f27dc1d0e5f6...</td>\n",
       "      <td>9b2d5b4678781e53038e91ea5324530a03f27dc1d0e5f6...</td>\n",
       "      <td>9b2d5b4678781e53038e91ea5324530a03f27dc1d0e5f6...</td>\n",
       "      <td>3d59f7548e1af2151b64135003ce63c0a484c26b9b8b16...</td>\n",
       "      <td>268ad70eb5bc4737a2ae28162cbca30118cc94520e49ef...</td>\n",
       "      <td>5372372f3bf5896820cb2819300c3e681820d82c6efc54...</td>\n",
       "      <td>8d23a6e37e0a6431a8f1b43a91026dcff51170a89a6512...</td>\n",
       "      <td>NaN</td>\n",
       "      <td>b94693673a5f7178d1b114e4004ad52377d3244dd24a3d...</td>\n",
       "    </tr>\n",
       "    <tr>\n",
       "      <th>2</th>\n",
       "      <td>c213697430c006013012dd2aca82dd9732aa0a1a6bca13...</td>\n",
       "      <td>LOST</td>\n",
       "      <td>Not responding</td>\n",
       "      <td>£121 - £180 Per Week</td>\n",
       "      <td>Full Year Course Stay 40 - 44 weeks</td>\n",
       "      <td>31-08-2022</td>\n",
       "      <td>7aae3e886e89fc1187a5c47d6cea1c22998ee610ade1f2...</td>\n",
       "      <td>9b8cc3c63cdf447e463c11544924bf027945cbd29675f7...</td>\n",
       "      <td>e09e10e67812e9d236ad900e5d46b4308fc62f5d69446a...</td>\n",
       "      <td>bbdefa2950f49882f295b1285d4fa9dec45fc4144bfb07...</td>\n",
       "      <td>09076eb7665d1fb9389c7c4517fee0b00e43092eb34821...</td>\n",
       "      <td>11ab03a1a8c367191355c152f39fe28cae5e426fce49ef...</td>\n",
       "      <td>8d23a6e37e0a6431a8f1b43a91026dcff51170a89a6512...</td>\n",
       "      <td>Ensuite</td>\n",
       "      <td>96ea4e2bf04496c044745938c0299c264c3f4ba079e572...</td>\n",
       "    </tr>\n",
       "    <tr>\n",
       "      <th>3</th>\n",
       "      <td>eac9815a500f908736d303e23aa227f0957177b0e6756b...</td>\n",
       "      <td>LOST</td>\n",
       "      <td>Low budget</td>\n",
       "      <td>0-0</td>\n",
       "      <td>0</td>\n",
       "      <td>NaN</td>\n",
       "      <td>ba2d0a29556ac20f86f45e4543c0825428cba33fd7a9ea...</td>\n",
       "      <td>a5f0d2d08eb0592087e3a3a2f9c1ba2c67cc30f2efd2bd...</td>\n",
       "      <td>e09e10e67812e9d236ad900e5d46b4308fc62f5d69446a...</td>\n",
       "      <td>bbdefa2950f49882f295b1285d4fa9dec45fc4144bfb07...</td>\n",
       "      <td>09076eb7665d1fb9389c7c4517fee0b00e43092eb34821...</td>\n",
       "      <td>19372fa44c57a01c37a5a8418779ca3d99b0b59731fb35...</td>\n",
       "      <td>8d23a6e37e0a6431a8f1b43a91026dcff51170a89a6512...</td>\n",
       "      <td>NaN</td>\n",
       "      <td>1d2b34d8add02a182a4129023766ca4585a8ddced0e5b3...</td>\n",
       "    </tr>\n",
       "    <tr>\n",
       "      <th>4</th>\n",
       "      <td>1deba9e96f404694373de9749ddd1ca8aa7bb823145a6f...</td>\n",
       "      <td>LOST</td>\n",
       "      <td>Junk lead</td>\n",
       "      <td>NaN</td>\n",
       "      <td>NaN</td>\n",
       "      <td>NaN</td>\n",
       "      <td>9b2d5b4678781e53038e91ea5324530a03f27dc1d0e5f6...</td>\n",
       "      <td>9b2d5b4678781e53038e91ea5324530a03f27dc1d0e5f6...</td>\n",
       "      <td>9b2d5b4678781e53038e91ea5324530a03f27dc1d0e5f6...</td>\n",
       "      <td>3d59f7548e1af2151b64135003ce63c0a484c26b9b8b16...</td>\n",
       "      <td>268ad70eb5bc4737a2ae28162cbca30118cc94520e49ef...</td>\n",
       "      <td>9b2d5b4678781e53038e91ea5324530a03f27dc1d0e5f6...</td>\n",
       "      <td>9b2d5b4678781e53038e91ea5324530a03f27dc1d0e5f6...</td>\n",
       "      <td>NaN</td>\n",
       "      <td>fc10fffd29cfbe93c55158fb47752a7501c211d253468c...</td>\n",
       "    </tr>\n",
       "    <tr>\n",
       "      <th>...</th>\n",
       "      <td>...</td>\n",
       "      <td>...</td>\n",
       "      <td>...</td>\n",
       "      <td>...</td>\n",
       "      <td>...</td>\n",
       "      <td>...</td>\n",
       "      <td>...</td>\n",
       "      <td>...</td>\n",
       "      <td>...</td>\n",
       "      <td>...</td>\n",
       "      <td>...</td>\n",
       "      <td>...</td>\n",
       "      <td>...</td>\n",
       "      <td>...</td>\n",
       "      <td>...</td>\n",
       "    </tr>\n",
       "    <tr>\n",
       "      <th>46603</th>\n",
       "      <td>2306878a9ad9b57686cd623dd285aaa9b25afdf627f651...</td>\n",
       "      <td>LOST</td>\n",
       "      <td>Low availability</td>\n",
       "      <td>£60 - £120 Per week</td>\n",
       "      <td>Complete Education Year Stay 50 - 52 weeks</td>\n",
       "      <td>01-09-2022</td>\n",
       "      <td>9b2d5b4678781e53038e91ea5324530a03f27dc1d0e5f6...</td>\n",
       "      <td>7d1550b844ff586a6023216c06263105eed0a849a2a1f6...</td>\n",
       "      <td>8da82000ef9c4468ba47362a924b895e40662fed846942...</td>\n",
       "      <td>bbdefa2950f49882f295b1285d4fa9dec45fc4144bfb07...</td>\n",
       "      <td>09076eb7665d1fb9389c7c4517fee0b00e43092eb34821...</td>\n",
       "      <td>13d4b96b6ee361b737e22404aeecca45f322ba7d4c2c42...</td>\n",
       "      <td>8d23a6e37e0a6431a8f1b43a91026dcff51170a89a6512...</td>\n",
       "      <td>Studio</td>\n",
       "      <td>1aaa4a4a9092e4c0eabf958ed9aea59c50d8ea3f08f691...</td>\n",
       "    </tr>\n",
       "    <tr>\n",
       "      <th>46604</th>\n",
       "      <td>327ec29056cc47c24bf922f7dc0f78261dad5c726d7353...</td>\n",
       "      <td>LOST</td>\n",
       "      <td>Semester stay</td>\n",
       "      <td>£60 - £120 Per week</td>\n",
       "      <td>Summer/Short Stay 8 - 12 weeks</td>\n",
       "      <td>29-09-2022</td>\n",
       "      <td>9b2d5b4678781e53038e91ea5324530a03f27dc1d0e5f6...</td>\n",
       "      <td>9f2ba6981e36ea0fca6c16f42e6413d788d2a7499b8b7f...</td>\n",
       "      <td>8da82000ef9c4468ba47362a924b895e40662fed846942...</td>\n",
       "      <td>bbdefa2950f49882f295b1285d4fa9dec45fc4144bfb07...</td>\n",
       "      <td>09076eb7665d1fb9389c7c4517fee0b00e43092eb34821...</td>\n",
       "      <td>998c18dc0e513ab0035c7b858e3780bbbead88695a15de...</td>\n",
       "      <td>8d23a6e37e0a6431a8f1b43a91026dcff51170a89a6512...</td>\n",
       "      <td>Studio</td>\n",
       "      <td>1f90dbad4873cb9673ff3c7ec69fbac4289181453c6cea...</td>\n",
       "    </tr>\n",
       "    <tr>\n",
       "      <th>46605</th>\n",
       "      <td>1134c0a7d44fdae1afd7f1f64e2789496784095ca0a050...</td>\n",
       "      <td>LOST</td>\n",
       "      <td>Low availability</td>\n",
       "      <td>£241 - £300 Per week</td>\n",
       "      <td>Full Year Course Stay 40 - 44 weeks</td>\n",
       "      <td>20-09-2022</td>\n",
       "      <td>7aae3e886e89fc1187a5c47d6cea1c22998ee610ade1f2...</td>\n",
       "      <td>7d1550b844ff586a6023216c06263105eed0a849a2a1f6...</td>\n",
       "      <td>8da82000ef9c4468ba47362a924b895e40662fed846942...</td>\n",
       "      <td>bbdefa2950f49882f295b1285d4fa9dec45fc4144bfb07...</td>\n",
       "      <td>09076eb7665d1fb9389c7c4517fee0b00e43092eb34821...</td>\n",
       "      <td>ecc0e7dc084f141b29479058967d0bc07dee25d9690a98...</td>\n",
       "      <td>8d23a6e37e0a6431a8f1b43a91026dcff51170a89a6512...</td>\n",
       "      <td>Studio</td>\n",
       "      <td>d9e0f455b68a6573544ffac32292541a510fe2daffe2bb...</td>\n",
       "    </tr>\n",
       "    <tr>\n",
       "      <th>46606</th>\n",
       "      <td>8b8b029f1142f5cbc825aa6cbee01406c915c6b055db79...</td>\n",
       "      <td>LOST</td>\n",
       "      <td>Low availability</td>\n",
       "      <td>1108</td>\n",
       "      <td>294</td>\n",
       "      <td>30-08-2022</td>\n",
       "      <td>d684761c17c11590f6e2525b48141cb2c0c6f2be5df4e2...</td>\n",
       "      <td>e9c722cbefc2f055ae60b4e2cbe73a2d99537eab0c37f3...</td>\n",
       "      <td>b936ee09e20b3b2234907cde349cda1c1a5327c4a486bf...</td>\n",
       "      <td>7f3fa48ca885678134842fa7456f3ece53a97f843b6101...</td>\n",
       "      <td>abb8e2badd5b6265c3237170cc599257a4f566706715d2...</td>\n",
       "      <td>ecc0e7dc084f141b29479058967d0bc07dee25d9690a98...</td>\n",
       "      <td>8d23a6e37e0a6431a8f1b43a91026dcff51170a89a6512...</td>\n",
       "      <td>NaN</td>\n",
       "      <td>1f90dbad4873cb9673ff3c7ec69fbac4289181453c6cea...</td>\n",
       "    </tr>\n",
       "    <tr>\n",
       "      <th>46607</th>\n",
       "      <td>1ea65ea38f2f574b3875ba895e4ff76b284b7725041612...</td>\n",
       "      <td>LOST</td>\n",
       "      <td>Low availability</td>\n",
       "      <td>£181 - £240 Per Week</td>\n",
       "      <td>Full Year Course Stay 40 - 44 weeks</td>\n",
       "      <td>01-09-2022</td>\n",
       "      <td>7aae3e886e89fc1187a5c47d6cea1c22998ee610ade1f2...</td>\n",
       "      <td>1496126b7015defbc3b1d129a46096a5c135075aff2add...</td>\n",
       "      <td>e09e10e67812e9d236ad900e5d46b4308fc62f5d69446a...</td>\n",
       "      <td>bbdefa2950f49882f295b1285d4fa9dec45fc4144bfb07...</td>\n",
       "      <td>09076eb7665d1fb9389c7c4517fee0b00e43092eb34821...</td>\n",
       "      <td>618738f7143c9b43a98a6b42d743a6595069a9b4dcf42d...</td>\n",
       "      <td>8d23a6e37e0a6431a8f1b43a91026dcff51170a89a6512...</td>\n",
       "      <td>Studio</td>\n",
       "      <td>7520a8abba2b44d7f37c0ddbe5f7f3d87540b2b7a670e9...</td>\n",
       "    </tr>\n",
       "  </tbody>\n",
       "</table>\n",
       "<p>46600 rows × 15 columns</p>\n",
       "</div>"
      ],
      "text/plain": [
       "                                                Agent_id status  \\\n",
       "0      1deba9e96f404694373de9749ddd1ca8aa7bb823145a6f...   LOST   \n",
       "1      299ae77a4ef350ae0dd37d6bba1c002d03444fb1edb236...   LOST   \n",
       "2      c213697430c006013012dd2aca82dd9732aa0a1a6bca13...   LOST   \n",
       "3      eac9815a500f908736d303e23aa227f0957177b0e6756b...   LOST   \n",
       "4      1deba9e96f404694373de9749ddd1ca8aa7bb823145a6f...   LOST   \n",
       "...                                                  ...    ...   \n",
       "46603  2306878a9ad9b57686cd623dd285aaa9b25afdf627f651...   LOST   \n",
       "46604  327ec29056cc47c24bf922f7dc0f78261dad5c726d7353...   LOST   \n",
       "46605  1134c0a7d44fdae1afd7f1f64e2789496784095ca0a050...   LOST   \n",
       "46606  8b8b029f1142f5cbc825aa6cbee01406c915c6b055db79...   LOST   \n",
       "46607  1ea65ea38f2f574b3875ba895e4ff76b284b7725041612...   LOST   \n",
       "\n",
       "            lost_reason                budget  \\\n",
       "0        Not responding                   NaN   \n",
       "1            Low budget                   NaN   \n",
       "2        Not responding  £121 - £180 Per Week   \n",
       "3            Low budget                   0-0   \n",
       "4             Junk lead                   NaN   \n",
       "...                 ...                   ...   \n",
       "46603  Low availability   £60 - £120 Per week   \n",
       "46604     Semester stay   £60 - £120 Per week   \n",
       "46605  Low availability  £241 - £300 Per week   \n",
       "46606  Low availability                  1108   \n",
       "46607  Low availability  £181 - £240 Per Week   \n",
       "\n",
       "                                            lease      movein  \\\n",
       "0                                             NaN         NaN   \n",
       "1                                             NaN         NaN   \n",
       "2             Full Year Course Stay 40 - 44 weeks  31-08-2022   \n",
       "3                                               0         NaN   \n",
       "4                                             NaN         NaN   \n",
       "...                                           ...         ...   \n",
       "46603  Complete Education Year Stay 50 - 52 weeks  01-09-2022   \n",
       "46604              Summer/Short Stay 8 - 12 weeks  29-09-2022   \n",
       "46605         Full Year Course Stay 40 - 44 weeks  20-09-2022   \n",
       "46606                                         294  30-08-2022   \n",
       "46607         Full Year Course Stay 40 - 44 weeks  01-09-2022   \n",
       "\n",
       "                                                  source  \\\n",
       "0      9b2d5b4678781e53038e91ea5324530a03f27dc1d0e5f6...   \n",
       "1      9b2d5b4678781e53038e91ea5324530a03f27dc1d0e5f6...   \n",
       "2      7aae3e886e89fc1187a5c47d6cea1c22998ee610ade1f2...   \n",
       "3      ba2d0a29556ac20f86f45e4543c0825428cba33fd7a9ea...   \n",
       "4      9b2d5b4678781e53038e91ea5324530a03f27dc1d0e5f6...   \n",
       "...                                                  ...   \n",
       "46603  9b2d5b4678781e53038e91ea5324530a03f27dc1d0e5f6...   \n",
       "46604  9b2d5b4678781e53038e91ea5324530a03f27dc1d0e5f6...   \n",
       "46605  7aae3e886e89fc1187a5c47d6cea1c22998ee610ade1f2...   \n",
       "46606  d684761c17c11590f6e2525b48141cb2c0c6f2be5df4e2...   \n",
       "46607  7aae3e886e89fc1187a5c47d6cea1c22998ee610ade1f2...   \n",
       "\n",
       "                                             source_city  \\\n",
       "0      9b2d5b4678781e53038e91ea5324530a03f27dc1d0e5f6...   \n",
       "1      9b2d5b4678781e53038e91ea5324530a03f27dc1d0e5f6...   \n",
       "2      9b8cc3c63cdf447e463c11544924bf027945cbd29675f7...   \n",
       "3      a5f0d2d08eb0592087e3a3a2f9c1ba2c67cc30f2efd2bd...   \n",
       "4      9b2d5b4678781e53038e91ea5324530a03f27dc1d0e5f6...   \n",
       "...                                                  ...   \n",
       "46603  7d1550b844ff586a6023216c06263105eed0a849a2a1f6...   \n",
       "46604  9f2ba6981e36ea0fca6c16f42e6413d788d2a7499b8b7f...   \n",
       "46605  7d1550b844ff586a6023216c06263105eed0a849a2a1f6...   \n",
       "46606  e9c722cbefc2f055ae60b4e2cbe73a2d99537eab0c37f3...   \n",
       "46607  1496126b7015defbc3b1d129a46096a5c135075aff2add...   \n",
       "\n",
       "                                          source_country  \\\n",
       "0      9b2d5b4678781e53038e91ea5324530a03f27dc1d0e5f6...   \n",
       "1      9b2d5b4678781e53038e91ea5324530a03f27dc1d0e5f6...   \n",
       "2      e09e10e67812e9d236ad900e5d46b4308fc62f5d69446a...   \n",
       "3      e09e10e67812e9d236ad900e5d46b4308fc62f5d69446a...   \n",
       "4      9b2d5b4678781e53038e91ea5324530a03f27dc1d0e5f6...   \n",
       "...                                                  ...   \n",
       "46603  8da82000ef9c4468ba47362a924b895e40662fed846942...   \n",
       "46604  8da82000ef9c4468ba47362a924b895e40662fed846942...   \n",
       "46605  8da82000ef9c4468ba47362a924b895e40662fed846942...   \n",
       "46606  b936ee09e20b3b2234907cde349cda1c1a5327c4a486bf...   \n",
       "46607  e09e10e67812e9d236ad900e5d46b4308fc62f5d69446a...   \n",
       "\n",
       "                                              utm_source  \\\n",
       "0      3d59f7548e1af2151b64135003ce63c0a484c26b9b8b16...   \n",
       "1      3d59f7548e1af2151b64135003ce63c0a484c26b9b8b16...   \n",
       "2      bbdefa2950f49882f295b1285d4fa9dec45fc4144bfb07...   \n",
       "3      bbdefa2950f49882f295b1285d4fa9dec45fc4144bfb07...   \n",
       "4      3d59f7548e1af2151b64135003ce63c0a484c26b9b8b16...   \n",
       "...                                                  ...   \n",
       "46603  bbdefa2950f49882f295b1285d4fa9dec45fc4144bfb07...   \n",
       "46604  bbdefa2950f49882f295b1285d4fa9dec45fc4144bfb07...   \n",
       "46605  bbdefa2950f49882f295b1285d4fa9dec45fc4144bfb07...   \n",
       "46606  7f3fa48ca885678134842fa7456f3ece53a97f843b6101...   \n",
       "46607  bbdefa2950f49882f295b1285d4fa9dec45fc4144bfb07...   \n",
       "\n",
       "                                              utm_medium  \\\n",
       "0      268ad70eb5bc4737a2ae28162cbca30118cc94520e49ef...   \n",
       "1      268ad70eb5bc4737a2ae28162cbca30118cc94520e49ef...   \n",
       "2      09076eb7665d1fb9389c7c4517fee0b00e43092eb34821...   \n",
       "3      09076eb7665d1fb9389c7c4517fee0b00e43092eb34821...   \n",
       "4      268ad70eb5bc4737a2ae28162cbca30118cc94520e49ef...   \n",
       "...                                                  ...   \n",
       "46603  09076eb7665d1fb9389c7c4517fee0b00e43092eb34821...   \n",
       "46604  09076eb7665d1fb9389c7c4517fee0b00e43092eb34821...   \n",
       "46605  09076eb7665d1fb9389c7c4517fee0b00e43092eb34821...   \n",
       "46606  abb8e2badd5b6265c3237170cc599257a4f566706715d2...   \n",
       "46607  09076eb7665d1fb9389c7c4517fee0b00e43092eb34821...   \n",
       "\n",
       "                                                des_city  \\\n",
       "0      ecc0e7dc084f141b29479058967d0bc07dee25d9690a98...   \n",
       "1      5372372f3bf5896820cb2819300c3e681820d82c6efc54...   \n",
       "2      11ab03a1a8c367191355c152f39fe28cae5e426fce49ef...   \n",
       "3      19372fa44c57a01c37a5a8418779ca3d99b0b59731fb35...   \n",
       "4      9b2d5b4678781e53038e91ea5324530a03f27dc1d0e5f6...   \n",
       "...                                                  ...   \n",
       "46603  13d4b96b6ee361b737e22404aeecca45f322ba7d4c2c42...   \n",
       "46604  998c18dc0e513ab0035c7b858e3780bbbead88695a15de...   \n",
       "46605  ecc0e7dc084f141b29479058967d0bc07dee25d9690a98...   \n",
       "46606  ecc0e7dc084f141b29479058967d0bc07dee25d9690a98...   \n",
       "46607  618738f7143c9b43a98a6b42d743a6595069a9b4dcf42d...   \n",
       "\n",
       "                                             des_country room_type  \\\n",
       "0      8d23a6e37e0a6431a8f1b43a91026dcff51170a89a6512...       NaN   \n",
       "1      8d23a6e37e0a6431a8f1b43a91026dcff51170a89a6512...       NaN   \n",
       "2      8d23a6e37e0a6431a8f1b43a91026dcff51170a89a6512...   Ensuite   \n",
       "3      8d23a6e37e0a6431a8f1b43a91026dcff51170a89a6512...       NaN   \n",
       "4      9b2d5b4678781e53038e91ea5324530a03f27dc1d0e5f6...       NaN   \n",
       "...                                                  ...       ...   \n",
       "46603  8d23a6e37e0a6431a8f1b43a91026dcff51170a89a6512...    Studio   \n",
       "46604  8d23a6e37e0a6431a8f1b43a91026dcff51170a89a6512...    Studio   \n",
       "46605  8d23a6e37e0a6431a8f1b43a91026dcff51170a89a6512...    Studio   \n",
       "46606  8d23a6e37e0a6431a8f1b43a91026dcff51170a89a6512...       NaN   \n",
       "46607  8d23a6e37e0a6431a8f1b43a91026dcff51170a89a6512...    Studio   \n",
       "\n",
       "                                                 lead_id  \n",
       "0      cd5dc0d9393f3980d11d4ba6f88f8110c2b7a7f7796307...  \n",
       "1      b94693673a5f7178d1b114e4004ad52377d3244dd24a3d...  \n",
       "2      96ea4e2bf04496c044745938c0299c264c3f4ba079e572...  \n",
       "3      1d2b34d8add02a182a4129023766ca4585a8ddced0e5b3...  \n",
       "4      fc10fffd29cfbe93c55158fb47752a7501c211d253468c...  \n",
       "...                                                  ...  \n",
       "46603  1aaa4a4a9092e4c0eabf958ed9aea59c50d8ea3f08f691...  \n",
       "46604  1f90dbad4873cb9673ff3c7ec69fbac4289181453c6cea...  \n",
       "46605  d9e0f455b68a6573544ffac32292541a510fe2daffe2bb...  \n",
       "46606  1f90dbad4873cb9673ff3c7ec69fbac4289181453c6cea...  \n",
       "46607  7520a8abba2b44d7f37c0ddbe5f7f3d87540b2b7a670e9...  \n",
       "\n",
       "[46600 rows x 15 columns]"
      ]
     },
     "execution_count": 18,
     "metadata": {},
     "output_type": "execute_result"
    }
   ],
   "source": [
    "duplicate_rows"
   ]
  },
  {
   "cell_type": "code",
   "execution_count": 19,
   "id": "5580496a",
   "metadata": {},
   "outputs": [
    {
     "name": "stdout",
     "output_type": "stream",
     "text": [
      "31791\n"
     ]
    }
   ],
   "source": [
    "# Find occurrences of the 9b2d5b4678781e53038e91ea5324530a03f27dc1d0e5f6c9bc9d493a23be9de0 in all columns\n",
    "count = 0\n",
    "for col in df.columns:\n",
    "    count += (df[col].str.contains('9b2d5b4678781e53038e91ea5324530a03f27dc1d0e5f6c9bc9d493a23be9de0')).sum()\n",
    "\n",
    "print(count)"
   ]
  },
  {
   "cell_type": "markdown",
   "id": "269109bf",
   "metadata": {},
   "source": [
    "There are 31791 null values across all columns."
   ]
  },
  {
   "cell_type": "code",
   "execution_count": 20,
   "id": "041978d2",
   "metadata": {},
   "outputs": [
    {
     "name": "stdout",
     "output_type": "stream",
     "text": [
      "Agent_id: 0\n",
      "status: 0\n",
      "lost_reason: 0\n",
      "budget: 0\n",
      "lease: 0\n",
      "movein: 0\n",
      "source: 5977\n",
      "source_city: 8851\n",
      "source_country: 8641\n",
      "utm_source: 61\n",
      "utm_medium: 3187\n",
      "des_city: 2537\n",
      "des_country: 2537\n",
      "room_type: 0\n",
      "lead_id: 0\n"
     ]
    }
   ],
   "source": [
    "# Find occurrences of the 9b2d5b4678781e53038e91ea5324530a03f27dc1d0e5f6c9bc9d493a23be9de0 in each column\n",
    "for col in df.columns:\n",
    "    count = (df[col].str.contains('9b2d5b4678781e53038e91ea5324530a03f27dc1d0e5f6c9bc9d493a23be9de0')).sum()\n",
    "    print(f\"{col}: {count}\")"
   ]
  },
  {
   "cell_type": "markdown",
   "id": "4ec140a6",
   "metadata": {},
   "source": [
    "It can be observed that Null values can be found in columns such as source_city, source_country, utm_source, utm_medium, des_city, des_country."
   ]
  },
  {
   "cell_type": "code",
   "execution_count": 21,
   "id": "bff4ce61",
   "metadata": {},
   "outputs": [],
   "source": [
    "# Replace 9b2d5b4678781e53038e91ea5324530a03f27dc1d0e5f6c9bc9d493a23be9de0 with NaN in all columns\n",
    "df = df.replace('9b2d5b4678781e53038e91ea5324530a03f27dc1d0e5f6c9bc9d493a23be9de0', np.nan)"
   ]
  },
  {
   "cell_type": "code",
   "execution_count": 22,
   "id": "a0c6ce3c",
   "metadata": {},
   "outputs": [
    {
     "data": {
      "text/html": [
       "<div>\n",
       "<style scoped>\n",
       "    .dataframe tbody tr th:only-of-type {\n",
       "        vertical-align: middle;\n",
       "    }\n",
       "\n",
       "    .dataframe tbody tr th {\n",
       "        vertical-align: top;\n",
       "    }\n",
       "\n",
       "    .dataframe thead th {\n",
       "        text-align: right;\n",
       "    }\n",
       "</style>\n",
       "<table border=\"1\" class=\"dataframe\">\n",
       "  <thead>\n",
       "    <tr style=\"text-align: right;\">\n",
       "      <th></th>\n",
       "      <th>Agent_id</th>\n",
       "      <th>status</th>\n",
       "      <th>lost_reason</th>\n",
       "      <th>budget</th>\n",
       "      <th>lease</th>\n",
       "      <th>movein</th>\n",
       "      <th>source</th>\n",
       "      <th>source_city</th>\n",
       "      <th>source_country</th>\n",
       "      <th>utm_source</th>\n",
       "      <th>utm_medium</th>\n",
       "      <th>des_city</th>\n",
       "      <th>des_country</th>\n",
       "      <th>room_type</th>\n",
       "      <th>lead_id</th>\n",
       "    </tr>\n",
       "  </thead>\n",
       "  <tbody>\n",
       "    <tr>\n",
       "      <th>0</th>\n",
       "      <td>1deba9e96f404694373de9749ddd1ca8aa7bb823145a6f...</td>\n",
       "      <td>LOST</td>\n",
       "      <td>Not responding</td>\n",
       "      <td>NaN</td>\n",
       "      <td>NaN</td>\n",
       "      <td>NaN</td>\n",
       "      <td>NaN</td>\n",
       "      <td>NaN</td>\n",
       "      <td>NaN</td>\n",
       "      <td>3d59f7548e1af2151b64135003ce63c0a484c26b9b8b16...</td>\n",
       "      <td>268ad70eb5bc4737a2ae28162cbca30118cc94520e49ef...</td>\n",
       "      <td>ecc0e7dc084f141b29479058967d0bc07dee25d9690a98...</td>\n",
       "      <td>8d23a6e37e0a6431a8f1b43a91026dcff51170a89a6512...</td>\n",
       "      <td>NaN</td>\n",
       "      <td>cd5dc0d9393f3980d11d4ba6f88f8110c2b7a7f7796307...</td>\n",
       "    </tr>\n",
       "    <tr>\n",
       "      <th>1</th>\n",
       "      <td>299ae77a4ef350ae0dd37d6bba1c002d03444fb1edb236...</td>\n",
       "      <td>LOST</td>\n",
       "      <td>Low budget</td>\n",
       "      <td>NaN</td>\n",
       "      <td>NaN</td>\n",
       "      <td>NaN</td>\n",
       "      <td>NaN</td>\n",
       "      <td>NaN</td>\n",
       "      <td>NaN</td>\n",
       "      <td>3d59f7548e1af2151b64135003ce63c0a484c26b9b8b16...</td>\n",
       "      <td>268ad70eb5bc4737a2ae28162cbca30118cc94520e49ef...</td>\n",
       "      <td>5372372f3bf5896820cb2819300c3e681820d82c6efc54...</td>\n",
       "      <td>8d23a6e37e0a6431a8f1b43a91026dcff51170a89a6512...</td>\n",
       "      <td>NaN</td>\n",
       "      <td>b94693673a5f7178d1b114e4004ad52377d3244dd24a3d...</td>\n",
       "    </tr>\n",
       "    <tr>\n",
       "      <th>2</th>\n",
       "      <td>c213697430c006013012dd2aca82dd9732aa0a1a6bca13...</td>\n",
       "      <td>LOST</td>\n",
       "      <td>Not responding</td>\n",
       "      <td>£121 - £180 Per Week</td>\n",
       "      <td>Full Year Course Stay 40 - 44 weeks</td>\n",
       "      <td>31-08-2022</td>\n",
       "      <td>7aae3e886e89fc1187a5c47d6cea1c22998ee610ade1f2...</td>\n",
       "      <td>9b8cc3c63cdf447e463c11544924bf027945cbd29675f7...</td>\n",
       "      <td>e09e10e67812e9d236ad900e5d46b4308fc62f5d69446a...</td>\n",
       "      <td>bbdefa2950f49882f295b1285d4fa9dec45fc4144bfb07...</td>\n",
       "      <td>09076eb7665d1fb9389c7c4517fee0b00e43092eb34821...</td>\n",
       "      <td>11ab03a1a8c367191355c152f39fe28cae5e426fce49ef...</td>\n",
       "      <td>8d23a6e37e0a6431a8f1b43a91026dcff51170a89a6512...</td>\n",
       "      <td>Ensuite</td>\n",
       "      <td>96ea4e2bf04496c044745938c0299c264c3f4ba079e572...</td>\n",
       "    </tr>\n",
       "    <tr>\n",
       "      <th>3</th>\n",
       "      <td>eac9815a500f908736d303e23aa227f0957177b0e6756b...</td>\n",
       "      <td>LOST</td>\n",
       "      <td>Low budget</td>\n",
       "      <td>0-0</td>\n",
       "      <td>0</td>\n",
       "      <td>NaN</td>\n",
       "      <td>ba2d0a29556ac20f86f45e4543c0825428cba33fd7a9ea...</td>\n",
       "      <td>a5f0d2d08eb0592087e3a3a2f9c1ba2c67cc30f2efd2bd...</td>\n",
       "      <td>e09e10e67812e9d236ad900e5d46b4308fc62f5d69446a...</td>\n",
       "      <td>bbdefa2950f49882f295b1285d4fa9dec45fc4144bfb07...</td>\n",
       "      <td>09076eb7665d1fb9389c7c4517fee0b00e43092eb34821...</td>\n",
       "      <td>19372fa44c57a01c37a5a8418779ca3d99b0b59731fb35...</td>\n",
       "      <td>8d23a6e37e0a6431a8f1b43a91026dcff51170a89a6512...</td>\n",
       "      <td>NaN</td>\n",
       "      <td>1d2b34d8add02a182a4129023766ca4585a8ddced0e5b3...</td>\n",
       "    </tr>\n",
       "    <tr>\n",
       "      <th>4</th>\n",
       "      <td>1deba9e96f404694373de9749ddd1ca8aa7bb823145a6f...</td>\n",
       "      <td>LOST</td>\n",
       "      <td>Junk lead</td>\n",
       "      <td>NaN</td>\n",
       "      <td>NaN</td>\n",
       "      <td>NaN</td>\n",
       "      <td>NaN</td>\n",
       "      <td>NaN</td>\n",
       "      <td>NaN</td>\n",
       "      <td>3d59f7548e1af2151b64135003ce63c0a484c26b9b8b16...</td>\n",
       "      <td>268ad70eb5bc4737a2ae28162cbca30118cc94520e49ef...</td>\n",
       "      <td>NaN</td>\n",
       "      <td>NaN</td>\n",
       "      <td>NaN</td>\n",
       "      <td>fc10fffd29cfbe93c55158fb47752a7501c211d253468c...</td>\n",
       "    </tr>\n",
       "  </tbody>\n",
       "</table>\n",
       "</div>"
      ],
      "text/plain": [
       "                                            Agent_id status     lost_reason  \\\n",
       "0  1deba9e96f404694373de9749ddd1ca8aa7bb823145a6f...   LOST  Not responding   \n",
       "1  299ae77a4ef350ae0dd37d6bba1c002d03444fb1edb236...   LOST      Low budget   \n",
       "2  c213697430c006013012dd2aca82dd9732aa0a1a6bca13...   LOST  Not responding   \n",
       "3  eac9815a500f908736d303e23aa227f0957177b0e6756b...   LOST      Low budget   \n",
       "4  1deba9e96f404694373de9749ddd1ca8aa7bb823145a6f...   LOST       Junk lead   \n",
       "\n",
       "                 budget                                lease      movein  \\\n",
       "0                   NaN                                  NaN         NaN   \n",
       "1                   NaN                                  NaN         NaN   \n",
       "2  £121 - £180 Per Week  Full Year Course Stay 40 - 44 weeks  31-08-2022   \n",
       "3                   0-0                                    0         NaN   \n",
       "4                   NaN                                  NaN         NaN   \n",
       "\n",
       "                                              source  \\\n",
       "0                                                NaN   \n",
       "1                                                NaN   \n",
       "2  7aae3e886e89fc1187a5c47d6cea1c22998ee610ade1f2...   \n",
       "3  ba2d0a29556ac20f86f45e4543c0825428cba33fd7a9ea...   \n",
       "4                                                NaN   \n",
       "\n",
       "                                         source_city  \\\n",
       "0                                                NaN   \n",
       "1                                                NaN   \n",
       "2  9b8cc3c63cdf447e463c11544924bf027945cbd29675f7...   \n",
       "3  a5f0d2d08eb0592087e3a3a2f9c1ba2c67cc30f2efd2bd...   \n",
       "4                                                NaN   \n",
       "\n",
       "                                      source_country  \\\n",
       "0                                                NaN   \n",
       "1                                                NaN   \n",
       "2  e09e10e67812e9d236ad900e5d46b4308fc62f5d69446a...   \n",
       "3  e09e10e67812e9d236ad900e5d46b4308fc62f5d69446a...   \n",
       "4                                                NaN   \n",
       "\n",
       "                                          utm_source  \\\n",
       "0  3d59f7548e1af2151b64135003ce63c0a484c26b9b8b16...   \n",
       "1  3d59f7548e1af2151b64135003ce63c0a484c26b9b8b16...   \n",
       "2  bbdefa2950f49882f295b1285d4fa9dec45fc4144bfb07...   \n",
       "3  bbdefa2950f49882f295b1285d4fa9dec45fc4144bfb07...   \n",
       "4  3d59f7548e1af2151b64135003ce63c0a484c26b9b8b16...   \n",
       "\n",
       "                                          utm_medium  \\\n",
       "0  268ad70eb5bc4737a2ae28162cbca30118cc94520e49ef...   \n",
       "1  268ad70eb5bc4737a2ae28162cbca30118cc94520e49ef...   \n",
       "2  09076eb7665d1fb9389c7c4517fee0b00e43092eb34821...   \n",
       "3  09076eb7665d1fb9389c7c4517fee0b00e43092eb34821...   \n",
       "4  268ad70eb5bc4737a2ae28162cbca30118cc94520e49ef...   \n",
       "\n",
       "                                            des_city  \\\n",
       "0  ecc0e7dc084f141b29479058967d0bc07dee25d9690a98...   \n",
       "1  5372372f3bf5896820cb2819300c3e681820d82c6efc54...   \n",
       "2  11ab03a1a8c367191355c152f39fe28cae5e426fce49ef...   \n",
       "3  19372fa44c57a01c37a5a8418779ca3d99b0b59731fb35...   \n",
       "4                                                NaN   \n",
       "\n",
       "                                         des_country room_type  \\\n",
       "0  8d23a6e37e0a6431a8f1b43a91026dcff51170a89a6512...       NaN   \n",
       "1  8d23a6e37e0a6431a8f1b43a91026dcff51170a89a6512...       NaN   \n",
       "2  8d23a6e37e0a6431a8f1b43a91026dcff51170a89a6512...   Ensuite   \n",
       "3  8d23a6e37e0a6431a8f1b43a91026dcff51170a89a6512...       NaN   \n",
       "4                                                NaN       NaN   \n",
       "\n",
       "                                             lead_id  \n",
       "0  cd5dc0d9393f3980d11d4ba6f88f8110c2b7a7f7796307...  \n",
       "1  b94693673a5f7178d1b114e4004ad52377d3244dd24a3d...  \n",
       "2  96ea4e2bf04496c044745938c0299c264c3f4ba079e572...  \n",
       "3  1d2b34d8add02a182a4129023766ca4585a8ddced0e5b3...  \n",
       "4  fc10fffd29cfbe93c55158fb47752a7501c211d253468c...  "
      ]
     },
     "execution_count": 22,
     "metadata": {},
     "output_type": "execute_result"
    }
   ],
   "source": [
    "df.head()"
   ]
  },
  {
   "cell_type": "code",
   "execution_count": 23,
   "id": "29016a5a",
   "metadata": {},
   "outputs": [
    {
     "data": {
      "text/plain": [
       "LOST           43244\n",
       "WON             3073\n",
       "OPPORTUNITY      254\n",
       "CONTACTED         28\n",
       "PROCESSING         8\n",
       "IMPORTANT          1\n",
       "Name: status, dtype: int64"
      ]
     },
     "execution_count": 23,
     "metadata": {},
     "output_type": "execute_result"
    }
   ],
   "source": [
    "df['status'].value_counts()"
   ]
  },
  {
   "cell_type": "code",
   "execution_count": 24,
   "id": "46895481",
   "metadata": {},
   "outputs": [],
   "source": [
    "# Define values to drop\n",
    "values_to_drop = ['OPPORTUNITY', 'CONTACTED', 'PROCESSING','IMPORTANT']\n",
    "\n",
    "# Drop rows containing certain values in a column\n",
    "df = df.drop(df[df['status'].isin(values_to_drop)].index)"
   ]
  },
  {
   "cell_type": "code",
   "execution_count": 25,
   "id": "25095a13",
   "metadata": {},
   "outputs": [
    {
     "data": {
      "text/plain": [
       "(46317, 15)"
      ]
     },
     "execution_count": 25,
     "metadata": {},
     "output_type": "execute_result"
    }
   ],
   "source": [
    "df.shape"
   ]
  },
  {
   "cell_type": "code",
   "execution_count": 26,
   "id": "87d4129f",
   "metadata": {},
   "outputs": [
    {
     "data": {
      "text/plain": [
       "LOST    43244\n",
       "WON      3073\n",
       "Name: status, dtype: int64"
      ]
     },
     "execution_count": 26,
     "metadata": {},
     "output_type": "execute_result"
    }
   ],
   "source": [
    "df['status'].value_counts()"
   ]
  },
  {
   "cell_type": "code",
   "execution_count": 27,
   "id": "5b7df691",
   "metadata": {},
   "outputs": [
    {
     "data": {
      "text/plain": [
       "<AxesSubplot:title={'center':'Status'}>"
      ]
     },
     "execution_count": 27,
     "metadata": {},
     "output_type": "execute_result"
    },
    {
     "data": {
      "image/png": "[encoded data removed]",
      "text/plain": [
       "<Figure size 432x288 with 1 Axes>"
      ]
     },
     "metadata": {
      "needs_background": "light"
     },
     "output_type": "display_data"
    }
   ],
   "source": [
    "df['status'].value_counts().sort_index().plot(kind=\"bar\", title=\"Status\")"
   ]
  },
  {
   "cell_type": "code",
   "execution_count": 28,
   "id": "ecad63b4",
   "metadata": {},
   "outputs": [
    {
     "data": {
      "text/plain": [
       "Low availability                  8892\n",
       "Not responding                    7827\n",
       "Not interested                    6449\n",
       "Low budget                        5505\n",
       "Wants private accommodation       2781\n",
       "Short stay                        2264\n",
       "Not a student                     1518\n",
       "Just Enquiring                    1263\n",
       "Inadequate details                 827\n",
       "Semester stay                      817\n",
       "Booked with manager                676\n",
       "Junk lead                          629\n",
       "Booked on campus accommodation     613\n",
       "Supply issue                       538\n",
       "No supply                          534\n",
       "Not serving in that region         411\n",
       "Repeat lead                        394\n",
       "Booked with competitor             356\n",
       "Not going to university            329\n",
       "Distance issue                     219\n",
       "Junk lead/ Just Enquiring          147\n",
       "Lead issue                         127\n",
       "Looking for admission               41\n",
       "Didn't respond in time              35\n",
       "Visa/admission denied               17\n",
       "Guarantor issue                     17\n",
       "Looking for Scholarship              8\n",
       "Looking for loan                     5\n",
       "Underage student                     4\n",
       "Cross sell                           1\n",
       "Name: lost_reason, dtype: int64"
      ]
     },
     "execution_count": 28,
     "metadata": {},
     "output_type": "execute_result"
    }
   ],
   "source": [
    "df['lost_reason'].value_counts()"
   ]
  },
  {
   "cell_type": "markdown",
   "id": "e91c84cb",
   "metadata": {},
   "source": [
    "Also 6.63% of the data in 'lost_reason' is null. We would use mode method to fill the null values."
   ]
  },
  {
   "cell_type": "code",
   "execution_count": 29,
   "id": "0cb2f8e5",
   "metadata": {},
   "outputs": [],
   "source": [
    "# Impute missing values in the 'column_name' column with mode\n",
    "df['lost_reason'] = df['lost_reason'].fillna(df['lost_reason'].mode()[0])"
   ]
  },
  {
   "cell_type": "code",
   "execution_count": 30,
   "id": "100a9558",
   "metadata": {},
   "outputs": [
    {
     "data": {
      "text/plain": [
       "0"
      ]
     },
     "execution_count": 30,
     "metadata": {},
     "output_type": "execute_result"
    }
   ],
   "source": [
    "df['lost_reason'].isna().sum()"
   ]
  },
  {
   "cell_type": "markdown",
   "id": "780f84c3",
   "metadata": {},
   "source": [
    "No more null values in 'lost_reason'."
   ]
  },
  {
   "cell_type": "code",
   "execution_count": 31,
   "id": "83dd7b36",
   "metadata": {},
   "outputs": [
    {
     "data": {
      "text/plain": [
       "3694"
      ]
     },
     "execution_count": 31,
     "metadata": {},
     "output_type": "execute_result"
    }
   ],
   "source": [
    "df['budget'].isna().sum()"
   ]
  },
  {
   "cell_type": "code",
   "execution_count": 32,
   "id": "f09e19c1",
   "metadata": {},
   "outputs": [],
   "source": [
    "#drop columns\n",
    "df = df.drop(columns=['room_type', 'movein'])"
   ]
  },
  {
   "cell_type": "code",
   "execution_count": 33,
   "id": "9f6e31fc",
   "metadata": {},
   "outputs": [
    {
     "data": {
      "text/plain": [
       "£60 - £120 Per week     9750\n",
       "£121 - £180 Per Week    8878\n",
       "0-0                     5719\n",
       "£181 - £240 Per Week    2143\n",
       "100                     1509\n",
       "                        ... \n",
       "0-80-100$                  1\n",
       "0-235                      1\n",
       "£120-160 Per Week          1\n",
       "1400 per month             1\n",
       "0-500 PCM                  1\n",
       "Name: budget, Length: 1851, dtype: int64"
      ]
     },
     "execution_count": 33,
     "metadata": {},
     "output_type": "execute_result"
    }
   ],
   "source": [
    "df['budget'].value_counts()"
   ]
  },
  {
   "cell_type": "code",
   "execution_count": 34,
   "id": "0d7863a1",
   "metadata": {},
   "outputs": [],
   "source": [
    "import re"
   ]
  },
  {
   "cell_type": "code",
   "execution_count": 35,
   "id": "dd2a84c0",
   "metadata": {},
   "outputs": [],
   "source": [
    "def extract_budget(s):\n",
    "    if isinstance(s, str):\n",
    "        match = re.search(r'£(\\d+) - £(\\d+)', s)\n",
    "        if match:\n",
    "            return match.group(1) + '-' + match.group(2)\n",
    "    return None\n",
    "\n",
    "# Apply the function to the budget column\n",
    "df['budget'] = df['budget'].apply(extract_budget)"
   ]
  },
  {
   "cell_type": "code",
   "execution_count": 36,
   "id": "ce972152",
   "metadata": {},
   "outputs": [
    {
     "data": {
      "text/plain": [
       "60-120     9751\n",
       "121-180    8878\n",
       "181-240    2143\n",
       "241-300     709\n",
       "60-150        2\n",
       "120-150       2\n",
       "121-130       2\n",
       "100-150       1\n",
       "100-100       1\n",
       "121-300       1\n",
       "121-250       1\n",
       "121-160       1\n",
       "200-230       1\n",
       "60-140        1\n",
       "99-120        1\n",
       "181-250       1\n",
       "90-140        1\n",
       "100-130       1\n",
       "130-160       1\n",
       "175-196       1\n",
       "150-160       1\n",
       "100-115       1\n",
       "180-190       1\n",
       "80-90         1\n",
       "100-140       1\n",
       "121-150       1\n",
       "125-150       1\n",
       "90-120        1\n",
       "60-130        1\n",
       "200-250       1\n",
       "121-140       1\n",
       "121-190       1\n",
       "160-170       1\n",
       "150-200       1\n",
       "Name: budget, dtype: int64"
      ]
     },
     "execution_count": 36,
     "metadata": {},
     "output_type": "execute_result"
    }
   ],
   "source": [
    "df['budget'].value_counts()"
   ]
  },
  {
   "cell_type": "code",
   "execution_count": 37,
   "id": "4bb64a6a",
   "metadata": {},
   "outputs": [],
   "source": [
    "df['budget'] = df['budget'].str.strip()"
   ]
  },
  {
   "cell_type": "code",
   "execution_count": 38,
   "id": "45c24488",
   "metadata": {},
   "outputs": [],
   "source": [
    "df['budget'] = df['budget'].fillna(0)"
   ]
  },
  {
   "cell_type": "code",
   "execution_count": 39,
   "id": "2d1db2b6",
   "metadata": {},
   "outputs": [
    {
     "data": {
      "text/plain": [
       "0              0\n",
       "1              0\n",
       "2        121-180\n",
       "3              0\n",
       "4              0\n",
       "          ...   \n",
       "46603     60-120\n",
       "46604     60-120\n",
       "46605    241-300\n",
       "46606          0\n",
       "46607    181-240\n",
       "Name: budget, Length: 46317, dtype: object"
      ]
     },
     "execution_count": 39,
     "metadata": {},
     "output_type": "execute_result"
    }
   ],
   "source": [
    "df['budget']"
   ]
  },
  {
   "cell_type": "code",
   "execution_count": 40,
   "id": "7088fdee",
   "metadata": {},
   "outputs": [],
   "source": [
    "def standardize_budget(value):\n",
    "    value = str(value)  # Convert input to string\n",
    "    # Check if value is already in standardized format\n",
    "    if re.match('\\d+-\\d+', value):\n",
    "        return value\n",
    "    # If value is not in standardized format, parse the range and return standardized format\n",
    "    pattern = r'\\£?(\\d+)\\s*-\\s*\\£?(\\d+)'\n",
    "    match = re.match(pattern, value)\n",
    "    if match:\n",
    "        lower = int(match.group(1))\n",
    "        upper = int(match.group(2))\n",
    "        if lower <= 60 and upper <= 60:\n",
    "            return '0-60'\n",
    "        elif lower <= 120 and upper <= 120:\n",
    "            return '61-120'\n",
    "        elif lower <= 180 and upper <= 180:\n",
    "            return '121-180'\n",
    "        elif lower <= 240 and upper <= 240:\n",
    "            return '181-240'\n",
    "        elif lower <= 300 and upper <= 300:\n",
    "            return '241-300'\n",
    "        elif lower <= 360 and upper <= 360:\n",
    "            return '301-360'\n",
    "    # If value doesn't match any of the above conditions, return the original value\n",
    "    return value"
   ]
  },
  {
   "cell_type": "code",
   "execution_count": 41,
   "id": "a79386e6",
   "metadata": {},
   "outputs": [],
   "source": [
    "df['budget'] = df['budget'].apply(standardize_budget)"
   ]
  },
  {
   "cell_type": "code",
   "execution_count": 42,
   "id": "c2e7bd77",
   "metadata": {},
   "outputs": [],
   "source": [
    "# Create a dictionary to map unstandardized values to their standardized values\n",
    "budget_map = {\n",
    "    '0': '0-60',\n",
    "    '160-170': '121-180',\n",
    "    '175-196': '181-240',\n",
    "    '60-140': '61-120',\n",
    "    '130-160': '121-180',\n",
    "    '100-100': '0-60',\n",
    "    '121-300': '301-360',\n",
    "    '121-130': '121-180',\n",
    "    '121-250': '241-300',\n",
    "    '99-120': '61-120'\n",
    "}\n",
    "\n",
    "# Apply the dictionary to the budget column\n",
    "df['budget'] = df['budget'].map(budget_map).fillna(df['budget'])"
   ]
  },
  {
   "cell_type": "code",
   "execution_count": 43,
   "id": "11217594",
   "metadata": {},
   "outputs": [
    {
     "name": "stdout",
     "output_type": "stream",
     "text": [
      "0-60       24804\n",
      "60-120      9751\n",
      "121-180     8882\n",
      "181-240     2144\n",
      "241-300      710\n",
      "60-150         2\n",
      "120-150        2\n",
      "61-120         2\n",
      "150-160        1\n",
      "100-130        1\n",
      "90-140         1\n",
      "181-250        1\n",
      "121-160        1\n",
      "200-230        1\n",
      "100-150        1\n",
      "301-360        1\n",
      "80-90          1\n",
      "100-115        1\n",
      "180-190        1\n",
      "100-140        1\n",
      "121-150        1\n",
      "125-150        1\n",
      "90-120         1\n",
      "60-130         1\n",
      "200-250        1\n",
      "121-140        1\n",
      "121-190        1\n",
      "150-200        1\n",
      "Name: budget, dtype: int64\n"
     ]
    }
   ],
   "source": [
    "print(df['budget'].value_counts())"
   ]
  },
  {
   "cell_type": "code",
   "execution_count": 44,
   "id": "3ecaba1c",
   "metadata": {},
   "outputs": [],
   "source": [
    "budget_mapping = {\n",
    "    '60-150': '61-120',\n",
    "    '120-150': '121-180',\n",
    "    '125-150': '121-180',\n",
    "    '150-160': '121-180',\n",
    "    '90-140': '0-60',\n",
    "    '181-250': '181-240',\n",
    "    '121-160': '121-180',\n",
    "    '200-230': '181-240',\n",
    "    '100-150': '0-60',\n",
    "    '80-90': '0-60',\n",
    "    '100-115': '0-60',\n",
    "    '180-190': '181-240',\n",
    "    '100-140': '0-60',\n",
    "    '121-150': '121-180',\n",
    "    '60-130': '0-60',\n",
    "    '200-250': '181-240',\n",
    "    '121-140': '121-180',\n",
    "    '121-190': '121-180',\n",
    "    '150-200': '121-180'\n",
    "}\n",
    "\n",
    "df['budget'] = df['budget'].replace(budget_mapping)"
   ]
  },
  {
   "cell_type": "code",
   "execution_count": 45,
   "id": "03faa35c",
   "metadata": {},
   "outputs": [],
   "source": [
    "budget_mapping = {\n",
    "    '60-120':'61-120',\n",
    "    '90-120':'61-120',\n",
    "    '100-130':'121-180'\n",
    "}\n",
    "df['budget'] = df['budget'].replace(budget_mapping)"
   ]
  },
  {
   "cell_type": "code",
   "execution_count": 46,
   "id": "37ffb530",
   "metadata": {},
   "outputs": [
    {
     "name": "stdout",
     "output_type": "stream",
     "text": [
      "0-60       24810\n",
      "61-120      9756\n",
      "121-180     8892\n",
      "181-240     2148\n",
      "241-300      710\n",
      "301-360        1\n",
      "Name: budget, dtype: int64\n"
     ]
    }
   ],
   "source": [
    "print(df['budget'].value_counts())"
   ]
  },
  {
   "cell_type": "code",
   "execution_count": 47,
   "id": "775b230a",
   "metadata": {},
   "outputs": [
    {
     "data": {
      "text/plain": [
       "0"
      ]
     },
     "execution_count": 47,
     "metadata": {},
     "output_type": "execute_result"
    }
   ],
   "source": [
    "df['budget'].isna().sum()"
   ]
  },
  {
   "cell_type": "code",
   "execution_count": 48,
   "id": "8d837dc0",
   "metadata": {},
   "outputs": [
    {
     "data": {
      "text/plain": [
       "<AxesSubplot:title={'center':'Budget'}>"
      ]
     },
     "execution_count": 48,
     "metadata": {},
     "output_type": "execute_result"
    },
    {
     "data": {
      "image/png": "[encoded data removed]",
      "text/plain": [
       "<Figure size 432x288 with 1 Axes>"
      ]
     },
     "metadata": {
      "needs_background": "light"
     },
     "output_type": "display_data"
    }
   ],
   "source": [
    "df['budget'].value_counts().sort_index().plot(kind=\"bar\", title=\"Budget\")"
   ]
  },
  {
   "cell_type": "code",
   "execution_count": 49,
   "id": "cd3cbf51",
   "metadata": {},
   "outputs": [
    {
     "data": {
      "text/html": [
       "<div>\n",
       "<style scoped>\n",
       "    .dataframe tbody tr th:only-of-type {\n",
       "        vertical-align: middle;\n",
       "    }\n",
       "\n",
       "    .dataframe tbody tr th {\n",
       "        vertical-align: top;\n",
       "    }\n",
       "\n",
       "    .dataframe thead th {\n",
       "        text-align: right;\n",
       "    }\n",
       "</style>\n",
       "<table border=\"1\" class=\"dataframe\">\n",
       "  <thead>\n",
       "    <tr style=\"text-align: right;\">\n",
       "      <th></th>\n",
       "      <th>column name</th>\n",
       "      <th>missing row count</th>\n",
       "      <th>missing percentage</th>\n",
       "    </tr>\n",
       "  </thead>\n",
       "  <tbody>\n",
       "    <tr>\n",
       "      <th>6</th>\n",
       "      <td>source_city</td>\n",
       "      <td>8831</td>\n",
       "      <td>19.066433</td>\n",
       "    </tr>\n",
       "    <tr>\n",
       "      <th>7</th>\n",
       "      <td>source_country</td>\n",
       "      <td>8622</td>\n",
       "      <td>18.615195</td>\n",
       "    </tr>\n",
       "    <tr>\n",
       "      <th>5</th>\n",
       "      <td>source</td>\n",
       "      <td>5951</td>\n",
       "      <td>12.848414</td>\n",
       "    </tr>\n",
       "    <tr>\n",
       "      <th>9</th>\n",
       "      <td>utm_medium</td>\n",
       "      <td>3184</td>\n",
       "      <td>6.874366</td>\n",
       "    </tr>\n",
       "    <tr>\n",
       "      <th>10</th>\n",
       "      <td>des_city</td>\n",
       "      <td>2529</td>\n",
       "      <td>5.460198</td>\n",
       "    </tr>\n",
       "    <tr>\n",
       "      <th>11</th>\n",
       "      <td>des_country</td>\n",
       "      <td>2529</td>\n",
       "      <td>5.460198</td>\n",
       "    </tr>\n",
       "    <tr>\n",
       "      <th>4</th>\n",
       "      <td>lease</td>\n",
       "      <td>2336</td>\n",
       "      <td>5.043505</td>\n",
       "    </tr>\n",
       "    <tr>\n",
       "      <th>8</th>\n",
       "      <td>utm_source</td>\n",
       "      <td>61</td>\n",
       "      <td>0.131701</td>\n",
       "    </tr>\n",
       "  </tbody>\n",
       "</table>\n",
       "</div>"
      ],
      "text/plain": [
       "       column name  missing row count  missing percentage\n",
       "6      source_city               8831           19.066433\n",
       "7   source_country               8622           18.615195\n",
       "5           source               5951           12.848414\n",
       "9       utm_medium               3184            6.874366\n",
       "10        des_city               2529            5.460198\n",
       "11     des_country               2529            5.460198\n",
       "4            lease               2336            5.043505\n",
       "8       utm_source                 61            0.131701"
      ]
     },
     "execution_count": 49,
     "metadata": {},
     "output_type": "execute_result"
    }
   ],
   "source": [
    "# check for new missing data report\n",
    "\n",
    "missing_report_2 = df.isnull().sum().reset_index().assign(\n",
    "    misisng_percentage=lambda x: x[0]/df.shape[0] *100\n",
    ").sort_values(by=\"misisng_percentage\", ascending=False).rename(columns={\n",
    "\"index\": \"column name\", 0: \"missing row count\", \"misisng_percentage\" : \"missing percentage\"\n",
    "})\n",
    "missing_report_2 = missing_report_2[missing_report_2['missing percentage']>0]\n",
    "missing_report_2"
   ]
  },
  {
   "cell_type": "code",
   "execution_count": 50,
   "id": "0e646588",
   "metadata": {},
   "outputs": [
    {
     "data": {
      "text/plain": [
       "Full Year Course Stay 40 - 44 weeks           11000\n",
       "0                                              7538\n",
       "Complete Education Year Stay 50 - 52 weeks     6451\n",
       "51                                             3952\n",
       "Semester Stay 20 - 24 weeks                    2753\n",
       "                                              ...  \n",
       "44/weeks                                          1\n",
       "36-40 weeks                                       1\n",
       "12 month                                          1\n",
       "44 weeks/51 weeks                                 1\n",
       "78                                                1\n",
       "Name: lease, Length: 310, dtype: int64"
      ]
     },
     "execution_count": 50,
     "metadata": {},
     "output_type": "execute_result"
    }
   ],
   "source": [
    "df['lease'].value_counts()"
   ]
  },
  {
   "cell_type": "code",
   "execution_count": 51,
   "id": "61c4db90",
   "metadata": {},
   "outputs": [
    {
     "data": {
      "text/plain": [
       "2336"
      ]
     },
     "execution_count": 51,
     "metadata": {},
     "output_type": "execute_result"
    }
   ],
   "source": [
    "df['lease'].isna().sum()"
   ]
  },
  {
   "cell_type": "code",
   "execution_count": 52,
   "id": "8067415a",
   "metadata": {},
   "outputs": [],
   "source": [
    "from sklearn.impute import SimpleImputer\n",
    "\n",
    "# create the imputer object with 'most_frequent' strategy\n",
    "imputer = SimpleImputer(strategy='most_frequent')\n",
    "\n",
    "# fit the imputer on the lease column\n",
    "imputer.fit(df[['lease']])\n",
    "\n",
    "# transform the lease column\n",
    "df['lease'] = imputer.transform(df[['lease']])"
   ]
  },
  {
   "cell_type": "code",
   "execution_count": 53,
   "id": "22571ff2",
   "metadata": {},
   "outputs": [
    {
     "data": {
      "text/plain": [
       "0"
      ]
     },
     "execution_count": 53,
     "metadata": {},
     "output_type": "execute_result"
    }
   ],
   "source": [
    "df['lease'].isna().sum()"
   ]
  },
  {
   "cell_type": "code",
   "execution_count": 54,
   "id": "bf7c676c",
   "metadata": {},
   "outputs": [
    {
     "data": {
      "text/plain": [
       "7aae3e886e89fc1187a5c47d6cea1c22998ee610ade1f2b7c51be879f0c37ca8    19092\n",
       "7bcfca0e9d73371699b0adbf1c691e02108fa64f02f4dbe24a0217f139a9b916     3794\n",
       "ba2d0a29556ac20f86f45e4543c0825428cba33fd7a9eaa29e3f169d2ca43b2b     3586\n",
       "146fb4ecbe78caa24102bbaac12e2559a8c8e32fb116d36e3553a709fce40549     2210\n",
       "d684761c17c11590f6e2525b48141cb2c0c6f2be5df4e229dae06e64c5c41b64     2129\n",
       "                                                                    ...  \n",
       "ab4556b4118e9689282ac334ed94636124b8d4a531e2db6c2623eb0437de1ab2        1\n",
       "ff25c08fc834360514f4fbc6434c2bb381ad04ea984ea86c2a0f5fb6ec94a831        1\n",
       "fde7c38145e98695f302f2eb113737bcf9e6b3b0ec4ab2723f4d6610cc97813f        1\n",
       "f4dd29fa0ded5c9ca30c96015bf8147165bfce38964c3842352d7a013b870ac9        1\n",
       "93bee3e177d17c128e6a6af7b88fd675d7ec729b1a88ae13c582248dfd702378        1\n",
       "Name: source, Length: 682, dtype: int64"
      ]
     },
     "execution_count": 54,
     "metadata": {},
     "output_type": "execute_result"
    }
   ],
   "source": [
    "df['source'].value_counts()"
   ]
  },
  {
   "cell_type": "code",
   "execution_count": 55,
   "id": "8da3aade",
   "metadata": {},
   "outputs": [
    {
     "data": {
      "text/plain": [
       "5951"
      ]
     },
     "execution_count": 55,
     "metadata": {},
     "output_type": "execute_result"
    }
   ],
   "source": [
    "df['source'].isna().sum()"
   ]
  },
  {
   "cell_type": "code",
   "execution_count": 56,
   "id": "56bfdaa2",
   "metadata": {},
   "outputs": [
    {
     "data": {
      "text/plain": [
       "Agent_id             0\n",
       "status               0\n",
       "lost_reason          0\n",
       "budget               0\n",
       "lease                0\n",
       "source            5951\n",
       "source_city       8831\n",
       "source_country    8622\n",
       "utm_source          61\n",
       "utm_medium        3184\n",
       "des_city          2529\n",
       "des_country       2529\n",
       "lead_id              0\n",
       "dtype: int64"
      ]
     },
     "execution_count": 56,
     "metadata": {},
     "output_type": "execute_result"
    }
   ],
   "source": [
    "df.isnull().sum()"
   ]
  },
  {
   "cell_type": "code",
   "execution_count": null,
   "id": "9f0ca69a",
   "metadata": {},
   "outputs": [],
   "source": [
    "df['room_type'].value_counts().sum()"
   ]
  },
  {
   "cell_type": "code",
   "execution_count": null,
   "id": "80bb6ca4",
   "metadata": {},
   "outputs": [],
   "source": [
    "df['room_type'].value_counts().sort_index().plot(kind=\"bar\", title=\"Room Type\")"
   ]
  },
  {
   "cell_type": "markdown",
   "id": "824b1349",
   "metadata": {},
   "source": [
    "Ensuite has most preference."
   ]
  },
  {
   "cell_type": "markdown",
   "id": "1b5166fa",
   "metadata": {},
   "source": [
    "50% of data is missing in 'room_type'"
   ]
  },
  {
   "cell_type": "code",
   "execution_count": null,
   "id": "cc59d6b8",
   "metadata": {},
   "outputs": [],
   "source": [
    "room_type_counts = df['room_type'].value_counts(normalize=True) * 100\n",
    "print(room_type_counts)"
   ]
  },
  {
   "cell_type": "code",
   "execution_count": 78,
   "id": "26b474a2",
   "metadata": {},
   "outputs": [],
   "source": [
    "# Define the values to sample from and their corresponding probabilities\n",
    "values = ['Ensuite', 'Studio', 'Entire Place', 'Non-Ensuite', 'Twin-Studio']\n",
    "probabilities = [0.54104332, 0.27678765, 0.18203894, 0.00008673, 0.00004336]\n",
    "\n",
    "# Replace null values in the room_type column with a randomly sampled value\n",
    "df['room_type'].fillna(pd.Series(np.random.choice(values, p=probabilities, size=len(df))), inplace=True)"
   ]
  },
  {
   "cell_type": "code",
   "execution_count": 79,
   "id": "47f49b6f",
   "metadata": {},
   "outputs": [
    {
     "data": {
      "text/plain": [
       "0"
      ]
     },
     "execution_count": 79,
     "metadata": {},
     "output_type": "execute_result"
    }
   ],
   "source": [
    "df['room_type'].isna().sum()"
   ]
  },
  {
   "cell_type": "code",
   "execution_count": 80,
   "id": "01b54736",
   "metadata": {},
   "outputs": [
    {
     "data": {
      "text/plain": [
       "Unnamed: 0           0\n",
       "Agent_id             0\n",
       "status               0\n",
       "lost_reason          0\n",
       "budget            3700\n",
       "lease                0\n",
       "movein               0\n",
       "source               0\n",
       "source_city          0\n",
       "source_country       0\n",
       "utm_source           0\n",
       "utm_medium           0\n",
       "des_city             0\n",
       "des_country          0\n",
       "room_type            0\n",
       "lead_id              0\n",
       "dtype: int64"
      ]
     },
     "execution_count": 80,
     "metadata": {},
     "output_type": "execute_result"
    }
   ],
   "source": [
    "df.isna().sum()"
   ]
  },
  {
   "cell_type": "markdown",
   "id": "0a905c49",
   "metadata": {},
   "source": [
    "Therefore all the columns has no null values except budget column because I considered budget to be 0 for null values."
   ]
  },
  {
   "cell_type": "markdown",
   "id": "890c19e9",
   "metadata": {},
   "source": [
    "#### More data cleaning"
   ]
  },
  {
   "cell_type": "markdown",
   "id": "889c356d",
   "metadata": {},
   "source": [
    "Since our data is categorical we need to convert them now to numerical for building our model."
   ]
  },
  {
   "cell_type": "code",
   "execution_count": 83,
   "id": "91f38345",
   "metadata": {},
   "outputs": [
    {
     "data": {
      "text/html": [
       "<div>\n",
       "<style scoped>\n",
       "    .dataframe tbody tr th:only-of-type {\n",
       "        vertical-align: middle;\n",
       "    }\n",
       "\n",
       "    .dataframe tbody tr th {\n",
       "        vertical-align: top;\n",
       "    }\n",
       "\n",
       "    .dataframe thead th {\n",
       "        text-align: right;\n",
       "    }\n",
       "</style>\n",
       "<table border=\"1\" class=\"dataframe\">\n",
       "  <thead>\n",
       "    <tr style=\"text-align: right;\">\n",
       "      <th></th>\n",
       "      <th>Unnamed: 0</th>\n",
       "      <th>Agent_id</th>\n",
       "      <th>status</th>\n",
       "      <th>lost_reason</th>\n",
       "      <th>budget</th>\n",
       "      <th>lease</th>\n",
       "      <th>movein</th>\n",
       "      <th>source</th>\n",
       "      <th>source_city</th>\n",
       "      <th>source_country</th>\n",
       "      <th>utm_source</th>\n",
       "      <th>utm_medium</th>\n",
       "      <th>des_city</th>\n",
       "      <th>des_country</th>\n",
       "      <th>room_type</th>\n",
       "      <th>lead_id</th>\n",
       "    </tr>\n",
       "  </thead>\n",
       "  <tbody>\n",
       "    <tr>\n",
       "      <th>32019</th>\n",
       "      <td>32019</td>\n",
       "      <td>2fca346db656187102ce806ac732e06a62df0dbb2829e5...</td>\n",
       "      <td>LOST</td>\n",
       "      <td>Low availability</td>\n",
       "      <td>150</td>\n",
       "      <td>lease</td>\n",
       "      <td>01-01-1970</td>\n",
       "      <td>146fb4ecbe78caa24102bbaac12e2559a8c8e32fb116d3...</td>\n",
       "      <td>9b2d5b4678781e53038e91ea5324530a03f27dc1d0e5f6...</td>\n",
       "      <td>9b2d5b4678781e53038e91ea5324530a03f27dc1d0e5f6...</td>\n",
       "      <td>7f3fa48ca885678134842fa7456f3ece53a97f843b6101...</td>\n",
       "      <td>09bc8f0bb77bdddeb98527a39e995c2c605166399c178c...</td>\n",
       "      <td>4f00c4593da1a548582b1ebe1b922788912eeae5418345...</td>\n",
       "      <td>8d23a6e37e0a6431a8f1b43a91026dcff51170a89a6512...</td>\n",
       "      <td>Entire Place</td>\n",
       "      <td>0f077e25a0cc6f4c01c7427eb914842c28aabeec005a4f...</td>\n",
       "    </tr>\n",
       "    <tr>\n",
       "      <th>37860</th>\n",
       "      <td>37860</td>\n",
       "      <td>2fca346db656187102ce806ac732e06a62df0dbb2829e5...</td>\n",
       "      <td>LOST</td>\n",
       "      <td>Low availability</td>\n",
       "      <td>120</td>\n",
       "      <td>lease</td>\n",
       "      <td>01-01-1970</td>\n",
       "      <td>146fb4ecbe78caa24102bbaac12e2559a8c8e32fb116d3...</td>\n",
       "      <td>9b2d5b4678781e53038e91ea5324530a03f27dc1d0e5f6...</td>\n",
       "      <td>9b2d5b4678781e53038e91ea5324530a03f27dc1d0e5f6...</td>\n",
       "      <td>7f3fa48ca885678134842fa7456f3ece53a97f843b6101...</td>\n",
       "      <td>09bc8f0bb77bdddeb98527a39e995c2c605166399c178c...</td>\n",
       "      <td>4d89fc5548951b8aa7d1ee4e0af8d563c530ec89ed82b8...</td>\n",
       "      <td>8d23a6e37e0a6431a8f1b43a91026dcff51170a89a6512...</td>\n",
       "      <td>Studio</td>\n",
       "      <td>b244d01a52c16161c4bacf68cc3f9cb041a8c02d7e588e...</td>\n",
       "    </tr>\n",
       "    <tr>\n",
       "      <th>15994</th>\n",
       "      <td>15994</td>\n",
       "      <td>4596fcf257c4cd0393947526079ade602ea5a8a5774bf4...</td>\n",
       "      <td>LOST</td>\n",
       "      <td>Not interested</td>\n",
       "      <td>80</td>\n",
       "      <td>lease</td>\n",
       "      <td>01-01-1970</td>\n",
       "      <td>146fb4ecbe78caa24102bbaac12e2559a8c8e32fb116d3...</td>\n",
       "      <td>9b2d5b4678781e53038e91ea5324530a03f27dc1d0e5f6...</td>\n",
       "      <td>9b2d5b4678781e53038e91ea5324530a03f27dc1d0e5f6...</td>\n",
       "      <td>7f3fa48ca885678134842fa7456f3ece53a97f843b6101...</td>\n",
       "      <td>09bc8f0bb77bdddeb98527a39e995c2c605166399c178c...</td>\n",
       "      <td>5372372f3bf5896820cb2819300c3e681820d82c6efc54...</td>\n",
       "      <td>8d23a6e37e0a6431a8f1b43a91026dcff51170a89a6512...</td>\n",
       "      <td>Entire Place</td>\n",
       "      <td>f7037544e34910d3085f34ee7eb3e8de487e380bfcebd0...</td>\n",
       "    </tr>\n",
       "    <tr>\n",
       "      <th>42666</th>\n",
       "      <td>42666</td>\n",
       "      <td>5a39335b3529acae692acc9954d3b3d71f69e84963c9fb...</td>\n",
       "      <td>LOST</td>\n",
       "      <td>Low budget</td>\n",
       "      <td>110</td>\n",
       "      <td>lease</td>\n",
       "      <td>01-01-1970</td>\n",
       "      <td>146fb4ecbe78caa24102bbaac12e2559a8c8e32fb116d3...</td>\n",
       "      <td>9b2d5b4678781e53038e91ea5324530a03f27dc1d0e5f6...</td>\n",
       "      <td>9b2d5b4678781e53038e91ea5324530a03f27dc1d0e5f6...</td>\n",
       "      <td>7f3fa48ca885678134842fa7456f3ece53a97f843b6101...</td>\n",
       "      <td>09bc8f0bb77bdddeb98527a39e995c2c605166399c178c...</td>\n",
       "      <td>810c069040f6a9b16fdf976a901755508a87cb0224b169...</td>\n",
       "      <td>8d23a6e37e0a6431a8f1b43a91026dcff51170a89a6512...</td>\n",
       "      <td>Entire Place</td>\n",
       "      <td>e3adf32bdd4e10c4b9fdc11f6eb6a250af106cda7e6c42...</td>\n",
       "    </tr>\n",
       "    <tr>\n",
       "      <th>43557</th>\n",
       "      <td>43557</td>\n",
       "      <td>7697b388861aaddea5d7d183f314dafe63696673b3417c...</td>\n",
       "      <td>LOST</td>\n",
       "      <td>Low availability</td>\n",
       "      <td>150</td>\n",
       "      <td>lease</td>\n",
       "      <td>01-01-1970</td>\n",
       "      <td>146fb4ecbe78caa24102bbaac12e2559a8c8e32fb116d3...</td>\n",
       "      <td>9b2d5b4678781e53038e91ea5324530a03f27dc1d0e5f6...</td>\n",
       "      <td>9b2d5b4678781e53038e91ea5324530a03f27dc1d0e5f6...</td>\n",
       "      <td>7f3fa48ca885678134842fa7456f3ece53a97f843b6101...</td>\n",
       "      <td>09bc8f0bb77bdddeb98527a39e995c2c605166399c178c...</td>\n",
       "      <td>ecc0e7dc084f141b29479058967d0bc07dee25d9690a98...</td>\n",
       "      <td>8d23a6e37e0a6431a8f1b43a91026dcff51170a89a6512...</td>\n",
       "      <td>Ensuite</td>\n",
       "      <td>a7efd4ca85890489d083c0229d85fbb06c761b71c48daa...</td>\n",
       "    </tr>\n",
       "  </tbody>\n",
       "</table>\n",
       "</div>"
      ],
      "text/plain": [
       "       Unnamed: 0                                           Agent_id status  \\\n",
       "32019       32019  2fca346db656187102ce806ac732e06a62df0dbb2829e5...   LOST   \n",
       "37860       37860  2fca346db656187102ce806ac732e06a62df0dbb2829e5...   LOST   \n",
       "15994       15994  4596fcf257c4cd0393947526079ade602ea5a8a5774bf4...   LOST   \n",
       "42666       42666  5a39335b3529acae692acc9954d3b3d71f69e84963c9fb...   LOST   \n",
       "43557       43557  7697b388861aaddea5d7d183f314dafe63696673b3417c...   LOST   \n",
       "\n",
       "            lost_reason budget  lease      movein  \\\n",
       "32019  Low availability    150  lease  01-01-1970   \n",
       "37860  Low availability    120  lease  01-01-1970   \n",
       "15994    Not interested     80  lease  01-01-1970   \n",
       "42666        Low budget    110  lease  01-01-1970   \n",
       "43557  Low availability    150  lease  01-01-1970   \n",
       "\n",
       "                                                  source  \\\n",
       "32019  146fb4ecbe78caa24102bbaac12e2559a8c8e32fb116d3...   \n",
       "37860  146fb4ecbe78caa24102bbaac12e2559a8c8e32fb116d3...   \n",
       "15994  146fb4ecbe78caa24102bbaac12e2559a8c8e32fb116d3...   \n",
       "42666  146fb4ecbe78caa24102bbaac12e2559a8c8e32fb116d3...   \n",
       "43557  146fb4ecbe78caa24102bbaac12e2559a8c8e32fb116d3...   \n",
       "\n",
       "                                             source_city  \\\n",
       "32019  9b2d5b4678781e53038e91ea5324530a03f27dc1d0e5f6...   \n",
       "37860  9b2d5b4678781e53038e91ea5324530a03f27dc1d0e5f6...   \n",
       "15994  9b2d5b4678781e53038e91ea5324530a03f27dc1d0e5f6...   \n",
       "42666  9b2d5b4678781e53038e91ea5324530a03f27dc1d0e5f6...   \n",
       "43557  9b2d5b4678781e53038e91ea5324530a03f27dc1d0e5f6...   \n",
       "\n",
       "                                          source_country  \\\n",
       "32019  9b2d5b4678781e53038e91ea5324530a03f27dc1d0e5f6...   \n",
       "37860  9b2d5b4678781e53038e91ea5324530a03f27dc1d0e5f6...   \n",
       "15994  9b2d5b4678781e53038e91ea5324530a03f27dc1d0e5f6...   \n",
       "42666  9b2d5b4678781e53038e91ea5324530a03f27dc1d0e5f6...   \n",
       "43557  9b2d5b4678781e53038e91ea5324530a03f27dc1d0e5f6...   \n",
       "\n",
       "                                              utm_source  \\\n",
       "32019  7f3fa48ca885678134842fa7456f3ece53a97f843b6101...   \n",
       "37860  7f3fa48ca885678134842fa7456f3ece53a97f843b6101...   \n",
       "15994  7f3fa48ca885678134842fa7456f3ece53a97f843b6101...   \n",
       "42666  7f3fa48ca885678134842fa7456f3ece53a97f843b6101...   \n",
       "43557  7f3fa48ca885678134842fa7456f3ece53a97f843b6101...   \n",
       "\n",
       "                                              utm_medium  \\\n",
       "32019  09bc8f0bb77bdddeb98527a39e995c2c605166399c178c...   \n",
       "37860  09bc8f0bb77bdddeb98527a39e995c2c605166399c178c...   \n",
       "15994  09bc8f0bb77bdddeb98527a39e995c2c605166399c178c...   \n",
       "42666  09bc8f0bb77bdddeb98527a39e995c2c605166399c178c...   \n",
       "43557  09bc8f0bb77bdddeb98527a39e995c2c605166399c178c...   \n",
       "\n",
       "                                                des_city  \\\n",
       "32019  4f00c4593da1a548582b1ebe1b922788912eeae5418345...   \n",
       "37860  4d89fc5548951b8aa7d1ee4e0af8d563c530ec89ed82b8...   \n",
       "15994  5372372f3bf5896820cb2819300c3e681820d82c6efc54...   \n",
       "42666  810c069040f6a9b16fdf976a901755508a87cb0224b169...   \n",
       "43557  ecc0e7dc084f141b29479058967d0bc07dee25d9690a98...   \n",
       "\n",
       "                                             des_country     room_type  \\\n",
       "32019  8d23a6e37e0a6431a8f1b43a91026dcff51170a89a6512...  Entire Place   \n",
       "37860  8d23a6e37e0a6431a8f1b43a91026dcff51170a89a6512...        Studio   \n",
       "15994  8d23a6e37e0a6431a8f1b43a91026dcff51170a89a6512...  Entire Place   \n",
       "42666  8d23a6e37e0a6431a8f1b43a91026dcff51170a89a6512...  Entire Place   \n",
       "43557  8d23a6e37e0a6431a8f1b43a91026dcff51170a89a6512...       Ensuite   \n",
       "\n",
       "                                                 lead_id  \n",
       "32019  0f077e25a0cc6f4c01c7427eb914842c28aabeec005a4f...  \n",
       "37860  b244d01a52c16161c4bacf68cc3f9cb041a8c02d7e588e...  \n",
       "15994  f7037544e34910d3085f34ee7eb3e8de487e380bfcebd0...  \n",
       "42666  e3adf32bdd4e10c4b9fdc11f6eb6a250af106cda7e6c42...  \n",
       "43557  a7efd4ca85890489d083c0229d85fbb06c761b71c48daa...  "
      ]
     },
     "execution_count": 83,
     "metadata": {},
     "output_type": "execute_result"
    }
   ],
   "source": [
    "df.head()"
   ]
  },
  {
   "cell_type": "code",
   "execution_count": 84,
   "id": "1d9ced75",
   "metadata": {},
   "outputs": [],
   "source": [
    "df.drop('Unnamed: 0', axis=1, inplace=True)"
   ]
  },
  {
   "cell_type": "code",
   "execution_count": 86,
   "id": "4f46d4c0",
   "metadata": {},
   "outputs": [
    {
     "name": "stdout",
     "output_type": "stream",
     "text": [
      "<class 'pandas.core.frame.DataFrame'>\n",
      "Int64Index: 46608 entries, 32019 to 46600\n",
      "Data columns (total 15 columns):\n",
      " #   Column          Non-Null Count  Dtype \n",
      "---  ------          --------------  ----- \n",
      " 0   Agent_id        46608 non-null  object\n",
      " 1   status          46608 non-null  object\n",
      " 2   lost_reason     46608 non-null  object\n",
      " 3   budget          42908 non-null  object\n",
      " 4   lease           46608 non-null  object\n",
      " 5   movein          46608 non-null  object\n",
      " 6   source          46608 non-null  object\n",
      " 7   source_city     46608 non-null  object\n",
      " 8   source_country  46608 non-null  object\n",
      " 9   utm_source      46608 non-null  object\n",
      " 10  utm_medium      46608 non-null  object\n",
      " 11  des_city        46608 non-null  object\n",
      " 12  des_country     46608 non-null  object\n",
      " 13  room_type       46608 non-null  object\n",
      " 14  lead_id         46608 non-null  object\n",
      "dtypes: object(15)\n",
      "memory usage: 5.7+ MB\n"
     ]
    }
   ],
   "source": [
    "df.info()"
   ]
  },
  {
   "cell_type": "code",
   "execution_count": 61,
   "id": "1ee90484",
   "metadata": {},
   "outputs": [],
   "source": [
    "df1 = df.copy()"
   ]
  },
  {
   "cell_type": "code",
   "execution_count": 62,
   "id": "f2e2e46d",
   "metadata": {},
   "outputs": [
    {
     "name": "stdout",
     "output_type": "stream",
     "text": [
      "Index(['Agent_id', 'status', 'lost_reason', 'budget', 'lease', 'source',\n",
      "       'source_city', 'source_country', 'utm_source', 'utm_medium', 'des_city',\n",
      "       'des_country', 'lead_id'],\n",
      "      dtype='object')\n"
     ]
    }
   ],
   "source": [
    "objList = df1.select_dtypes(include = \"object\").columns\n",
    "print (objList)"
   ]
  },
  {
   "cell_type": "markdown",
   "id": "70173606",
   "metadata": {},
   "source": [
    "THERE ARE 13 ATTRIBUTES WITH Object Datatype. THUS WE NEED TO LABEL ENCODE THEM IN ORDER TO CHECK MULTICOLINEARITY."
   ]
  },
  {
   "cell_type": "code",
   "execution_count": 63,
   "id": "b73ce6a9",
   "metadata": {},
   "outputs": [
    {
     "name": "stdout",
     "output_type": "stream",
     "text": [
      "<class 'pandas.core.frame.DataFrame'>\n",
      "Int64Index: 46317 entries, 0 to 46607\n",
      "Data columns (total 13 columns):\n",
      " #   Column          Non-Null Count  Dtype\n",
      "---  ------          --------------  -----\n",
      " 0   Agent_id        46317 non-null  int32\n",
      " 1   status          46317 non-null  int32\n",
      " 2   lost_reason     46317 non-null  int32\n",
      " 3   budget          46317 non-null  int32\n",
      " 4   lease           46317 non-null  int32\n",
      " 5   source          46317 non-null  int32\n",
      " 6   source_city     46317 non-null  int32\n",
      " 7   source_country  46317 non-null  int32\n",
      " 8   utm_source      46317 non-null  int32\n",
      " 9   utm_medium      46317 non-null  int32\n",
      " 10  des_city        46317 non-null  int32\n",
      " 11  des_country     46317 non-null  int32\n",
      " 12  lead_id         46317 non-null  int32\n",
      "dtypes: int32(13)\n",
      "memory usage: 2.7 MB\n",
      "None\n"
     ]
    }
   ],
   "source": [
    "#Label Encoding for object to numeric conversion\n",
    "from sklearn.preprocessing import LabelEncoder\n",
    "le = LabelEncoder()\n",
    "\n",
    "for feat in objList:\n",
    "    df1[feat] = le.fit_transform(df1[feat].astype(str))\n",
    "\n",
    "print (df1.info())"
   ]
  },
  {
   "cell_type": "code",
   "execution_count": 64,
   "id": "dbecfa01",
   "metadata": {},
   "outputs": [
    {
     "data": {
      "text/html": [
       "<div>\n",
       "<style scoped>\n",
       "    .dataframe tbody tr th:only-of-type {\n",
       "        vertical-align: middle;\n",
       "    }\n",
       "\n",
       "    .dataframe tbody tr th {\n",
       "        vertical-align: top;\n",
       "    }\n",
       "\n",
       "    .dataframe thead th {\n",
       "        text-align: right;\n",
       "    }\n",
       "</style>\n",
       "<table border=\"1\" class=\"dataframe\">\n",
       "  <thead>\n",
       "    <tr style=\"text-align: right;\">\n",
       "      <th></th>\n",
       "      <th>Agent_id</th>\n",
       "      <th>status</th>\n",
       "      <th>lost_reason</th>\n",
       "      <th>budget</th>\n",
       "      <th>lease</th>\n",
       "      <th>source</th>\n",
       "      <th>source_city</th>\n",
       "      <th>source_country</th>\n",
       "      <th>utm_source</th>\n",
       "      <th>utm_medium</th>\n",
       "      <th>des_city</th>\n",
       "      <th>des_country</th>\n",
       "      <th>lead_id</th>\n",
       "    </tr>\n",
       "  </thead>\n",
       "  <tbody>\n",
       "    <tr>\n",
       "      <th>0</th>\n",
       "      <td>12</td>\n",
       "      <td>0</td>\n",
       "      <td>21</td>\n",
       "      <td>0</td>\n",
       "      <td>265</td>\n",
       "      <td>682</td>\n",
       "      <td>4315</td>\n",
       "      <td>184</td>\n",
       "      <td>5</td>\n",
       "      <td>10</td>\n",
       "      <td>205</td>\n",
       "      <td>8</td>\n",
       "      <td>24421</td>\n",
       "    </tr>\n",
       "    <tr>\n",
       "      <th>1</th>\n",
       "      <td>20</td>\n",
       "      <td>0</td>\n",
       "      <td>16</td>\n",
       "      <td>0</td>\n",
       "      <td>265</td>\n",
       "      <td>682</td>\n",
       "      <td>4315</td>\n",
       "      <td>184</td>\n",
       "      <td>5</td>\n",
       "      <td>10</td>\n",
       "      <td>74</td>\n",
       "      <td>8</td>\n",
       "      <td>22037</td>\n",
       "    </tr>\n",
       "    <tr>\n",
       "      <th>2</th>\n",
       "      <td>87</td>\n",
       "      <td>0</td>\n",
       "      <td>21</td>\n",
       "      <td>1</td>\n",
       "      <td>265</td>\n",
       "      <td>343</td>\n",
       "      <td>2619</td>\n",
       "      <td>165</td>\n",
       "      <td>25</td>\n",
       "      <td>3</td>\n",
       "      <td>18</td>\n",
       "      <td>8</td>\n",
       "      <td>17924</td>\n",
       "    </tr>\n",
       "    <tr>\n",
       "      <th>3</th>\n",
       "      <td>110</td>\n",
       "      <td>0</td>\n",
       "      <td>16</td>\n",
       "      <td>0</td>\n",
       "      <td>2</td>\n",
       "      <td>507</td>\n",
       "      <td>2817</td>\n",
       "      <td>165</td>\n",
       "      <td>25</td>\n",
       "      <td>3</td>\n",
       "      <td>26</td>\n",
       "      <td>8</td>\n",
       "      <td>3582</td>\n",
       "    </tr>\n",
       "    <tr>\n",
       "      <th>4</th>\n",
       "      <td>12</td>\n",
       "      <td>0</td>\n",
       "      <td>8</td>\n",
       "      <td>0</td>\n",
       "      <td>265</td>\n",
       "      <td>682</td>\n",
       "      <td>4315</td>\n",
       "      <td>184</td>\n",
       "      <td>5</td>\n",
       "      <td>10</td>\n",
       "      <td>219</td>\n",
       "      <td>14</td>\n",
       "      <td>30016</td>\n",
       "    </tr>\n",
       "    <tr>\n",
       "      <th>...</th>\n",
       "      <td>...</td>\n",
       "      <td>...</td>\n",
       "      <td>...</td>\n",
       "      <td>...</td>\n",
       "      <td>...</td>\n",
       "      <td>...</td>\n",
       "      <td>...</td>\n",
       "      <td>...</td>\n",
       "      <td>...</td>\n",
       "      <td>...</td>\n",
       "      <td>...</td>\n",
       "      <td>...</td>\n",
       "      <td>...</td>\n",
       "    </tr>\n",
       "    <tr>\n",
       "      <th>46603</th>\n",
       "      <td>15</td>\n",
       "      <td>0</td>\n",
       "      <td>15</td>\n",
       "      <td>5</td>\n",
       "      <td>260</td>\n",
       "      <td>682</td>\n",
       "      <td>2125</td>\n",
       "      <td>100</td>\n",
       "      <td>25</td>\n",
       "      <td>3</td>\n",
       "      <td>22</td>\n",
       "      <td>8</td>\n",
       "      <td>3295</td>\n",
       "    </tr>\n",
       "    <tr>\n",
       "      <th>46604</th>\n",
       "      <td>24</td>\n",
       "      <td>0</td>\n",
       "      <td>24</td>\n",
       "      <td>5</td>\n",
       "      <td>285</td>\n",
       "      <td>682</td>\n",
       "      <td>2695</td>\n",
       "      <td>100</td>\n",
       "      <td>25</td>\n",
       "      <td>3</td>\n",
       "      <td>135</td>\n",
       "      <td>8</td>\n",
       "      <td>3895</td>\n",
       "    </tr>\n",
       "    <tr>\n",
       "      <th>46605</th>\n",
       "      <td>5</td>\n",
       "      <td>0</td>\n",
       "      <td>15</td>\n",
       "      <td>3</td>\n",
       "      <td>265</td>\n",
       "      <td>343</td>\n",
       "      <td>2125</td>\n",
       "      <td>100</td>\n",
       "      <td>25</td>\n",
       "      <td>3</td>\n",
       "      <td>205</td>\n",
       "      <td>8</td>\n",
       "      <td>25937</td>\n",
       "    </tr>\n",
       "    <tr>\n",
       "      <th>46606</th>\n",
       "      <td>60</td>\n",
       "      <td>0</td>\n",
       "      <td>15</td>\n",
       "      <td>0</td>\n",
       "      <td>91</td>\n",
       "      <td>578</td>\n",
       "      <td>3943</td>\n",
       "      <td>133</td>\n",
       "      <td>19</td>\n",
       "      <td>49</td>\n",
       "      <td>205</td>\n",
       "      <td>8</td>\n",
       "      <td>3895</td>\n",
       "    </tr>\n",
       "    <tr>\n",
       "      <th>46607</th>\n",
       "      <td>13</td>\n",
       "      <td>0</td>\n",
       "      <td>15</td>\n",
       "      <td>2</td>\n",
       "      <td>265</td>\n",
       "      <td>343</td>\n",
       "      <td>351</td>\n",
       "      <td>165</td>\n",
       "      <td>25</td>\n",
       "      <td>3</td>\n",
       "      <td>85</td>\n",
       "      <td>8</td>\n",
       "      <td>13961</td>\n",
       "    </tr>\n",
       "  </tbody>\n",
       "</table>\n",
       "<p>46317 rows × 13 columns</p>\n",
       "</div>"
      ],
      "text/plain": [
       "       Agent_id  status  lost_reason  budget  lease  source  source_city  \\\n",
       "0            12       0           21       0    265     682         4315   \n",
       "1            20       0           16       0    265     682         4315   \n",
       "2            87       0           21       1    265     343         2619   \n",
       "3           110       0           16       0      2     507         2817   \n",
       "4            12       0            8       0    265     682         4315   \n",
       "...         ...     ...          ...     ...    ...     ...          ...   \n",
       "46603        15       0           15       5    260     682         2125   \n",
       "46604        24       0           24       5    285     682         2695   \n",
       "46605         5       0           15       3    265     343         2125   \n",
       "46606        60       0           15       0     91     578         3943   \n",
       "46607        13       0           15       2    265     343          351   \n",
       "\n",
       "       source_country  utm_source  utm_medium  des_city  des_country  lead_id  \n",
       "0                 184           5          10       205            8    24421  \n",
       "1                 184           5          10        74            8    22037  \n",
       "2                 165          25           3        18            8    17924  \n",
       "3                 165          25           3        26            8     3582  \n",
       "4                 184           5          10       219           14    30016  \n",
       "...               ...         ...         ...       ...          ...      ...  \n",
       "46603             100          25           3        22            8     3295  \n",
       "46604             100          25           3       135            8     3895  \n",
       "46605             100          25           3       205            8    25937  \n",
       "46606             133          19          49       205            8     3895  \n",
       "46607             165          25           3        85            8    13961  \n",
       "\n",
       "[46317 rows x 13 columns]"
      ]
     },
     "execution_count": 64,
     "metadata": {},
     "output_type": "execute_result"
    }
   ],
   "source": [
    "df1"
   ]
  },
  {
   "cell_type": "markdown",
   "id": "48066563",
   "metadata": {},
   "source": [
    "##### Using LabelEncoder method I converted the categorical data into numerical data."
   ]
  },
  {
   "cell_type": "markdown",
   "id": "aff8b124",
   "metadata": {},
   "source": [
    "LabelEncoder assigns a unique integer to each category in the data. For example, if you have a categorical feature called \"color\" with values \"red\", \"green\", and \"blue\", LabelEncoder would convert these values to 0, 1, and 2, respectively.\n",
    "\n",
    "The fit method of the LabelEncoder class is used to learn the mapping between the categories and the integers, and the transform method is used to apply this mapping to new data. "
   ]
  },
  {
   "cell_type": "code",
   "execution_count": 65,
   "id": "9bb210f0",
   "metadata": {},
   "outputs": [
    {
     "data": {
      "text/html": [
       "<div>\n",
       "<style scoped>\n",
       "    .dataframe tbody tr th:only-of-type {\n",
       "        vertical-align: middle;\n",
       "    }\n",
       "\n",
       "    .dataframe tbody tr th {\n",
       "        vertical-align: top;\n",
       "    }\n",
       "\n",
       "    .dataframe thead th {\n",
       "        text-align: right;\n",
       "    }\n",
       "</style>\n",
       "<table border=\"1\" class=\"dataframe\">\n",
       "  <thead>\n",
       "    <tr style=\"text-align: right;\">\n",
       "      <th></th>\n",
       "      <th>Agent_id</th>\n",
       "      <th>status</th>\n",
       "      <th>lost_reason</th>\n",
       "      <th>budget</th>\n",
       "      <th>lease</th>\n",
       "      <th>source</th>\n",
       "      <th>source_city</th>\n",
       "      <th>source_country</th>\n",
       "      <th>utm_source</th>\n",
       "      <th>utm_medium</th>\n",
       "      <th>des_city</th>\n",
       "      <th>des_country</th>\n",
       "      <th>lead_id</th>\n",
       "    </tr>\n",
       "  </thead>\n",
       "  <tbody>\n",
       "    <tr>\n",
       "      <th>count</th>\n",
       "      <td>46317.000000</td>\n",
       "      <td>46317.000000</td>\n",
       "      <td>46317.000000</td>\n",
       "      <td>46317.000000</td>\n",
       "      <td>46317.000000</td>\n",
       "      <td>46317.000000</td>\n",
       "      <td>46317.000000</td>\n",
       "      <td>46317.000000</td>\n",
       "      <td>46317.000000</td>\n",
       "      <td>46317.000000</td>\n",
       "      <td>46317.000000</td>\n",
       "      <td>46317.000000</td>\n",
       "      <td>46317.000000</td>\n",
       "    </tr>\n",
       "    <tr>\n",
       "      <th>mean</th>\n",
       "      <td>52.383531</td>\n",
       "      <td>0.066347</td>\n",
       "      <td>17.768983</td>\n",
       "      <td>1.383984</td>\n",
       "      <td>210.965434</td>\n",
       "      <td>412.872185</td>\n",
       "      <td>2672.680679</td>\n",
       "      <td>143.703802</td>\n",
       "      <td>22.236177</td>\n",
       "      <td>11.952566</td>\n",
       "      <td>120.641579</td>\n",
       "      <td>8.199948</td>\n",
       "      <td>15244.424358</td>\n",
       "    </tr>\n",
       "    <tr>\n",
       "      <th>std</th>\n",
       "      <td>35.958317</td>\n",
       "      <td>0.248891</td>\n",
       "      <td>5.763430</td>\n",
       "      <td>1.966303</td>\n",
       "      <td>102.385558</td>\n",
       "      <td>156.189815</td>\n",
       "      <td>1354.293783</td>\n",
       "      <td>46.114085</td>\n",
       "      <td>6.598797</td>\n",
       "      <td>18.134167</td>\n",
       "      <td>69.536681</td>\n",
       "      <td>1.749436</td>\n",
       "      <td>8809.690693</td>\n",
       "    </tr>\n",
       "    <tr>\n",
       "      <th>min</th>\n",
       "      <td>0.000000</td>\n",
       "      <td>0.000000</td>\n",
       "      <td>0.000000</td>\n",
       "      <td>0.000000</td>\n",
       "      <td>0.000000</td>\n",
       "      <td>0.000000</td>\n",
       "      <td>0.000000</td>\n",
       "      <td>0.000000</td>\n",
       "      <td>0.000000</td>\n",
       "      <td>0.000000</td>\n",
       "      <td>0.000000</td>\n",
       "      <td>0.000000</td>\n",
       "      <td>0.000000</td>\n",
       "    </tr>\n",
       "    <tr>\n",
       "      <th>25%</th>\n",
       "      <td>22.000000</td>\n",
       "      <td>0.000000</td>\n",
       "      <td>15.000000</td>\n",
       "      <td>0.000000</td>\n",
       "      <td>195.000000</td>\n",
       "      <td>343.000000</td>\n",
       "      <td>1559.000000</td>\n",
       "      <td>100.000000</td>\n",
       "      <td>22.000000</td>\n",
       "      <td>3.000000</td>\n",
       "      <td>70.000000</td>\n",
       "      <td>8.000000</td>\n",
       "      <td>7619.000000</td>\n",
       "    </tr>\n",
       "    <tr>\n",
       "      <th>50%</th>\n",
       "      <td>43.000000</td>\n",
       "      <td>0.000000</td>\n",
       "      <td>18.000000</td>\n",
       "      <td>0.000000</td>\n",
       "      <td>265.000000</td>\n",
       "      <td>343.000000</td>\n",
       "      <td>2718.000000</td>\n",
       "      <td>165.000000</td>\n",
       "      <td>25.000000</td>\n",
       "      <td>3.000000</td>\n",
       "      <td>117.000000</td>\n",
       "      <td>8.000000</td>\n",
       "      <td>15224.000000</td>\n",
       "    </tr>\n",
       "    <tr>\n",
       "      <th>75%</th>\n",
       "      <td>83.000000</td>\n",
       "      <td>0.000000</td>\n",
       "      <td>21.000000</td>\n",
       "      <td>2.000000</td>\n",
       "      <td>265.000000</td>\n",
       "      <td>507.000000</td>\n",
       "      <td>3995.000000</td>\n",
       "      <td>170.000000</td>\n",
       "      <td>25.000000</td>\n",
       "      <td>10.000000</td>\n",
       "      <td>198.000000</td>\n",
       "      <td>8.000000</td>\n",
       "      <td>22884.000000</td>\n",
       "    </tr>\n",
       "    <tr>\n",
       "      <th>max</th>\n",
       "      <td>119.000000</td>\n",
       "      <td>1.000000</td>\n",
       "      <td>29.000000</td>\n",
       "      <td>5.000000</td>\n",
       "      <td>309.000000</td>\n",
       "      <td>682.000000</td>\n",
       "      <td>4315.000000</td>\n",
       "      <td>184.000000</td>\n",
       "      <td>34.000000</td>\n",
       "      <td>63.000000</td>\n",
       "      <td>219.000000</td>\n",
       "      <td>14.000000</td>\n",
       "      <td>30490.000000</td>\n",
       "    </tr>\n",
       "  </tbody>\n",
       "</table>\n",
       "</div>"
      ],
      "text/plain": [
       "           Agent_id        status   lost_reason        budget         lease  \\\n",
       "count  46317.000000  46317.000000  46317.000000  46317.000000  46317.000000   \n",
       "mean      52.383531      0.066347     17.768983      1.383984    210.965434   \n",
       "std       35.958317      0.248891      5.763430      1.966303    102.385558   \n",
       "min        0.000000      0.000000      0.000000      0.000000      0.000000   \n",
       "25%       22.000000      0.000000     15.000000      0.000000    195.000000   \n",
       "50%       43.000000      0.000000     18.000000      0.000000    265.000000   \n",
       "75%       83.000000      0.000000     21.000000      2.000000    265.000000   \n",
       "max      119.000000      1.000000     29.000000      5.000000    309.000000   \n",
       "\n",
       "             source   source_city  source_country    utm_source    utm_medium  \\\n",
       "count  46317.000000  46317.000000    46317.000000  46317.000000  46317.000000   \n",
       "mean     412.872185   2672.680679      143.703802     22.236177     11.952566   \n",
       "std      156.189815   1354.293783       46.114085      6.598797     18.134167   \n",
       "min        0.000000      0.000000        0.000000      0.000000      0.000000   \n",
       "25%      343.000000   1559.000000      100.000000     22.000000      3.000000   \n",
       "50%      343.000000   2718.000000      165.000000     25.000000      3.000000   \n",
       "75%      507.000000   3995.000000      170.000000     25.000000     10.000000   \n",
       "max      682.000000   4315.000000      184.000000     34.000000     63.000000   \n",
       "\n",
       "           des_city   des_country       lead_id  \n",
       "count  46317.000000  46317.000000  46317.000000  \n",
       "mean     120.641579      8.199948  15244.424358  \n",
       "std       69.536681      1.749436   8809.690693  \n",
       "min        0.000000      0.000000      0.000000  \n",
       "25%       70.000000      8.000000   7619.000000  \n",
       "50%      117.000000      8.000000  15224.000000  \n",
       "75%      198.000000      8.000000  22884.000000  \n",
       "max      219.000000     14.000000  30490.000000  "
      ]
     },
     "execution_count": 65,
     "metadata": {},
     "output_type": "execute_result"
    }
   ],
   "source": [
    "df1.describe()"
   ]
  },
  {
   "cell_type": "code",
   "execution_count": 66,
   "id": "29180d92",
   "metadata": {},
   "outputs": [
    {
     "data": {
      "text/html": [
       "<div>\n",
       "<style scoped>\n",
       "    .dataframe tbody tr th:only-of-type {\n",
       "        vertical-align: middle;\n",
       "    }\n",
       "\n",
       "    .dataframe tbody tr th {\n",
       "        vertical-align: top;\n",
       "    }\n",
       "\n",
       "    .dataframe thead th {\n",
       "        text-align: right;\n",
       "    }\n",
       "</style>\n",
       "<table border=\"1\" class=\"dataframe\">\n",
       "  <thead>\n",
       "    <tr style=\"text-align: right;\">\n",
       "      <th></th>\n",
       "      <th>variables</th>\n",
       "      <th>VIF</th>\n",
       "    </tr>\n",
       "  </thead>\n",
       "  <tbody>\n",
       "    <tr>\n",
       "      <th>0</th>\n",
       "      <td>Agent_id</td>\n",
       "      <td>3.157274</td>\n",
       "    </tr>\n",
       "    <tr>\n",
       "      <th>1</th>\n",
       "      <td>status</td>\n",
       "      <td>1.091123</td>\n",
       "    </tr>\n",
       "    <tr>\n",
       "      <th>2</th>\n",
       "      <td>lost_reason</td>\n",
       "      <td>9.700593</td>\n",
       "    </tr>\n",
       "    <tr>\n",
       "      <th>3</th>\n",
       "      <td>budget</td>\n",
       "      <td>1.938910</td>\n",
       "    </tr>\n",
       "    <tr>\n",
       "      <th>4</th>\n",
       "      <td>lease</td>\n",
       "      <td>-4.086270</td>\n",
       "    </tr>\n",
       "    <tr>\n",
       "      <th>5</th>\n",
       "      <td>source</td>\n",
       "      <td>0.340477</td>\n",
       "    </tr>\n",
       "    <tr>\n",
       "      <th>6</th>\n",
       "      <td>source_city</td>\n",
       "      <td>-0.011483</td>\n",
       "    </tr>\n",
       "    <tr>\n",
       "      <th>7</th>\n",
       "      <td>source_country</td>\n",
       "      <td>11.240840</td>\n",
       "    </tr>\n",
       "    <tr>\n",
       "      <th>8</th>\n",
       "      <td>utm_source</td>\n",
       "      <td>10.502649</td>\n",
       "    </tr>\n",
       "    <tr>\n",
       "      <th>9</th>\n",
       "      <td>utm_medium</td>\n",
       "      <td>1.653109</td>\n",
       "    </tr>\n",
       "    <tr>\n",
       "      <th>10</th>\n",
       "      <td>des_city</td>\n",
       "      <td>4.639093</td>\n",
       "    </tr>\n",
       "    <tr>\n",
       "      <th>11</th>\n",
       "      <td>des_country</td>\n",
       "      <td>21.245791</td>\n",
       "    </tr>\n",
       "    <tr>\n",
       "      <th>12</th>\n",
       "      <td>lead_id</td>\n",
       "      <td>0.000070</td>\n",
       "    </tr>\n",
       "  </tbody>\n",
       "</table>\n",
       "</div>"
      ],
      "text/plain": [
       "         variables        VIF\n",
       "0         Agent_id   3.157274\n",
       "1           status   1.091123\n",
       "2      lost_reason   9.700593\n",
       "3           budget   1.938910\n",
       "4            lease  -4.086270\n",
       "5           source   0.340477\n",
       "6      source_city  -0.011483\n",
       "7   source_country  11.240840\n",
       "8       utm_source  10.502649\n",
       "9       utm_medium   1.653109\n",
       "10        des_city   4.639093\n",
       "11     des_country  21.245791\n",
       "12         lead_id   0.000070"
      ]
     },
     "execution_count": 66,
     "metadata": {},
     "output_type": "execute_result"
    }
   ],
   "source": [
    "# Import library for VIF (VARIANCE INFLATION FACTOR)\n",
    "\n",
    "from statsmodels.stats.outliers_influence import variance_inflation_factor\n",
    "\n",
    "def calc_vif(df):\n",
    "\n",
    "    # Calculating VIF\n",
    "    vif = pd.DataFrame()\n",
    "    vif[\"variables\"] = df1.columns\n",
    "    vif[\"VIF\"] = [variance_inflation_factor(df1.values, i) for i in range(df1.shape[1])]\n",
    "\n",
    "    return(vif)\n",
    "\n",
    "calc_vif(df1)"
   ]
  },
  {
   "cell_type": "code",
   "execution_count": 67,
   "id": "f217874c",
   "metadata": {},
   "outputs": [],
   "source": [
    "#dropping 'des_country' due to high VIF value\n",
    "df1.drop('des_country', axis=1, inplace=True)"
   ]
  },
  {
   "cell_type": "code",
   "execution_count": 68,
   "id": "17b6a64a",
   "metadata": {},
   "outputs": [],
   "source": [
    "#drop Agent_id, lead_id as these features does not provide any useful information for modeling.\n",
    "df1 = df1.drop(['Agent_id', 'lead_id'], axis=1)"
   ]
  },
  {
   "cell_type": "code",
   "execution_count": 69,
   "id": "df5bea87",
   "metadata": {},
   "outputs": [
    {
     "data": {
      "text/plain": [
       "<AxesSubplot:>"
      ]
     },
     "execution_count": 69,
     "metadata": {},
     "output_type": "execute_result"
    },
    {
     "data": {
      "image/png": "[encoded data removed]",
      "text/plain": [
       "<Figure size 1080x720 with 2 Axes>"
      ]
     },
     "metadata": {
      "needs_background": "light"
     },
     "output_type": "display_data"
    }
   ],
   "source": [
    "corr= df1.corr()\n",
    "\n",
    "plt.figure(figsize=(15,10))\n",
    "sns.heatmap(corr,annot=True)"
   ]
  },
  {
   "cell_type": "markdown",
   "id": "aabebbca",
   "metadata": {},
   "source": [
    "### Model Building"
   ]
  },
  {
   "cell_type": "code",
   "execution_count": 70,
   "id": "19d04b0e",
   "metadata": {},
   "outputs": [],
   "source": [
    "from sklearn.model_selection import train_test_split\n",
    "from sklearn.ensemble import RandomForestClassifier\n",
    "from sklearn.tree import DecisionTreeClassifier\n",
    "import itertools\n",
    "from collections import Counter\n",
    "import sklearn.metrics as metrics\n",
    "from sklearn.metrics import classification_report, confusion_matrix, ConfusionMatrixDisplay"
   ]
  },
  {
   "cell_type": "code",
   "execution_count": 71,
   "id": "4bafc9e9",
   "metadata": {},
   "outputs": [
    {
     "data": {
      "text/html": [
       "<div>\n",
       "<style scoped>\n",
       "    .dataframe tbody tr th:only-of-type {\n",
       "        vertical-align: middle;\n",
       "    }\n",
       "\n",
       "    .dataframe tbody tr th {\n",
       "        vertical-align: top;\n",
       "    }\n",
       "\n",
       "    .dataframe thead th {\n",
       "        text-align: right;\n",
       "    }\n",
       "</style>\n",
       "<table border=\"1\" class=\"dataframe\">\n",
       "  <thead>\n",
       "    <tr style=\"text-align: right;\">\n",
       "      <th></th>\n",
       "      <th>status</th>\n",
       "      <th>lost_reason</th>\n",
       "      <th>budget</th>\n",
       "      <th>lease</th>\n",
       "      <th>source</th>\n",
       "      <th>source_city</th>\n",
       "      <th>source_country</th>\n",
       "      <th>utm_source</th>\n",
       "      <th>utm_medium</th>\n",
       "      <th>des_city</th>\n",
       "    </tr>\n",
       "  </thead>\n",
       "  <tbody>\n",
       "    <tr>\n",
       "      <th>0</th>\n",
       "      <td>0</td>\n",
       "      <td>21</td>\n",
       "      <td>0</td>\n",
       "      <td>265</td>\n",
       "      <td>682</td>\n",
       "      <td>4315</td>\n",
       "      <td>184</td>\n",
       "      <td>5</td>\n",
       "      <td>10</td>\n",
       "      <td>205</td>\n",
       "    </tr>\n",
       "    <tr>\n",
       "      <th>1</th>\n",
       "      <td>0</td>\n",
       "      <td>16</td>\n",
       "      <td>0</td>\n",
       "      <td>265</td>\n",
       "      <td>682</td>\n",
       "      <td>4315</td>\n",
       "      <td>184</td>\n",
       "      <td>5</td>\n",
       "      <td>10</td>\n",
       "      <td>74</td>\n",
       "    </tr>\n",
       "    <tr>\n",
       "      <th>2</th>\n",
       "      <td>0</td>\n",
       "      <td>21</td>\n",
       "      <td>1</td>\n",
       "      <td>265</td>\n",
       "      <td>343</td>\n",
       "      <td>2619</td>\n",
       "      <td>165</td>\n",
       "      <td>25</td>\n",
       "      <td>3</td>\n",
       "      <td>18</td>\n",
       "    </tr>\n",
       "    <tr>\n",
       "      <th>3</th>\n",
       "      <td>0</td>\n",
       "      <td>16</td>\n",
       "      <td>0</td>\n",
       "      <td>2</td>\n",
       "      <td>507</td>\n",
       "      <td>2817</td>\n",
       "      <td>165</td>\n",
       "      <td>25</td>\n",
       "      <td>3</td>\n",
       "      <td>26</td>\n",
       "    </tr>\n",
       "    <tr>\n",
       "      <th>4</th>\n",
       "      <td>0</td>\n",
       "      <td>8</td>\n",
       "      <td>0</td>\n",
       "      <td>265</td>\n",
       "      <td>682</td>\n",
       "      <td>4315</td>\n",
       "      <td>184</td>\n",
       "      <td>5</td>\n",
       "      <td>10</td>\n",
       "      <td>219</td>\n",
       "    </tr>\n",
       "    <tr>\n",
       "      <th>...</th>\n",
       "      <td>...</td>\n",
       "      <td>...</td>\n",
       "      <td>...</td>\n",
       "      <td>...</td>\n",
       "      <td>...</td>\n",
       "      <td>...</td>\n",
       "      <td>...</td>\n",
       "      <td>...</td>\n",
       "      <td>...</td>\n",
       "      <td>...</td>\n",
       "    </tr>\n",
       "    <tr>\n",
       "      <th>46603</th>\n",
       "      <td>0</td>\n",
       "      <td>15</td>\n",
       "      <td>5</td>\n",
       "      <td>260</td>\n",
       "      <td>682</td>\n",
       "      <td>2125</td>\n",
       "      <td>100</td>\n",
       "      <td>25</td>\n",
       "      <td>3</td>\n",
       "      <td>22</td>\n",
       "    </tr>\n",
       "    <tr>\n",
       "      <th>46604</th>\n",
       "      <td>0</td>\n",
       "      <td>24</td>\n",
       "      <td>5</td>\n",
       "      <td>285</td>\n",
       "      <td>682</td>\n",
       "      <td>2695</td>\n",
       "      <td>100</td>\n",
       "      <td>25</td>\n",
       "      <td>3</td>\n",
       "      <td>135</td>\n",
       "    </tr>\n",
       "    <tr>\n",
       "      <th>46605</th>\n",
       "      <td>0</td>\n",
       "      <td>15</td>\n",
       "      <td>3</td>\n",
       "      <td>265</td>\n",
       "      <td>343</td>\n",
       "      <td>2125</td>\n",
       "      <td>100</td>\n",
       "      <td>25</td>\n",
       "      <td>3</td>\n",
       "      <td>205</td>\n",
       "    </tr>\n",
       "    <tr>\n",
       "      <th>46606</th>\n",
       "      <td>0</td>\n",
       "      <td>15</td>\n",
       "      <td>0</td>\n",
       "      <td>91</td>\n",
       "      <td>578</td>\n",
       "      <td>3943</td>\n",
       "      <td>133</td>\n",
       "      <td>19</td>\n",
       "      <td>49</td>\n",
       "      <td>205</td>\n",
       "    </tr>\n",
       "    <tr>\n",
       "      <th>46607</th>\n",
       "      <td>0</td>\n",
       "      <td>15</td>\n",
       "      <td>2</td>\n",
       "      <td>265</td>\n",
       "      <td>343</td>\n",
       "      <td>351</td>\n",
       "      <td>165</td>\n",
       "      <td>25</td>\n",
       "      <td>3</td>\n",
       "      <td>85</td>\n",
       "    </tr>\n",
       "  </tbody>\n",
       "</table>\n",
       "<p>46317 rows × 10 columns</p>\n",
       "</div>"
      ],
      "text/plain": [
       "       status  lost_reason  budget  lease  source  source_city  \\\n",
       "0           0           21       0    265     682         4315   \n",
       "1           0           16       0    265     682         4315   \n",
       "2           0           21       1    265     343         2619   \n",
       "3           0           16       0      2     507         2817   \n",
       "4           0            8       0    265     682         4315   \n",
       "...       ...          ...     ...    ...     ...          ...   \n",
       "46603       0           15       5    260     682         2125   \n",
       "46604       0           24       5    285     682         2695   \n",
       "46605       0           15       3    265     343         2125   \n",
       "46606       0           15       0     91     578         3943   \n",
       "46607       0           15       2    265     343          351   \n",
       "\n",
       "       source_country  utm_source  utm_medium  des_city  \n",
       "0                 184           5          10       205  \n",
       "1                 184           5          10        74  \n",
       "2                 165          25           3        18  \n",
       "3                 165          25           3        26  \n",
       "4                 184           5          10       219  \n",
       "...               ...         ...         ...       ...  \n",
       "46603             100          25           3        22  \n",
       "46604             100          25           3       135  \n",
       "46605             100          25           3       205  \n",
       "46606             133          19          49       205  \n",
       "46607             165          25           3        85  \n",
       "\n",
       "[46317 rows x 10 columns]"
      ]
     },
     "execution_count": 71,
     "metadata": {},
     "output_type": "execute_result"
    }
   ],
   "source": [
    "df1"
   ]
  },
  {
   "cell_type": "code",
   "execution_count": 72,
   "id": "e36dc834",
   "metadata": {},
   "outputs": [
    {
     "data": {
      "text/plain": [
       "Index(['status', 'lost_reason', 'budget', 'lease', 'source', 'source_city',\n",
       "       'source_country', 'utm_source', 'utm_medium', 'des_city'],\n",
       "      dtype='object')"
      ]
     },
     "execution_count": 72,
     "metadata": {},
     "output_type": "execute_result"
    }
   ],
   "source": [
    "df1.columns"
   ]
  },
  {
   "cell_type": "code",
   "execution_count": 75,
   "id": "88ed4a09",
   "metadata": {},
   "outputs": [
    {
     "data": {
      "text/plain": [
       "(46317, 9)"
      ]
     },
     "execution_count": 75,
     "metadata": {},
     "output_type": "execute_result"
    }
   ],
   "source": [
    "x = df1.drop('status',axis=1)\n",
    "x.shape"
   ]
  },
  {
   "cell_type": "code",
   "execution_count": 76,
   "id": "e3259c7c",
   "metadata": {},
   "outputs": [
    {
     "data": {
      "text/plain": [
       "(46317,)"
      ]
     },
     "execution_count": 76,
     "metadata": {},
     "output_type": "execute_result"
    }
   ],
   "source": [
    "y = df1['status']\n",
    "y.shape"
   ]
  },
  {
   "cell_type": "code",
   "execution_count": 77,
   "id": "492a8c55",
   "metadata": {},
   "outputs": [],
   "source": [
    "xrf_train,xrf_test,yrf_train,yrf_test = train_test_split(x, y,test_size=0.2)"
   ]
  },
  {
   "cell_type": "markdown",
   "id": "cd30ba78",
   "metadata": {},
   "source": [
    "### Random Forest"
   ]
  },
  {
   "cell_type": "code",
   "execution_count": 78,
   "id": "f5d478b9",
   "metadata": {},
   "outputs": [
    {
     "data": {
      "text/plain": [
       "RandomForestClassifier(max_depth=6, min_samples_leaf=8, random_state=100)"
      ]
     },
     "execution_count": 78,
     "metadata": {},
     "output_type": "execute_result"
    }
   ],
   "source": [
    "model_xrf = RandomForestClassifier(n_estimators=100, criterion='gini', random_state = 100,max_depth=6, min_samples_leaf=8)\n",
    "model_xrf.fit(xrf_train,yrf_train)"
   ]
  },
  {
   "cell_type": "code",
   "execution_count": 79,
   "id": "b9c8d0b2",
   "metadata": {},
   "outputs": [],
   "source": [
    "yrf_predict = model_xrf.predict(xrf_test)\n",
    "model_score_r = model_xrf.score(xrf_test, yrf_test)"
   ]
  },
  {
   "cell_type": "code",
   "execution_count": 80,
   "id": "753543cc",
   "metadata": {},
   "outputs": [
    {
     "data": {
      "text/plain": [
       "0.9417098445595855"
      ]
     },
     "execution_count": 80,
     "metadata": {},
     "output_type": "execute_result"
    }
   ],
   "source": [
    "model_score_r"
   ]
  },
  {
   "cell_type": "code",
   "execution_count": 81,
   "id": "d31d02dd",
   "metadata": {},
   "outputs": [
    {
     "name": "stdout",
     "output_type": "stream",
     "text": [
      "              precision    recall  f1-score   support\n",
      "\n",
      "           0       0.94      1.00      0.97      8678\n",
      "           1       0.98      0.08      0.15       586\n",
      "\n",
      "    accuracy                           0.94      9264\n",
      "   macro avg       0.96      0.54      0.56      9264\n",
      "weighted avg       0.94      0.94      0.92      9264\n",
      "\n"
     ]
    }
   ],
   "source": [
    "print(metrics.classification_report(yrf_test, yrf_predict))"
   ]
  },
  {
   "cell_type": "code",
   "execution_count": 82,
   "id": "913fb8bd",
   "metadata": {},
   "outputs": [
    {
     "name": "stdout",
     "output_type": "stream",
     "text": [
      "[[8677    1]\n",
      " [ 539   47]]\n"
     ]
    }
   ],
   "source": [
    "print(metrics.confusion_matrix(yrf_test, yrf_predict))"
   ]
  },
  {
   "cell_type": "code",
   "execution_count": 83,
   "id": "6b79ceb0",
   "metadata": {},
   "outputs": [
    {
     "data": {
      "image/png": "[encoded data removed]",
      "text/plain": [
       "<Figure size 360x360 with 2 Axes>"
      ]
     },
     "metadata": {
      "needs_background": "light"
     },
     "output_type": "display_data"
    }
   ],
   "source": [
    "conf_mat = confusion_matrix(yrf_test, yrf_predict)\n",
    "\n",
    "plt.figure(figsize=(5,5))\n",
    "sns.heatmap(conf_mat, annot=True, cmap=\"YlGnBu_r\", fmt='d',\n",
    "            xticklabels=['True Negative','False Positive'], \n",
    "            yticklabels=['False Negative','True Positive'])\n",
    "\n",
    "plt.xlabel('Predicted')\n",
    "plt.ylabel('True')\n",
    "plt.title('Confusion Matrix')\n",
    "plt.show()"
   ]
  },
  {
   "cell_type": "code",
   "execution_count": 85,
   "id": "db027835",
   "metadata": {},
   "outputs": [],
   "source": [
    "# Predict the probability of positive class\n",
    "y_score = model_xrf.predict_proba(xrf_test)[:, 1]"
   ]
  },
  {
   "cell_type": "code",
   "execution_count": 87,
   "id": "03c9b16e",
   "metadata": {},
   "outputs": [],
   "source": [
    "from sklearn.metrics import roc_auc_score, roc_curve"
   ]
  },
  {
   "cell_type": "code",
   "execution_count": 88,
   "id": "bc4e1675",
   "metadata": {},
   "outputs": [
    {
     "data": {
      "image/png": "[encoded data removed]",
      "text/plain": [
       "<Figure size 432x288 with 1 Axes>"
      ]
     },
     "metadata": {
      "needs_background": "light"
     },
     "output_type": "display_data"
    }
   ],
   "source": [
    "# Calculate the ROC curve and the AUC\n",
    "fpr, tpr, _ = roc_curve(yrf_test, y_score)\n",
    "roc_auc = roc_auc_score(yrf_test, y_score)\n",
    "\n",
    "# Plot the ROC curve\n",
    "plt.figure()\n",
    "plt.plot(fpr, tpr, label='ROC curve (AUC = %0.2f)' % roc_auc)\n",
    "plt.plot([0, 1], [0, 1], 'k--')\n",
    "plt.xlim([0.0, 1.0])\n",
    "plt.ylim([0.0, 1.05])\n",
    "plt.xlabel('False Positive Rate')\n",
    "plt.ylabel('True Positive Rate')\n",
    "plt.title('ROC Curve for Random Forest')\n",
    "plt.legend(loc=\"lower right\")\n",
    "plt.show()"
   ]
  },
  {
   "cell_type": "markdown",
   "id": "bd0d6883",
   "metadata": {},
   "source": [
    "### Decision Tree"
   ]
  },
  {
   "cell_type": "code",
   "execution_count": 89,
   "id": "bf7cdb46",
   "metadata": {},
   "outputs": [],
   "source": [
    "clf = DecisionTreeClassifier(criterion=\"entropy\")"
   ]
  },
  {
   "cell_type": "code",
   "execution_count": 91,
   "id": "67f77cdd",
   "metadata": {},
   "outputs": [
    {
     "data": {
      "text/plain": [
       "DecisionTreeClassifier(criterion='entropy')"
      ]
     },
     "execution_count": 91,
     "metadata": {},
     "output_type": "execute_result"
    }
   ],
   "source": [
    "clf.fit(xrf_train, yrf_train)"
   ]
  },
  {
   "cell_type": "code",
   "execution_count": 92,
   "id": "f43546e9",
   "metadata": {},
   "outputs": [
    {
     "name": "stdout",
     "output_type": "stream",
     "text": [
      "Accuracy: 97.41%\n"
     ]
    }
   ],
   "source": [
    "accuracy = clf.score(xrf_test, yrf_test)\n",
    "print(\"Accuracy: {:.2f}%\".format(accuracy * 100))"
   ]
  },
  {
   "cell_type": "code",
   "execution_count": 93,
   "id": "6ecbe51d",
   "metadata": {},
   "outputs": [],
   "source": [
    "y_predict = clf.predict(xrf_test)\n",
    "model_score = clf.score(xrf_test, yrf_test)"
   ]
  },
  {
   "cell_type": "code",
   "execution_count": 94,
   "id": "24fd9e2c",
   "metadata": {},
   "outputs": [
    {
     "data": {
      "text/plain": [
       "0.9740932642487047"
      ]
     },
     "execution_count": 94,
     "metadata": {},
     "output_type": "execute_result"
    }
   ],
   "source": [
    "model_score"
   ]
  },
  {
   "cell_type": "code",
   "execution_count": 95,
   "id": "e48ff97e",
   "metadata": {},
   "outputs": [
    {
     "name": "stdout",
     "output_type": "stream",
     "text": [
      "              precision    recall  f1-score   support\n",
      "\n",
      "           0       0.94      1.00      0.97      8678\n",
      "           1       0.98      0.08      0.15       586\n",
      "\n",
      "    accuracy                           0.94      9264\n",
      "   macro avg       0.96      0.54      0.56      9264\n",
      "weighted avg       0.94      0.94      0.92      9264\n",
      "\n"
     ]
    }
   ],
   "source": [
    "print(metrics.classification_report(yrf_test, yrf_predict))"
   ]
  },
  {
   "cell_type": "code",
   "execution_count": 97,
   "id": "ffbc2dcb",
   "metadata": {},
   "outputs": [
    {
     "name": "stdout",
     "output_type": "stream",
     "text": [
      "[[8677    1]\n",
      " [ 539   47]]\n"
     ]
    }
   ],
   "source": [
    "print(metrics.confusion_matrix(yrf_test, yrf_predict))"
   ]
  },
  {
   "cell_type": "code",
   "execution_count": 98,
   "id": "abdc37bf",
   "metadata": {},
   "outputs": [
    {
     "data": {
      "image/png": "[encoded data removed]",
      "text/plain": [
       "<Figure size 360x360 with 2 Axes>"
      ]
     },
     "metadata": {
      "needs_background": "light"
     },
     "output_type": "display_data"
    }
   ],
   "source": [
    "conf_mat = confusion_matrix(yrf_test, yrf_predict)\n",
    "\n",
    "plt.figure(figsize=(5,5))\n",
    "sns.heatmap(conf_mat, annot=True, cmap=\"coolwarm_r\", fmt='d',\n",
    "            xticklabels=['True Negative','False Positive'], \n",
    "            yticklabels=['False Negative','True Positive'])\n",
    "\n",
    "plt.xlabel('Predicted')\n",
    "plt.ylabel('True')\n",
    "plt.title('Confusion Matrix')\n",
    "plt.show()"
   ]
  },
  {
   "cell_type": "code",
   "execution_count": 99,
   "id": "679c988c",
   "metadata": {},
   "outputs": [],
   "source": [
    "# Predict the probability of positive class\n",
    "y_score_r1 = clf.predict_proba(xrf_test)[:, 1]"
   ]
  },
  {
   "cell_type": "code",
   "execution_count": 100,
   "id": "2260b603",
   "metadata": {},
   "outputs": [
    {
     "data": {
      "image/png": "[encoded data removed]",
      "text/plain": [
       "<Figure size 432x288 with 1 Axes>"
      ]
     },
     "metadata": {
      "needs_background": "light"
     },
     "output_type": "display_data"
    }
   ],
   "source": [
    "# Calculate the ROC curve and the AUC\n",
    "fpr, tpr, _ = roc_curve(yrf_test, y_score)\n",
    "roc_auc = roc_auc_score(yrf_test, y_score)\n",
    "\n",
    "# Plot the ROC curve\n",
    "plt.figure()\n",
    "plt.plot(fpr, tpr, label='ROC curve (AUC = %0.2f)' % roc_auc)\n",
    "plt.plot([0, 1], [0, 1], 'k--')\n",
    "plt.xlim([0.0, 1.0])\n",
    "plt.ylim([0.0, 1.05])\n",
    "plt.xlabel('False Positive Rate')\n",
    "plt.ylabel('True Positive Rate')\n",
    "plt.title('ROC Curve for Decision Tree')\n",
    "plt.legend(loc=\"lower right\")\n",
    "plt.show()"
   ]
  },
  {
   "cell_type": "markdown",
   "id": "2ef027aa",
   "metadata": {},
   "source": [
    "Decision tree model predicts with a better accuracy than Random forest."
   ]
  },
  {
   "cell_type": "markdown",
   "id": "474ec93e",
   "metadata": {},
   "source": [
    "Decision tree predicts with an accuracy of 97%"
   ]
  }
 ],
 "metadata": {
  "kernelspec": {
   "display_name": "Python 3 (ipykernel)",
   "language": "python",
   "name": "python3"
  },
  "language_info": {
   "codemirror_mode": {
    "name": "ipython",
    "version": 3
   },
   "file_extension": ".py",
   "mimetype": "text/x-python",
   "name": "python",
   "nbconvert_exporter": "python",
   "pygments_lexer": "ipython3",
   "version": "3.9.12"
  }
 },
 "nbformat": 4,
 "nbformat_minor": 5
}
